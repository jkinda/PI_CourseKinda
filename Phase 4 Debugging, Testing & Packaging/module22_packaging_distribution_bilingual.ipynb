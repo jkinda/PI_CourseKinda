{
 "cells": [
  {
   "cell_type": "markdown",
   "id": "e33c22c7",
   "metadata": {},
   "source": [
    "# Module 22: Packaging and Distribution\n",
    "## Module 22 : Packaging et Distribution"
   ]
  },
  {
   "cell_type": "markdown",
   "id": "97824118",
   "metadata": {},
   "source": [
    "## 1. Why This Matters / 1. Pourquoi c'est important\n",
    "- **English:** Proper packaging makes your code easy to install and share. Publishing to PyPI lets others use your libraries.\n",
    "- **Français :** Bien empaqueter votre code facilite son installation et son partage. Publier sur PyPI permet à d'autres d'utiliser votre bibliothèque."
   ]
  },
  {
   "cell_type": "markdown",
   "id": "57e454d0",
   "metadata": {},
   "source": [
    "## 2. Spaced & Interleaved Review / 2. Révision espacée et mélangée\n",
    "- **Flash-back:** How do you write a setup function? / Comment écrit-on une fonction de configuration ?\n",
    "- **Interleaving:** How could you use a package folder inside another project? / Comment utiliser un dossier package dans un autre projet ?"
   ]
  },
  {
   "cell_type": "markdown",
   "id": "dbdb7194",
   "metadata": {},
   "source": [
    "## 3. Quick Quiz / 3. Quiz rapide\n",
    "1. True or False: `setup.py` defines package metadata. / Vrai ou Faux : `setup.py` définit les métadonnées du paquet.\n",
    "2. Name one field in `pyproject.toml` for build system. / Nommez un champ dans `pyproject.toml` pour le système de build.\n",
    "3. Which command uploads a package to PyPI? / Quelle commande télécharge un paquet sur PyPI ?\n",
    "4. What file tells pip how to install dependencies? / Quel fichier indique à pip comment installer les dépendances ?"
   ]
  },
  {
   "cell_type": "markdown",
   "id": "475086a1",
   "metadata": {},
   "source": [
    "## 4. Learning Objectives / 4. Objectifs d'apprentissage\n",
    "By the end, you can: / À la fin, vous pourrez :\n",
    "- Structure a Python project for packaging. / Structurer un projet Python pour l'empaquetage.\n",
    "- Write `setup.py` and `pyproject.toml` files. / Écrire les fichiers `setup.py` et `pyproject.toml`.\n",
    "- Build source and wheel distributions. / Générer des distributions source et wheel.\n",
    "- Publish a package to PyPI. / Publier un paquet sur PyPI."
   ]
  },
  {
   "cell_type": "markdown",
   "id": "f8387f8c",
   "metadata": {},
   "source": [
    "## 5. Core Content / 5. Contenu principal\n",
    "- **Project structure / Structure du projet :**\n",
    "  ```text\n",
    "  mypackage/\n",
    "    mypackage/\n",
    "      __init__.py\n",
    "      module.py\n",
    "    tests/\n",
    "    setup.py\n",
    "    pyproject.toml\n",
    "    README.md\n",
    "  ```\n",
    "- **setup.py example / exemple :**\n",
    "  ```python\n",
    "  from setuptools import setup, find_packages\n",
    "\n",
    "  setup(\n",
    "      name='mypackage',\n",
    "      version='0.1.0',\n",
    "      packages=find_packages(),\n",
    "      install_requires=['requests'],\n",
    "      author='Your Name',\n",
    "      description='A sample package',\n",
    "  )\n",
    "  ```\n",
    "- **pyproject.toml example / exemple :**\n",
    "  ```toml\n",
    "  [build-system]\n",
    "  requires = ['setuptools', 'wheel']\n",
    "  build-backend = 'setuptools.build_meta'\n",
    "  ```\n",
    "- **Building distributions / Génération :**\n",
    "  ```bash\n",
    "  python setup.py sdist bdist_wheel\n",
    "  ```\n",
    "- **Publishing to PyPI / Publication :**\n",
    "  ```bash\n",
    "  pip install twine\n",
    "  twine upload dist/*\n",
    "  ```"
   ]
  },
  {
   "cell_type": "markdown",
   "id": "3036b4ab",
   "metadata": {},
   "source": [
    "## 6. Starter Code (Incomplete) / 6. Code de démarrage (incomplet)\n",
    "Complete the TODOs to set up packaging files. / Complétez les TODO pour configurer les fichiers de packaging."
   ]
  },
  {
   "cell_type": "code",
   "execution_count": null,
   "id": "c058cdfd",
   "metadata": {},
   "outputs": [],
   "source": [
    "# setup.py\n",
    "from setuptools import setup, find_packages\n",
    "\n",
    "setup(\n",
    "    name='mypackage',  # TODO: change package name\n",
    "    version='0.0.1',\n",
    "    # TODO: add packages=find_packages()\n",
    "    # TODO: add install_requires=[]\n",
    ")\n",
    "\n",
    "# pyproject.toml\n",
    "[build-system]\n",
    "# TODO: set requires = ['setuptools', 'wheel']\n",
    "# TODO: set build-backend = 'setuptools.build_meta'\n"
   ]
  },
  {
   "cell_type": "markdown",
   "id": "b9b442cb",
   "metadata": {},
   "source": [
    "## 7. Hands-On Project: Publish Your Package / 7. Projet pratique : Publiez votre paquet\n",
    "- **Description:**\n",
    "  1. Create a simple package (e.g., `calculator`) with one module.\n",
    "  2. Write `setup.py` and `pyproject.toml`.\n",
    "  3. Build and upload the package to Test PyPI. / téléchargez sur Test PyPI.\n",
    "- **Rubric / Barème:**\n",
    "  - Correct project structure: 25% / Structure correcte : 25%\n",
    "  - Valid setup.py and pyproject.toml: 25% / setup.py et pyproject.toml valides : 25%\n",
    "  - Successful build of sdist and wheel: 25% / Génération réussie : 25%\n",
    "  - Upload to Test PyPI: 25% / Téléchargement sur Test PyPI : 25%"
   ]
  },
  {
   "cell_type": "markdown",
   "id": "d266ab1f",
   "metadata": {},
   "source": [
    "## 8. Stretch Tasks / 8. Tâches supplémentaires\n",
    "- Add entry points for console scripts. / Ajoutez des points d'entrée pour scripts console.\n",
    "- Configure metadata (license, classifiers). / Configurez les métadonnées (license, classifiers).\n",
    "- Automate build & publish with GitHub Actions. / Automatisez la génération et publication avec GitHub Actions."
   ]
  },
  {
   "cell_type": "markdown",
   "id": "b3146ee4",
   "metadata": {},
   "source": [
    "## 9. Reflection / 9. Réflexion\n",
    "- **Summary:** Why is packaging important for collaboration? / Pourquoi le packaging est-il important pour la collaboration ?\n",
    "- **Muddiest point:** Any confusion about wheel vs sdist? / Des doutes sur wheel vs sdist ?"
   ]
  },
  {
   "cell_type": "markdown",
   "id": "e42ed0ed",
   "metadata": {},
   "source": [
    "## 10. Resources / 10. Ressources\n",
    "- https://packaging.python.org/tutorials/packaging-projects/\n",
    "- https://setuptools.pypa.io/\n",
    "- https://test.pypi.org/\n",
    "- https://docs.python.org/3/using/cmdline.html#packaging-tool-enhancements"
   ]
  }
 ],
 "metadata": {},
 "nbformat": 4,
 "nbformat_minor": 5
}
