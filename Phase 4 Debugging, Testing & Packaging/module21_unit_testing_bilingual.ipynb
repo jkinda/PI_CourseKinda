{
 "cells": [
  {
   "cell_type": "markdown",
   "id": "84b517c4",
   "metadata": {},
   "source": [
    "# Module 21: Unit Testing\n",
    "## Module 21 : Tests unitaires"
   ]
  },
  {
   "cell_type": "markdown",
   "id": "32e09bd4",
   "metadata": {},
   "source": [
    "## 1. Why This Matters / 1. Pourquoi c'est important\n",
    "- **English:** Unit tests help you check small parts of code automatically, catching bugs early.\n",
    "- **Français :** Les tests unitaires permettent de vérifier automatiquement de petits morceaux de code et de détecter les erreurs rapidement."
   ]
  },
  {
   "cell_type": "markdown",
   "id": "ef3d96eb",
   "metadata": {},
   "source": [
    "## 2. Spaced & Interleaved Review / 2. Révision espacée et mélangée\n",
    "- **Flash-back:** What does a function return? / Qu'est-ce qu'une fonction renvoie ?\n",
    "- **Interleaving:** How could you test a function that divides numbers? / Comment tester une fonction qui divise des nombres ?"
   ]
  },
  {
   "cell_type": "markdown",
   "id": "4ef733de",
   "metadata": {},
   "source": [
    "## 3. Quick Quiz / 3. Quiz rapide\n",
    "1. True or False: A good test is independent of others. / Vrai ou Faux : un bon test est indépendant des autres.\n",
    "2. How do you write a simple test in `unittest`? / Comment écrire un test simple avec `unittest` ?\n",
    "3. Which command runs pytest tests? / Quelle commande lance les tests pytest ?\n",
    "4. What does TDD stand for? / Que signifie TDD ?"
   ]
  },
  {
   "cell_type": "markdown",
   "id": "fcf3f7ab",
   "metadata": {},
   "source": [
    "## 4. Learning Objectives / 4. Objectifs d'apprentissage\n",
    "By the end, you can: / À la fin, vous pourrez :\n",
    "- Write unit tests using `unittest` or `pytest`. / Écrire des tests unitaires avec `unittest` ou `pytest`.\n",
    "- Run tests and see results. / Exécuter les tests et voir les résultats.\n",
    "- Use assertions to check behavior. / Utiliser des assertions pour vérifier le comportement.\n",
    "- Understand basic TDD workflow. / Comprendre le workflow de base du TDD."
   ]
  },
  {
   "cell_type": "markdown",
   "id": "7a4e6ffa",
   "metadata": {},
   "source": [
    "## 5. Core Content / 5. Contenu principal\n",
    "- **unittest example / exemple :**\n",
    "```python\n",
    "import unittest\n",
    "\n",
    "def add(a, b):\n",
    "    return a + b\n",
    "\n",
    "class TestMath(unittest.TestCase):\n",
    "    def test_add(self):\n",
    "        self.assertEqual(add(2, 3), 5)\n",
    "\n",
    "if __name__ == '__main__':\n",
    "    unittest.main()\n",
    "```\n",
    "- **pytest example / exemple :**\n",
    "```python\n",
    "def multiply(a, b):\n",
    "    return a * b\n",
    "\n",
    "def test_multiply():\n",
    "    assert multiply(2, 4) == 8\n",
    "```\n",
    "- **Running tests / exécution :**\n",
    "  - `python -m unittest` for unittest. / `python -m unittest` pour unittest.\n",
    "  - `pytest` for pytest. / `pytest` pour pytest.\n",
    "- **Assertions / assertions :** `assertEqual`, `assertTrue`, `assert`, etc.\n",
    "- **TDD basics / bases de TDD :** write a failing test first, then code, then refactor.\n"
   ]
  },
  {
   "cell_type": "markdown",
   "id": "3e3be4f2",
   "metadata": {},
   "source": [
    "## 6. Starter Code (Incomplete) / 6. Code de démarrage (incomplet)\n",
    "Complete the TODOs to write tests for functions. / Complétez les TODO pour écrire des tests pour des fonctions."
   ]
  },
  {
   "cell_type": "code",
   "execution_count": null,
   "id": "c2ea45b5",
   "metadata": {},
   "outputs": [],
   "source": [
    "# math_functions.py\n",
    "def divide(a, b):\n",
    "    return a / b\n",
    "\n",
    "# test_math_functions.py\n",
    "import unittest\n",
    "from math_functions import divide\n",
    "\n",
    "class TestDivide(unittest.TestCase):\n",
    "    def test_divide_normal(self):\n",
    "        self.assertEqual(divide(10, 2), 5)\n",
    "    def test_divide_zero(self):\n",
    "        # TODO: test that divide(1, 0) raises ZeroDivisionError\n",
    "        pass\n",
    "\n",
    "if __name__ == '__main__':\n",
    "    unittest.main()\n"
   ]
  },
  {
   "cell_type": "markdown",
   "id": "0feeb80a",
   "metadata": {},
   "source": [
    "## 7. Hands-On Project: Test-Driven Calculator / 7. Projet pratique : Calculatrice pilotée par tests\n",
    "- **Description:** Use TDD to build a calculator module with functions `add`, `subtract`, `multiply`, `divide`:\n",
    "  1. Write tests first.\n",
    "  2. Implement functions to pass tests.\n",
    "- **Rubric / Barème:**\n",
    "  - Tests cover normal and error cases: 50% / Tests couvrant cas normal et erreur : 50%\n",
    "  - TDD workflow: tests fail then pass: 20% / Workflow TDD : tests échouent puis passent : 20%\n",
    "  - Use of assertions: 20% / Utilisation des assertions : 20%\n",
    "  - Code clarity & comments: 10% / Clarté du code et commentaires : 10%"
   ]
  },
  {
   "cell_type": "markdown",
   "id": "d3ac0253",
   "metadata": {},
   "source": [
    "## 8. Stretch Tasks / 8. Tâches supplémentaires\n",
    "- Add tests for edge cases (large numbers, floats). / Ajouter des tests pour cas limites.\n",
    "- Use pytest fixtures to set up test data. / Utiliser des fixtures pytest pour préparer les données.\n",
    "- Integrate tests into CI with GitHub Actions. / Intégrer les tests en CI avec GitHub Actions."
   ]
  },
  {
   "cell_type": "markdown",
   "id": "120ca9b0",
   "metadata": {},
   "source": [
    "## 9. Reflection / 9. Réflexion\n",
    "- **Summary:** How does TDD change your coding? / Comment le TDD change-t-il votre codage ?\n",
    "- **Muddiest point:** Any confusion on test setup? / Des doutes sur la configuration des tests ?"
   ]
  },
  {
   "cell_type": "markdown",
   "id": "73ece671",
   "metadata": {},
   "source": [
    "## 10. Resources / 10. Ressources\n",
    "- https://docs.python.org/3/library/unittest.html\n",
    "- https://docs.pytest.org/en/stable/\n",
    "- https://realpython.com/python-testing/"
   ]
  }
 ],
 "metadata": {},
 "nbformat": 4,
 "nbformat_minor": 5
}
