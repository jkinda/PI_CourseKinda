{
 "cells": [
  {
   "cell_type": "markdown",
   "id": "d98b53d7",
   "metadata": {},
   "source": [
    "# Module 20: Debugging and Logging\n",
    "## Module 20 : Débogage et journalisation"
   ]
  },
  {
   "cell_type": "markdown",
   "id": "307c337d",
   "metadata": {},
   "source": [
    "## 1. Why This Matters / 1. Pourquoi c'est important\n",
    "- **English:** Debugging helps find and fix errors. Logging gives insight into program behavior over time.\n",
    "- **Français :** Le débogage permet de trouver et corriger les erreurs. La journalisation donne des informations sur le fonctionnement du programme."
   ]
  },
  {
   "cell_type": "markdown",
   "id": "debd6e66",
   "metadata": {},
   "source": [
    "## 2. Spaced & Interleaved Review / 2. Révision espacée et mélangée\n",
    "- **Flash-back:** How do you stop a loop early? / Comment arrêter une boucle prématurément ?\n",
    "- **Interleaving:** How could you log each loop iteration? / Comment journaliser chaque itération de boucle ?"
   ]
  },
  {
   "cell_type": "markdown",
   "id": "95ce0522",
   "metadata": {},
   "source": [
    "## 3. Quick Quiz / 3. Quiz rapide\n",
    "1. True or False: `print()` is a good way to debug in production. / Vrai ou Faux : `print()` est adapté en production.\n",
    "2. Which module is used for logging? / Quel module sert à la journalisation ?\n",
    "3. How do you start the Python debugger (`pdb`)? / Comment lancer le débogueur Python (`pdb`) ?\n",
    "4. In VS Code, what key lets you step through code? / Dans VS Code, quelle touche permet de pas à pas dans le code ?"
   ]
  },
  {
   "cell_type": "markdown",
   "id": "b229e0fd",
   "metadata": {},
   "source": [
    "## 4. Learning Objectives / 4. Objectifs d'apprentissage\n",
    "By the end, you can: / À la fin, vous pourrez :\n",
    "- Use `print()` and the `logging` module for messages. / Utiliser `print()` et le module `logging` pour afficher des messages.\n",
    "- Configure basic logging levels (DEBUG, INFO, WARNING). / Configurer les niveaux de journalisation (DEBUG, INFO, WARNING).\n",
    "- Run code with `pdb` and set breakpoints. / Exécuter le code avec `pdb` et définir des points d'arrêt.\n",
    "- Use VS Code debugging to step through code. / Utiliser le débogage VS Code pour pas à pas."
   ]
  },
  {
   "cell_type": "markdown",
   "id": "58d7c1d9",
   "metadata": {},
   "source": [
    "## 5. Core Content / 5. Contenu principal\n",
    "- **print() vs logging:**\n",
    "  ```python\n",
    "  import logging\n",
    "  logging.basicConfig(level=logging.DEBUG)\n",
    "  print('This is print')\n",
    "  logging.debug('This is debug')\n",
    "  logging.info('This is info')\n",
    "  logging.warning('This is warning')\n",
    "  ```\n",
    "- **logging configuration / configuration :**\n",
    "  ```python\n",
    "  logger = logging.getLogger(__name__)\n",
    "  handler = logging.FileHandler('app.log')\n",
    "  formatter = logging.Formatter('%(asctime)s - %(levelname)s - %(message)s')\n",
    "  handler.setFormatter(formatter)\n",
    "  logger.addHandler(handler)\n",
    "  logger.error('An error occurred')\n",
    "  ```\n",
    "- **Basic pdb usage / utilisation de pdb :**\n",
    "  ```bash\n",
    "  python -m pdb script.py\n",
    "  (Pdb) break 10    # set breakpoint at line 10\n",
    "  (Pdb) continue   # run until breakpoint\n",
    "  (Pdb) step       # go into function\n",
    "  (Pdb) next       # next line\n",
    "  ```\n",
    "- **VS Code debugging / débogage VS Code :**\n",
    "  1. Open the file, set breakpoints by clicking margin.\n",
    "  2. Run 'Start Debugging' (F5).\n",
    "  3. Use controls: Step Over, Step Into, Continue.\n"
   ]
  },
  {
   "cell_type": "markdown",
   "id": "3b6610c8",
   "metadata": {},
   "source": [
    "## 6. Starter Code (Incomplete) / 6. Code de démarrage (incomplet)\n",
    "Complete the TODOs to add logging and a pdb breakpoint. / Complétez les TODO pour ajouter la journalisation et un point d'arrêt pdb."
   ]
  },
  {
   "cell_type": "code",
   "execution_count": null,
   "id": "81719295",
   "metadata": {},
   "outputs": [],
   "source": [
    "# debug_logging_starter.py\n",
    "import logging\n",
    "\n",
    "# TODO: configure logging to file 'debug.log' with DEBUG level\n",
    "\n",
    "def divide(a, b):\n",
    "    # TODO: add a debug log before division\n",
    "    return a / b\n",
    "\n",
    "if __name__ == '__main__':\n",
    "    # TODO: set a pdb breakpoint here\n",
    "    result = divide(10, 0)\n",
    "    print('Result:', result)\n"
   ]
  },
  {
   "cell_type": "markdown",
   "id": "6d466bcb",
   "metadata": {},
   "source": [
    "## 7. Hands-On Project: Debuggable Calculator / 7. Projet pratique : Calculatrice débogable\n",
    "- **Description:** Create a calculator script that:\n",
    "  1. Logs each operation (add, subtract) with logging module.\n",
    "  2. Uses `pdb` breakpoint to inspect variables when a division by zero occurs.\n",
    "  3. Allows stepping through code in VS Code.\n",
    "- **Rubric / Barème:**\n",
    "  - Logging setup and usage: 40% / Configuration et utilisation du logging : 40%\n",
    "  - pdb breakpoint and handling: 30% / Point d'arrêt pdb et gestion : 30%\n",
    "  - VS Code debugging demonstration: 20% / Démonstration du débogage VS Code : 20%\n",
    "  - Code comments and clarity: 10% / Commentaires et clarté : 10%"
   ]
  },
  {
   "cell_type": "markdown",
   "id": "baf71d8a",
   "metadata": {},
   "source": [
    "## 8. Stretch Tasks / 8. Tâches supplémentaires\n",
    "- Integrate logging into file operations to record successes and failures. / Intégrer la journalisation dans les opérations de fichier.\n",
    "- Create custom logging levels or handlers (e.g., email handler). / Créer des niveaux ou gestionnaires personnalisés.\n",
    "- Use VS Code variable watch and call stack features. / Utiliser la surveillance de variables et la pile d'appels VS Code."
   ]
  },
  {
   "cell_type": "markdown",
   "id": "9305e079",
   "metadata": {},
   "source": [
    "## 9. Reflection / 9. Réflexion\n",
    "- **Summary:** How does logging differ from print? / En quoi logging diffère-t-il de print ?\n",
    "- **Muddiest point:** Any confusion using pdb commands? / Des doutes sur les commandes pdb ?"
   ]
  },
  {
   "cell_type": "markdown",
   "id": "4de691d2",
   "metadata": {},
   "source": [
    "## 10. Resources / 10. Ressources\n",
    "- https://docs.python.org/3/library/logging.html\n",
    "- https://docs.python.org/3/library/pdb.html\n",
    "- https://code.visualstudio.com/docs/python/debugging"
   ]
  }
 ],
 "metadata": {},
 "nbformat": 4,
 "nbformat_minor": 5
}
