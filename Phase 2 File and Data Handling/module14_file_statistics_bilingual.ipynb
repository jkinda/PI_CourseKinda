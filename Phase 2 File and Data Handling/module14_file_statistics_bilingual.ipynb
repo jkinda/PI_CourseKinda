{
 "cells": [
  {
   "cell_type": "markdown",
   "id": "3bc2824e",
   "metadata": {},
   "source": [
    "# Module 14: Challenge — File Statistics\n",
    "## Module 14 : Défi — Statistiques de fichiers"
   ]
  },
  {
   "cell_type": "markdown",
   "id": "85398c07",
   "metadata": {},
   "source": [
    "## 1. Why This Matters / 1. Pourquoi c'est important\n",
    "- **English:** Knowing the size and number of files in a folder helps manage disk space and organize data.\n",
    "- **Français :** Connaître la taille et le nombre de fichiers dans un dossier aide à gérer l'espace disque et organiser les données."
   ]
  },
  {
   "cell_type": "markdown",
   "id": "128552a6",
   "metadata": {},
   "source": [
    "## 2. Spaced & Interleaved Review / 2. Révision espacée et mélangée\n",
    "- **Flash-back:** Which module lets you list files in a directory? / Quel module permet de lister les fichiers d'un dossier ?\n",
    "- **Interleaving:** How could you combine loops and file I/O? / Comment combiner boucles et E/S de fichiers ?"
   ]
  },
  {
   "cell_type": "markdown",
   "id": "88da9f8a",
   "metadata": {},
   "source": [
    "## 3. Quick Quiz / 3. Quiz rapide\n",
    "1. True or False: To get folder size, you need to walk through all files. / Vrai ou Faux : Pour obtenir la taille d'un dossier, il faut parcourir tous les fichiers.\n",
    "2. Which os module function lists directory entries? / Quelle fonction du module os liste les entrées d'un répertoire ?\n",
    "3. How do you get file size in Python? / Comment obtenir la taille d'un fichier en Python ?\n",
    "4. What does `os.path.isfile(path)` check? / Que vérifie `os.path.isfile(path)` ?"
   ]
  },
  {
   "cell_type": "markdown",
   "id": "d0594f84",
   "metadata": {},
   "source": [
    "## 4. Learning Objectives / 4. Objectifs d'apprentissage\n",
    "By the end, you can: / À la fin, vous pourrez :\n",
    "- Recursively scan a directory to count files. / Parcourir récursivement un dossier pour compter les fichiers.\n",
    "- Sum file sizes to compute total directory size. / Additionner les tailles des fichiers pour obtenir la taille totale.\n",
    "- Differentiate between files and folders. / Faire la différence entre fichiers et dossiers.\n",
    "- Handle errors like permission issues. / Gérer les erreurs comme les permissions."
   ]
  },
  {
   "cell_type": "markdown",
   "id": "504f6c9a",
   "metadata": {},
   "source": [
    "## 5. Core Content / 5. Contenu principal\n",
    "- Use `os.walk()` to traverse directories. / Utilisez `os.walk()` pour parcourir les dossiers.\n",
    "- Use `os.path.getsize()` to get file size. / Utilisez `os.path.getsize()` pour obtenir la taille.\n",
    "- Use counters to track number of files and folders. / Utilisez des compteurs pour suivre le nombre de fichiers et dossiers.\n",
    "- Handle exceptions when accessing files. / Gérez les exceptions lors de l'accès aux fichiers.\n",
    "\n",
    "**Example approach / Exemple d'approche :**\n",
    "```python\n",
    "import os\n",
    "\n",
    "total_size = 0\n",
    "file_count = 0\n",
    "for dirpath, dirnames, filenames in os.walk('my_folder'):\n",
    "    for f in filenames:\n",
    "        fp = os.path.join(dirpath, f)\n",
    "        try:\n",
    "            total_size += os.path.getsize(fp)\n",
    "            file_count += 1\n",
    "        except OSError:\n",
    "            continue\n",
    "print(f'Files: {file_count}, Size: {total_size} bytes')\n",
    "```"
   ]
  },
  {
   "cell_type": "markdown",
   "id": "1852490a",
   "metadata": {},
   "source": [
    "## 6. Starter Code (Incomplete) / 6. Code de démarrage (incomplet)\n",
    "Fill in the TODOs to complete the challenge. / Remplissez les TODO pour finaliser le défi."
   ]
  },
  {
   "cell_type": "code",
   "execution_count": null,
   "id": "30b7f937",
   "metadata": {},
   "outputs": [],
   "source": [
    "# challenge_solution_starter.py\n",
    "import os\n",
    "\n",
    "def directory_stats(path):\n",
    "    total_size = 0\n",
    "    file_count = 0\n",
    "    # TODO: walk through 'path' using os.walk\n",
    "    # TODO: for each file, add size and count\n",
    "    return file_count, total_size\n",
    "\n",
    "if __name__ == '__main__':\n",
    "    folder = input('Enter folder path: ')\n",
    "    files, size = directory_stats(folder)\n",
    "    print(f'Number of files: {files}')\n",
    "    print(f'Total size: {size} bytes')\n"
   ]
  },
  {
   "cell_type": "markdown",
   "id": "8e667279",
   "metadata": {},
   "source": [
    "## 7. Hands-On Project / 7. Projet pratique\n",
    "**Challenge: File Statistics** / **Défi : Statistiques de fichiers**\n",
    "- Write a script that:\n",
    "  1. Asks for a directory path. / Demande le chemin d'un dossier.\n",
    "  2. Computes total number of files and subdirectories. / Calcule le nombre total de fichiers et sous-dossiers.\n",
    "  3. Computes total size of all files. / Calcule la taille totale de tous les fichiers.\n",
    "  4. Prints a summary in human-readable format (KB, MB). / Affiche un résumé en format lisible (Ko, Mo).\n",
    "\n",
    "**Rubric / Barème :**\n",
    "- Correct traversal and counts: 40% / Parcours et comptage corrects : 40%\n",
    "- Accurate size calculation: 30% / Calcul de taille précis : 30%\n",
    "- Error handling for invalid paths: 20% / Gestion d'erreur pour chemins invalides : 20%\n",
    "- Code clarity & comments: 10% / Clarté du code et commentaires : 10%"
   ]
  },
  {
   "cell_type": "markdown",
   "id": "633385aa",
   "metadata": {},
   "source": [
    "## 8. Stretch Tasks / 8. Tâches supplémentaires\n",
    "- Convert bytes to human-readable units automatically. / Convertir les octets en unités lisibles automatiquement.\n",
    "- Include count of empty files. / Inclure le nombre de fichiers vides.\n",
    "- Export results to a JSON or CSV report. / Exporter les résultats en rapport JSON ou CSV."
   ]
  },
  {
   "cell_type": "markdown",
   "id": "52f91eaa",
   "metadata": {},
   "source": [
    "## 9. Reflection / 9. Réflexion\n",
    "- **Summary:** Why is recursion useful for directory scanning? / Pourquoi la récursion est-elle utile pour le scan ?\n",
    "- **Muddiest point:** Any confusion with os.walk? / Des doutes sur os.walk ?"
   ]
  },
  {
   "cell_type": "markdown",
   "id": "0ed3e548",
   "metadata": {},
   "source": [
    "## 10. Resources / 10. Ressources\n",
    "- https://docs.python.org/3/library/os.html#os.walk\n",
    "- https://docs.python.org/3/library/os.path.html#os.path.getsize\n",
    "- https://realpython.com/python-os-module/\n",
    "- https://stackoverflow.com/questions/1392413"
   ]
  }
 ],
 "metadata": {},
 "nbformat": 4,
 "nbformat_minor": 5
}
