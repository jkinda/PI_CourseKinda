{
 "cells": [
  {
   "cell_type": "markdown",
   "id": "f696ed90",
   "metadata": {},
   "source": [
    "# Module 11: File I/O\n",
    "## Module 11 : Entrée/Sortie de fichiers"
   ]
  },
  {
   "cell_type": "markdown",
   "id": "22568b4a",
   "metadata": {},
   "source": [
    "## 1. Why This Matters / 1. Pourquoi c'est important\n",
    "- **English:** Reading and writing files lets your program handle data stored on disk, like logs or saved settings.\n",
    "- **Français :** Lire et écrire des fichiers permet à votre programme de traiter des données sauvegardées, comme des journaux ou des paramètres."
   ]
  },
  {
   "cell_type": "markdown",
   "id": "a3b70130",
   "metadata": {},
   "source": [
    "## 2. Spaced & Interleaved Review / 2. Révision espacée et mélangée\n",
    "- **Flash-back:** Which module did we use for CSV files? / Quel module utilisions-nous pour les fichiers CSV ?\n",
    "- **Interleaving:** How could you write inside a loop using file I/O? / Comment écrire dans un fichier dans une boucle ?"
   ]
  },
  {
   "cell_type": "markdown",
   "id": "26810d9b",
   "metadata": {},
   "source": [
    "## 3. Quick Quiz / 3. Quiz rapide\n",
    "1. True or False: `open('file.txt', 'w')` overwrites the file. / Vrai ou Faux : `open('file.txt', 'w')` écrase le fichier.\n",
    "2. What mode adds text to the end of a file without erasing it? / Quel mode ajoute du texte à la fin sans l'effacer ?\n",
    "3. How do you read the full file content at once? / Comment lire tout le contenu d'un coup ?\n",
    "4. Which method closes the file? / Quelle méthode ferme le fichier ?"
   ]
  },
  {
   "cell_type": "markdown",
   "id": "64d24cb7",
   "metadata": {},
   "source": [
    "## 4. Learning Objectives / 4. Objectifs d'apprentissage\n",
    "By the end, you can: / À la fin, vous pourrez :\n",
    "- Open files with different modes (`r`, `w`, `a`, `rb`, `wb`). / Ouvrir les fichiers avec différents modes.\n",
    "- Read from and write to files using `read()`, `write()`. / Lire et écrire avec `read()`, `write()`.\n",
    "- Close files manually and with context managers. / Fermer les fichiers manuellement et avec 'with'."
   ]
  },
  {
   "cell_type": "markdown",
   "id": "91cd3016",
   "metadata": {},
   "source": [
    "## 5. Core Content / 5. Contenu principal\n",
    "- **open(filename, mode)** opens a file. / Ouvre un fichier.\n",
    "  - `r`: read, `w`: write, `a`: append, `b`: binary. / lecture, écriture, ajout, binaire.\n",
    "- **read(), readline(), readlines()**: read all, one line, or list of lines. / lire tout, une ligne, liste de lignes.\n",
    "- **write(text)**: writes text to file. / écrit du texte.\n",
    "- **close()**: closes file. / ferme le fichier.\n",
    "- **Context manager**: `with open() as f:` auto-closes. / se ferme automatiquement.\n",
    "\n",
    "**Example (files_finished.py) / Exemple :**\n",
    "```python\n",
    "# files_finished.py\n",
    "# Write text to a file\n",
    "with open('output.txt', 'w') as f:\n",
    "    f.write('Hello, file!\\n')\n",
    "\n",
    "# Read whole file\n",
    "with open('output.txt', 'r') as f:\n",
    "    content = f.read()\n",
    "    print(content)\n",
    "\n",
    "# Append a line\n",
    "f = open('output.txt', 'a')\n",
    "f.write('Another line\\n')\n",
    "f.close()\n",
    "```"
   ]
  },
  {
   "cell_type": "markdown",
   "id": "0a9fecfd",
   "metadata": {},
   "source": [
    "## 6. Starter Code (Incomplete) / 6. Code de démarrage (incomplet)\n",
    "Complete the TODOs to read, write, and close files. / Complétez les TODO pour lire, écrire et fermer des fichiers."
   ]
  },
  {
   "cell_type": "code",
   "execution_count": null,
   "id": "f3326332",
   "metadata": {},
   "outputs": [],
   "source": [
    "# file_io_starter.py\n",
    "# TODO: open 'input.txt' for reading and print its contents\n",
    "# TODO: open 'log.txt' in append mode and write 'Log entry' with newline\n",
    "# TODO: use context manager to read first line of 'input.txt'\n"
   ]
  },
  {
   "cell_type": "markdown",
   "id": "53f2a16c",
   "metadata": {},
   "source": [
    "## 7. Hands-On Project: Simple Logger / 7. Projet pratique : Journal d'événements simple\n",
    "- **Description:** Create a script that:\n",
    "  1. Reads 'config.txt' to get a username.\n",
    "  2. Appends a timestamped log entry to 'access.log'.\n",
    "  3. Prints the last 5 log entries.\n",
    "- **Rubric / Barème:**\n",
    "  - File reading and parsing: 30% / Lecture et analyse du fichier : 30%\n",
    "  - Appending with mode 'a': 30% / Ajout avec le mode 'a' : 30%\n",
    "  - Context manager usage: 20% / Usage de 'with' : 20%\n",
    "  - Output correctness: 20% / Exactitude de la sortie : 20%"
   ]
  },
  {
   "cell_type": "markdown",
   "id": "4b9e8e19",
   "metadata": {},
   "source": [
    "## 8. Stretch Tasks / 8. Tâches supplémentaires\n",
    "- Handle missing 'config.txt' with try-except. / Gérer l'absence de 'config.txt' avec try-except.\n",
    "- Write logs in binary mode. / Écrire les journaux en mode binaire.\n",
    "- Rotate log when it exceeds 1KB. / Faire une rotation de journal quand il dépasse 1Ko."
   ]
  },
  {
   "cell_type": "markdown",
   "id": "a3ae0645",
   "metadata": {},
   "source": [
    "## 9. Reflection / 9. Réflexion\n",
    "- **Summary:** Why is closing files important? / Pourquoi fermer les fichiers est-il important ?\n",
    "- **Muddiest point:** Anything unclear about modes? / Quelque chose de flou sur les modes ?"
   ]
  },
  {
   "cell_type": "markdown",
   "id": "e425b829",
   "metadata": {},
   "source": [
    "## 10. Resources / 10. Ressources\n",
    "- https://docs.python.org/3/library/functions.html#open\n",
    "- https://realpython.com/read-write-files-python/\n",
    "- https://docs.python.org/3/tutorial/inputoutput.html"
   ]
  }
 ],
 "metadata": {},
 "nbformat": 4,
 "nbformat_minor": 5
}
