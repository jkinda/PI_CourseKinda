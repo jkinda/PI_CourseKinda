{
 "cells": [
  {
   "cell_type": "markdown",
   "id": "492369d1",
   "metadata": {},
   "source": [
    "# Module 12: OS Path Utilities\n",
    "## Module 12 : Utilitaires de chemins OS"
   ]
  },
  {
   "cell_type": "markdown",
   "id": "9f823c36",
   "metadata": {},
   "source": [
    "## 1. Why This Matters / 1. Pourquoi c'est important\n",
    "- **English:** Path utilities help your program find, check, and organize files and folders reliably.\n",
    "- **Français :** Les utilitaires de chemins aident votre programme à trouver, vérifier et organiser les fichiers et dossiers de manière fiable."
   ]
  },
  {
   "cell_type": "markdown",
   "id": "f6671a81",
   "metadata": {},
   "source": [
    "## 2. Spaced & Interleaved Review / 2. Révision espacée et mélangée\n",
    "- **Flash-back:** Which module lets you perform file I/O? / Quel module permet l'E/S de fichiers ?\n",
    "- **Interleaving:** How could you join directory and filename? / Comment combiner un répertoire et un nom de fichier ?"
   ]
  },
  {
   "cell_type": "markdown",
   "id": "658296fd",
   "metadata": {},
   "source": [
    "## 3. Quick Quiz / 3. Quiz rapide\n",
    "1. True or False: `os.path.exists(path)` returns False if path is missing. / Vrai ou Faux : `os.path.exists(path)` renvoie False si le chemin n'existe pas.\n",
    "2. Which function returns the directory name of a path? / Quelle fonction renvoie le nom du répertoire d'un chemin ?\n",
    "3. How do you get the file extension? / Comment obtenir l'extension d'un fichier ?\n",
    "4. What does `os.path.getsize(path)` return? / Que renvoie `os.path.getsize(path)` ?"
   ]
  },
  {
   "cell_type": "markdown",
   "id": "3d6d02ab",
   "metadata": {},
   "source": [
    "## 4. Learning Objectives / 4. Objectifs d'apprentissage\n",
    "By the end, you can: / À la fin, vous pourrez :\n",
    "- Use `os.path` functions to manipulate paths. / Utiliser les fonctions `os.path` pour manipuler les chemins.\n",
    "- Check for file/directory existence and type. / Vérifier l'existence et le type (fichier/répertoire).\n",
    "- Retrieve file metadata (size, modification time). / Récupérer les métadonnées (taille, date de modification)."
   ]
  },
  {
   "cell_type": "markdown",
   "id": "58577583",
   "metadata": {},
   "source": [
    "## 5. Core Content / 5. Contenu principal\n",
    "- **join / combinaison :**\n",
    "  ```python\n",
    "  import os\n",
    "  path = os.path.join('folder', 'file.txt')\n",
    "  ```\n",
    "- **exists / existe :**\n",
    "  ```python\n",
    "  os.path.exists(path)\n",
    "  ```\n",
    "- **isfile / isdir :**\n",
    "  ```python\n",
    "  os.path.isfile(path)\n",
    "  os.path.isdir('folder')\n",
    "  ```\n",
    "- **basename / dirname :**\n",
    "  ```python\n",
    "  os.path.basename(path)  # file.txt\n",
    "  os.path.dirname(path)   # folder\n",
    "  ```\n",
    "- **getsize / getmtime :**\n",
    "  ```python\n",
    "  size = os.path.getsize(path)\n",
    "  mtime = os.path.getmtime(path)\n",
    "  ```\n",
    "\n",
    "**Example (ospathutils_finished.py) / Exemple :**\n",
    "```python\n",
    "# ospathutils_finished.py\n",
    "import os\n",
    "\n",
    "path = 'data/sample.txt'\n",
    "if os.path.exists(path):\n",
    "    print('Exists')\n",
    "    if os.path.isfile(path):\n",
    "        print('Size:', os.path.getsize(path))\n",
    "        print('Modified:', os.path.getmtime(path))\n",
    "else:\n",
    "    print('Path not found')\n",
    "\n",
    "parent = os.path.dirname(path)\n",
    "print('Parent folder:', parent)\n",
    "\n",
    "file_name = os.path.basename(path)\n",
    "print('Filename:', file_name)\n",
    "```"
   ]
  },
  {
   "cell_type": "markdown",
   "id": "75e2a99c",
   "metadata": {},
   "source": [
    "## 6. Starter Code (Incomplete) / 6. Code de démarrage (incomplet)\n",
    "Complete the TODOs to manipulate paths and metadata. / Complétez les TODO pour manipuler les chemins et métadonnées."
   ]
  },
  {
   "cell_type": "code",
   "execution_count": null,
   "id": "c1583c04",
   "metadata": {},
   "outputs": [],
   "source": [
    "# ospathutils_starter.py\n",
    "import os\n",
    "\n",
    "path = 'example.txt'\n",
    "# TODO: check if path exists and print result\n",
    "\n",
    "# TODO: if it's a file, print its size\n",
    "\n",
    "# TODO: print directory and filename separately\n"
   ]
  },
  {
   "cell_type": "markdown",
   "id": "0ab13c63",
   "metadata": {},
   "source": [
    "## 7. Hands-On Project: Directory Explorer / 7. Projet pratique : Explorateur de répertoire\n",
    "- **Description:** Create a script that:\n",
    "  1. Takes a directory path as input.\n",
    "  2. Lists all files and folders inside.\n",
    "  3. For each file, prints name, size, and last modification date.\n",
    "- **Rubric / Barème:**\n",
    "  - Path validation and listing: 30% / Validation et listing : 30%\n",
    "  - Metadata retrieval: 40% / Récupération des métadonnées : 40%\n",
    "  - Formatting output: 20% / Format de la sortie : 20%\n",
    "  - Code clarity & comments: 10% / Clarté du code et commentaires : 10%"
   ]
  },
  {
   "cell_type": "markdown",
   "id": "9973e90c",
   "metadata": {},
   "source": [
    "## 8. Stretch Tasks / 8. Tâches supplémentaires\n",
    "- Recursively explore subdirectories. / Explorer récursivement les sous-répertoires.\n",
    "- Allow filtering by file extension. / Filtrer par extension.\n",
    "- Export the report to a CSV file. / Exporter le rapport en CSV."
   ]
  },
  {
   "cell_type": "markdown",
   "id": "bcc41371",
   "metadata": {},
   "source": [
    "## 9. Reflection / 9. Réflexion\n",
    "- **Summary:** How do path utilities simplify file handling? / Comment les utilitaires de chemins simplifient-ils la gestion des fichiers ?\n",
    "- **Muddiest point:** Any confusion on metadata functions? / Des doutes sur les fonctions de métadonnées ?"
   ]
  },
  {
   "cell_type": "markdown",
   "id": "5fffde3f",
   "metadata": {},
   "source": [
    "## 10. Resources / 10. Ressources\n",
    "- https://docs.python.org/3/library/os.path.html\n",
    "- https://realpython.com/python-pathlib/\n",
    "- https://docs.python.org/3/library/pathlib.html (bonus)"
   ]
  }
 ],
 "metadata": {},
 "nbformat": 4,
 "nbformat_minor": 5
}
