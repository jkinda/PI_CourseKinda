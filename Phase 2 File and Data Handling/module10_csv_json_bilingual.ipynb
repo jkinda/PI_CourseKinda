{
 "cells": [
  {
   "cell_type": "markdown",
   "id": "20dffd1a",
   "metadata": {},
   "source": [
    "# Module 10: CSV and JSON Files\n",
    "## Module 10 : Fichiers CSV et JSON"
   ]
  },
  {
   "cell_type": "markdown",
   "id": "b204be99",
   "metadata": {},
   "source": [
    "## 1. Why This Matters / 1. Pourquoi c'est important\n",
    "- **English:** CSV and JSON files are common ways to save and share data. Learning to read and write them lets you work with real-world data.\n",
    "- **Français :** Les fichiers CSV et JSON sont des formats courants pour stocker et partager des données. Savoir les lire et écrire permet de traiter des données réelles."
   ]
  },
  {
   "cell_type": "markdown",
   "id": "ae6c62c7",
   "metadata": {},
   "source": [
    "## 2. Spaced & Interleaved Review / 2. Révision espacée et mélangée\n",
    "- **Flash-back:** Which module helps you open text files? / Quel module sert à ouvrir des fichiers texte ?\n",
    "- **Interleaving:** How could you convert a Python list to a dictionary? / Comment convertir une liste Python en dictionnaire ?"
   ]
  },
  {
   "cell_type": "markdown",
   "id": "ee3a6032",
   "metadata": {},
   "source": [
    "## 3. Quick Quiz / 3. Quiz rapide\n",
    "1. True or False: The `csv.reader` object returns each row as a list. / Vrai ou Faux : `csv.reader` renvoie chaque ligne comme une liste.\n",
    "2. Which function loads a JSON string into a Python dict? / Quelle fonction charge une chaîne JSON en dictionnaire Python ?\n",
    "3. How do you write a Python dict to a JSON file? / Comment écrire un dictionnaire Python dans un fichier JSON ?\n",
    "4. Which mode do you use to open a file for writing CSV? / Quel mode utilise-t-on pour ouvrir un fichier en écriture CSV ?"
   ]
  },
  {
   "cell_type": "markdown",
   "id": "f08a0ff4",
   "metadata": {},
   "source": [
    "## 4. Learning Objectives / 4. Objectifs d'apprentissage\n",
    "By the end, you can: / À la fin, vous pourrez :\n",
    "- Use the `csv` module to read and write CSV files. / Utiliser le module `csv` pour lire et écrire des fichiers CSV.\n",
    "- Use the `json` module to load and dump JSON data. / Utiliser le module `json` pour charger et sauvegarder des données JSON.\n",
    "- Manipulate data read from files in Python. / Manipuler les données lues depuis des fichiers en Python."
   ]
  },
  {
   "cell_type": "markdown",
   "id": "6e0f1091",
   "metadata": {},
   "source": [
    "## 5. Core Content / 5. Contenu principal\n",
    "- **csv.reader / csv.writer**:\n",
    "  ```python\n",
    "  import csv\n",
    "  with open('data.csv', newline='') as f:\n",
    "      reader = csv.reader(f)\n",
    "      for row in reader:\n",
    "          print(row)\n",
    "  ```\n",
    "  ```python\n",
    "  with open('out.csv', 'w', newline='') as f:\n",
    "      writer = csv.writer(f)\n",
    "      writer.writerow(['Name', 'Age'])\n",
    "      writer.writerows([['Alice', 30], ['Bob', 25]])\n",
    "  ```\n",
    "- **json.load / json.dump**:\n",
    "  ```python\n",
    "  import json\n",
    "  with open('data.json') as f:\n",
    "      data = json.load(f)\n",
    "      print(data)\n",
    "  ```\n",
    "  ```python\n",
    "  with open('out.json', 'w') as f:\n",
    "      json.dump({'key': 'value'}, f)\n",
    "  ```\n",
    "- **Basic manipulation**: iterate rows, access dict keys, modify data.\n"
   ]
  },
  {
   "cell_type": "markdown",
   "id": "f7c0f052",
   "metadata": {},
   "source": [
    "## 6. Starter Code (Incomplete) / 6. Code de démarrage (incomplet)\n",
    "Complete the TODOs to read CSV and write JSON. / Complétez les TODO pour lire un CSV et écrire un JSON."
   ]
  },
  {
   "cell_type": "code",
   "execution_count": null,
   "id": "cbda9ac9",
   "metadata": {},
   "outputs": [],
   "source": [
    "# csv_json_starter.py\n",
    "import csv\n",
    "import json\n",
    "\n",
    "# TODO: read 'input.csv' and collect rows into a list of dicts\n",
    "rows = []\n",
    "\n"
   ]
  },
  {
   "cell_type": "markdown",
   "id": "592b94b1",
   "metadata": {},
   "source": [
    "## 7. Hands-On Project: CSV to JSON Converter / 7. Projet pratique : Convertisseur CSV vers JSON\n",
    "- **Description:** Create a script that:\n",
    "  1. Reads a CSV file with headers.\n",
    "  2. Converts each row to a dict.\n",
    "  3. Saves the list of dicts as a JSON file.\n",
    "- **Rubric / Barème:**\n",
    "  - CSV reading and dict conversion: 40% / Lecture CSV et conversion en dict : 40%\n",
    "  - JSON writing: 30% / Écriture JSON : 30%\n",
    "  - Error handling for missing files: 20% / Gestion d'erreur fichiers manquants : 20%\n",
    "  - Code clarity & comments: 10% / Clarté du code et commentaires : 10%"
   ]
  },
  {
   "cell_type": "markdown",
   "id": "9b747c08",
   "metadata": {},
   "source": [
    "## 8. Stretch Tasks / 8. Tâches supplémentaires\n",
    "- Handle different delimiters (e.g., tab). / Gérer différents délimiteurs (tabulation, etc.).\n",
    "- Pretty-print JSON with indentation. / Afficher le JSON en mode indenté.\n",
    "- Use pandas to read and write files as a bonus. / Utiliser pandas pour lire et écrire en bonus."
   ]
  },
  {
   "cell_type": "markdown",
   "id": "10ef7733",
   "metadata": {},
   "source": [
    "## 9. Reflection / 9. Réflexion\n",
    "- **Summary:** How does reading CSV and JSON help data workflows? / Comment la lecture de CSV/JSON aide-t-elle les flux de données ?\n",
    "- **Muddiest point:** What part was confusing? / Quelle partie était confuse ?"
   ]
  },
  {
   "cell_type": "markdown",
   "id": "443f3911",
   "metadata": {},
   "source": [
    "## 10. Resources / 10. Ressources\n",
    "- https://docs.python.org/3/library/csv.html\n",
    "- https://docs.python.org/3/library/json.html\n",
    "- https://realpython.com/python-csv/\n",
    "- https://realpython.com/python-json/"
   ]
  }
 ],
 "metadata": {},
 "nbformat": 4,
 "nbformat_minor": 5
}
