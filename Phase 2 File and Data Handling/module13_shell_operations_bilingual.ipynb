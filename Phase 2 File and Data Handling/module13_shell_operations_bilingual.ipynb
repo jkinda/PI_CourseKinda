{
 "cells": [
  {
   "cell_type": "markdown",
   "id": "2c15ec9a",
   "metadata": {},
   "source": [
    "# Module 13: Shell Operations\n",
    "## Module 13 : Opérations Shell"
   ]
  },
  {
   "cell_type": "markdown",
   "id": "f0b3176a",
   "metadata": {},
   "source": [
    "## 1. Why This Matters / 1. Pourquoi c'est important\n",
    "- **English:** Shell operations let your Python code work with files and run other programs, automating tasks like copying or zipping.\n",
    "- **Français :** Les opérations shell permettent à votre code Python de manipuler des fichiers et d'exécuter d'autres programmes, automatisant des tâches comme copier ou archiver."
   ]
  },
  {
   "cell_type": "markdown",
   "id": "5145d152",
   "metadata": {},
   "source": [
    "## 2. Spaced & Interleaved Review / 2. Révision espacée et mélangée\n",
    "- **Flash-back:** How do you read a file in Python? / Comment lit-on un fichier en Python ?\n",
    "- **Interleaving:** How could you compress files in Python? / Comment compresser des fichiers en Python ?"
   ]
  },
  {
   "cell_type": "markdown",
   "id": "5bd02271",
   "metadata": {},
   "source": [
    "## 3. Quick Quiz / 3. Quiz rapide\n",
    "1. True or False: `shutil.copy(src, dst)` can copy directories. / Vrai ou Faux : `shutil.copy(src, dst)` peut copier des répertoires.\n",
    "2. Which module lets you run a shell command? / Quel module permet d'exécuter une commande shell ?\n",
    "3. How do you create a zip archive of a folder with Python? / Comment créer une archive zip d'un dossier en Python ?\n",
    "4. What method runs the command and returns its output? / Quelle méthode exécute une commande et renvoie sa sortie ?"
   ]
  },
  {
   "cell_type": "markdown",
   "id": "9e223eec",
   "metadata": {},
   "source": [
    "## 4. Learning Objectives / 4. Objectifs d'apprentissage\n",
    "By the end, you can: / À la fin, vous pourrez :\n",
    "- Use `shutil` to copy, move, and make archives. / Utiliser `shutil` pour copier, déplacer et archiver.\n",
    "- Use `subprocess` to run shell commands. / Utiliser `subprocess` pour exécuter des commandes shell.\n",
    "- Handle errors when running shell commands. / Gérer les erreurs lors de l'exécution."
   ]
  },
  {
   "cell_type": "markdown",
   "id": "5c85f20f",
   "metadata": {},
   "source": [
    "## 5. Core Content / 5. Contenu principal\n",
    "- **shutil.copy(src, dst):** copy file. / copier un fichier.\n",
    "- **shutil.move(src, dst):** move file or dir. / déplacer fichier ou dossier.\n",
    "- **shutil.make_archive(base_name, format, root_dir):** make zip/tar. / créer zip/tar.\n",
    "- **subprocess.run():** run command.\n",
    "  ```python\n",
    "  import subprocess\n",
    "  subprocess.run(['ls', '-l'])\n",
    "  result = subprocess.run(['echo', 'Hello'], capture_output=True, text=True)\n",
    "  print(result.stdout)\n",
    "  ```\n",
    "- **Handling errors:** check `returncode`. / vérifier `returncode`.\n",
    "\n",
    "**Example (shell_finished.py) / Exemple :**\n",
    "```python\n",
    "# shell_finished.py\n",
    "import shutil\n",
    "import subprocess\n",
    "\n",
    "# Copy file\n",
    "shutil.copy('input.txt', 'backup.txt')\n",
    "\n",
    "# Move directory\n",
    "shutil.move('old_folder', 'new_folder')\n",
    "\n",
    "# Create zip archive\n",
    "shutil.make_archive('archive', 'zip', 'new_folder')\n",
    "\n",
    "# Run a shell command\n",
    "result = subprocess.run(['echo', 'Done'], capture_output=True, text=True)\n",
    "print('Output:', result.stdout)\n",
    "if result.returncode != 0:\n",
    "    print('Error:', result.stderr)\n",
    "```"
   ]
  },
  {
   "cell_type": "markdown",
   "id": "52531e2a",
   "metadata": {},
   "source": [
    "## 6. Starter Code (Incomplete) / 6. Code de démarrage (incomplet)\n",
    "Complete the TODOs to copy, move, and run a command. / Complétez les TODO pour copier, déplacer et exécuter une commande."
   ]
  },
  {
   "cell_type": "code",
   "execution_count": null,
   "id": "b79b5ba9",
   "metadata": {},
   "outputs": [],
   "source": [
    "# shell_starter.py\n",
    "import shutil\n",
    "import subprocess\n",
    "\n",
    "# TODO: copy 'file1.txt' to 'file2.txt'\n",
    "\n",
    "# TODO: move 'dir1' to 'dir2'\n",
    "\n",
    "# TODO: run 'echo Hello Shell' and print its output\n"
   ]
  },
  {
   "cell_type": "markdown",
   "id": "9502e3b8",
   "metadata": {},
   "source": [
    "## 7. Hands-On Project: Backup Script / 7. Projet pratique : Script de sauvegarde\n",
    "- **Description:** Create a Python script that:\n",
    "  1. Copies all '.txt' files from 'source' to 'backup'.\n",
    "  2. Creates a zip archive of 'backup'.\n",
    "  3. Runs a shell command to list files in the archive. / liste les fichiers dans l'archive.\n",
    "- **Rubric / Barème:**\n",
    "  - shutil usage for copy and archive: 50% / utilisation de shutil : 50%\n",
    "  - subprocess usage and output: 30% / utilisation de subprocess et sortie : 30%\n",
    "  - Code structure & comments: 20% / structure et commentaires : 20%"
   ]
  },
  {
   "cell_type": "markdown",
   "id": "dcedf1b1",
   "metadata": {},
   "source": [
    "## 8. Stretch Tasks / 8. Tâches supplémentaires\n",
    "- Handle exceptions if file not found. / Gérer les exceptions si fichier manquant.\n",
    "- Allow parallel copying with threads. / Autoriser copie en parallèle avec threads.\n",
    "- Accept command-line arguments for source and backup. / Prendre les arguments en ligne de commande."
   ]
  },
  {
   "cell_type": "markdown",
   "id": "fa8b6e0b",
   "metadata": {},
   "source": [
    "## 9. Reflection / 9. Réflexion\n",
    "- **Summary:** Why use shell operations in Python? / Pourquoi utiliser le shell en Python ?\n",
    "- **Muddiest point:** What part was tricky? / Quelle partie était difficile ?"
   ]
  },
  {
   "cell_type": "markdown",
   "id": "364180a7",
   "metadata": {},
   "source": [
    "## 10. Resources / 10. Ressources\n",
    "- https://docs.python.org/3/library/shutil.html\n",
    "- https://docs.python.org/3/library/subprocess.html\n",
    "- https://realpython.com/working-with-files-in-python/"
   ]
  }
 ],
 "metadata": {},
 "nbformat": 4,
 "nbformat_minor": 5
}
