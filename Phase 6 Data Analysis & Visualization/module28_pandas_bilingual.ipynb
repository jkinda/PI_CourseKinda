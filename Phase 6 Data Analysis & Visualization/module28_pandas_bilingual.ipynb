{
 "cells": [
  {
   "cell_type": "markdown",
   "id": "bac2d375",
   "metadata": {},
   "source": [
    "# Module 28: Introduction to Pandas\n",
    "## Module 28 : Introduction à Pandas"
   ]
  },
  {
   "cell_type": "markdown",
   "id": "e43e6227",
   "metadata": {},
   "source": [
    "## 1. Why This Matters / 1. Pourquoi c'est important\n",
    "- **English:** Pandas allows you to handle and analyze tabular data easily, with powerful tools for selection and summary.\n",
    "- **Français :** Pandas vous permet de gérer et analyser des données tabulaires facilement, avec des outils puissants pour la sélection et le résumé."
   ]
  },
  {
   "cell_type": "markdown",
   "id": "c85fb156",
   "metadata": {},
   "source": [
    "## 2. Spaced & Interleaved Review / 2. Révision espacée et mélangée\n",
    "- **Flash-back:** How did we read CSV files before? / Comment lisions-nous les fichiers CSV précédemment ?\n",
    "- **Interleaving:** How could you filter data after loading? / Comment filtreriez-vous les données après chargement ?"
   ]
  },
  {
   "cell_type": "markdown",
   "id": "2a6374ab",
   "metadata": {},
   "source": [
    "## 3. Quick Quiz / 3. Quiz rapide\n",
    "1. True or False: A Pandas Series is like a column in a table. / Vrai ou Faux : une Series est comme une colonne dans un tableau.\n",
    "2. Which object holds 2D data with rows and columns? / Quel objet contient des données 2D avec lignes et colonnes ?\n",
    "3. How do you select the 'Age' column from DataFrame df? / Comment sélectionner la colonne 'Age' du DataFrame df ?\n",
    "4. What method gives basic stats like mean and count? / Quelle méthode donne des statistiques de base comme moyenne et compte ?"
   ]
  },
  {
   "cell_type": "markdown",
   "id": "0aa2d8af",
   "metadata": {},
   "source": [
    "## 4. Learning Objectives / 4. Objectifs d'apprentissage\n",
    "By the end, you can: / À la fin, vous pourrez :\n",
    "- Create Series and DataFrame objects. / Créer des Series et DataFrame.\n",
    "- Select data by label and position. / Sélectionner des données par étiquette et position.\n",
    "- Filter rows with conditions. / Filtrer les lignes avec des conditions.\n",
    "- Use `describe()` for summary statistics. / Utiliser `describe()` pour les statistiques."
   ]
  },
  {
   "cell_type": "markdown",
   "id": "29dc4815",
   "metadata": {},
   "source": [
    "## 5. Core Content / 5. Contenu principal\n",
    "- **Series creation / création de Series :**\n",
    "```python\n",
    "import pandas as pd\n",
    "s = pd.Series([10, 20, 30], index=['a', 'b', 'c'])\n",
    "print(s)\n",
    "```  \n",
    "- **DataFrame creation / création de DataFrame :**\n",
    "```python\n",
    "df = pd.DataFrame({\n",
    "    'Name': ['Alice', 'Bob', 'Charlie'],\n",
    "    'Age': [25, 30, 35],\n",
    "    'Score': [85.5, 92.0, 88.0]\n",
    "})\n",
    "print(df)\n",
    "```  \n",
    "- **Selection / sélection :**\n",
    "```python\n",
    "print(df['Age'])           # column by label\n",
    "print(df.loc[0])          # row by label (index)\n",
    "print(df.iloc[1, 2])      # by integer position\n",
    "```  \n",
    "- **Filtering / filtrage :**\n",
    "```python\n",
    "print(df[df['Score'] > 90])  # rows where Score > 90\n",
    "```  \n",
    "- **Summary / résumé :**\n",
    "```python\n",
    "print(df.describe())\n",
    "```"
   ]
  },
  {
   "cell_type": "markdown",
   "id": "1a96ecd9",
   "metadata": {},
   "source": [
    "## 6. Starter Code (Incomplete) / 6. Code de démarrage (incomplet)\n",
    "Complete the TODOs to create and explore a DataFrame. / Complétez les TODO pour créer et explorer un DataFrame."
   ]
  },
  {
   "cell_type": "code",
   "execution_count": null,
   "id": "87ce663f",
   "metadata": {},
   "outputs": [],
   "source": [
    "# pandas_starter.py\n",
    "import pandas as pd\n",
    "\n",
    "# TODO: create a Series of temperatures [22, 21, 23] with labels ['Jan', 'Feb', 'Mar']\n",
    "temps = None\n",
    "\n",
    "# TODO: create a DataFrame 'data' with columns 'City' and 'Population'\n",
    "data = None\n",
    "\n",
    "print(temps)\n",
    "print(data.head())\n",
    "\n",
    "# TODO: filter 'data' for Population > 1000000\n"
   ]
  },
  {
   "cell_type": "markdown",
   "id": "8a2067e2",
   "metadata": {},
   "source": [
    "## 7. Hands-On Project: Sales Data Analysis / 7. Projet pratique : Analyse des ventes\n",
    "- **Description:**\n",
    "  1. Load 'sales.csv' into a DataFrame (columns: Date, Product, Amount).\n",
    "  2. Select sales for 'Product A'.\n",
    "  3. Calculate total and average Amount.\n",
    "  4. Display results.\n",
    "- **Rubric / Barème :**\n",
    "- Data loading and parsing: 30% / Chargement et parsing : 30%\n",
    "- Selection and filtering: 30% / Sélection et filtrage : 30%\n",
    "- Summary statistics: 30% / Statistiques de résumé : 30%\n",
    "- Code clarity & comments: 10% / Clarté du code et commentaires : 10%"
   ]
  },
  {
   "cell_type": "markdown",
   "id": "67cc7b2b",
   "metadata": {},
   "source": [
    "## 8. Stretch Tasks / 8. Tâches supplémentaires\n",
    "- Add a new column with 10% tax on Amount. / Ajoutez une colonne avec 10% de taxe sur Amount.\n",
    "- Group by Product and calculate totals. / Groupez par produit et calculez les totaux.\n",
    "- Plot a bar chart of total sales by product. / Tracez un graphique à barres des ventes totales par produit."
   ]
  },
  {
   "cell_type": "markdown",
   "id": "5b451985",
   "metadata": {},
   "source": [
    "## 9. Reflection / 9. Réflexion\n",
    "- **Summary:** How does Pandas simplify data tasks? / Comment Pandas simplifie-t-il les tâches de données ?\n",
    "- **Muddiest point:** Any confusion with loc vs iloc? / Des doutes sur loc vs iloc ?"
   ]
  },
  {
   "cell_type": "markdown",
   "id": "bd57faea",
   "metadata": {},
   "source": [
    "## 10. Resources / 10. Ressources\n",
    "- https://pandas.pydata.org/docs/\n",
    "- https://pandas.pydata.org/docs/reference/series.html\n",
    "- https://pandas.pydata.org/docs/reference/frame.html\n",
    "- https://realpython.com/pandas-python-explore-dataset/"
   ]
  }
 ],
 "metadata": {},
 "nbformat": 4,
 "nbformat_minor": 5
}
