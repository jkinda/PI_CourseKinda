{
 "cells": [
  {
   "cell_type": "markdown",
   "id": "fa8be795",
   "metadata": {},
   "source": [
    "# Module 30: Visualization with Matplotlib\n",
    "## Module 30 : Visualisation avec Matplotlib"
   ]
  },
  {
   "cell_type": "markdown",
   "id": "f9237dcd",
   "metadata": {},
   "source": [
    "## 1. Why This Matters / 1. Pourquoi c'est important\n",
    "- **English:** Visualizing data helps you see patterns, trends, and insights at a glance.\n",
    "- **Français :** La visualisation de données permet de voir rapidement des tendances et des informations clés."
   ]
  },
  {
   "cell_type": "markdown",
   "id": "954a582d",
   "metadata": {},
   "source": [
    "## 2. Spaced & Interleaved Review / 2. Révision espacée et mélangée\n",
    "- **Flash-back:** How do you summarize data with Pandas? / Comment résume-t-on des données avec Pandas ?\n",
    "- **Interleaving:** How could you plot values from a DataFrame column? / Comment traceriez-vous des valeurs d'une colonne de DataFrame ?"
   ]
  },
  {
   "cell_type": "markdown",
   "id": "cce22cf3",
   "metadata": {},
   "source": [
    "## 3. Quick Quiz / 3. Quiz rapide\n",
    "1. True or False: `plt.plot()` makes a line plot. / Vrai ou Faux : `plt.plot()` crée un graphique en ligne.\n",
    "2. Which function creates a bar chart? / Quelle fonction crée un diagramme à barres ?\n",
    "3. How do you add a legend to a plot? / Comment ajouter une légende à un graphique ?\n",
    "4. Which methods set x-axis and y-axis labels? / Quelles méthodes définissent les labels des axes x et y ?"
   ]
  },
  {
   "cell_type": "markdown",
   "id": "a8a68126",
   "metadata": {},
   "source": [
    "## 4. Learning Objectives / 4. Objectifs d'apprentissage\n",
    "By the end, you can: / À la fin, vous pourrez :\n",
    "- Create line, bar, and scatter plots. / Créer des graphiques en ligne, barres et nuages de points.\n",
    "- Customize titles, axes labels, and legends. / Personnaliser titres, labels d'axes et légendes.\n",
    "- Adjust plot appearance (markers, line styles). / Ajuster l'apparence (marqueurs, styles de ligne)."
   ]
  },
  {
   "cell_type": "markdown",
   "id": "af9e2975",
   "metadata": {},
   "source": [
    "## 5. Core Content / 5. Contenu principal\n",
    "- **Import Matplotlib / Importation :**\n",
    "```python\n",
    "import matplotlib.pyplot as plt\n",
    "```  \n",
    "- **Line Plot / Graphique en ligne :**\n",
    "```python\n",
    "x = [1, 2, 3, 4]\n",
    "y = [10, 20, 15, 25]\n",
    "plt.plot(x, y)\n",
    "plt.title('Line Plot Example')\n",
    "plt.xlabel('X axis')\n",
    "plt.ylabel('Y axis')\n",
    "plt.legend(['Series 1'])\n",
    "plt.show()\n",
    "```  \n",
    "- **Bar Chart / Diagramme à barres :**\n",
    "```python\n",
    "categories = ['A', 'B', 'C']\n",
    "values = [5, 7, 3]\n",
    "plt.bar(categories, values)\n",
    "plt.title('Bar Chart')\n",
    "plt.xlabel('Category')\n",
    "plt.ylabel('Value')\n",
    "plt.show()\n",
    "```  \n",
    "- **Scatter Plot / Nuage de points :**\n",
    "```python\n",
    "x = [1, 2, 3, 4]\n",
    "y = [2, 3, 5, 4]\n",
    "plt.scatter(x, y)\n",
    "plt.title('Scatter Plot')\n",
    "plt.xlabel('X')\n",
    "plt.ylabel('Y')\n",
    "plt.show()\n",
    "```"
   ]
  },
  {
   "cell_type": "markdown",
   "id": "e11d3679",
   "metadata": {},
   "source": [
    "## 6. Starter Code (Incomplete) / 6. Code de démarrage (incomplet)\n",
    "Complete the TODOs to create and customize plots. / Complétez les TODO pour créer et personnaliser des graphiques."
   ]
  },
  {
   "cell_type": "code",
   "execution_count": null,
   "id": "d9c4b3ff",
   "metadata": {},
   "outputs": [],
   "source": [
    "# visualization_starter.py\n",
    "import matplotlib.pyplot as plt\n",
    "\n",
    "# Line plot\n",
    "x = [0, 1, 2, 3]\n",
    "y = [0, 1, 4, 9]\n",
    "# TODO: plot x vs y as a line, add title and labels\n",
    "\n",
    "# Bar chart\n",
    "categories = ['X', 'Y', 'Z']\n",
    "values = [10, 20, 15]\n",
    "# TODO: create a bar chart and label axes\n",
    "\n",
    "# Scatter plot\n",
    "pts_x = [1, 2, 3, 4]\n",
    "pts_y = [1, 4, 2, 3]\n",
    "# TODO: create a scatter plot, add a legend\n"
   ]
  },
  {
   "cell_type": "markdown",
   "id": "7bba5ebe",
   "metadata": {},
   "source": [
    "## 7. Hands-On Project: Sales Visualization / 7. Projet pratique : Visualisation des ventes\n",
    "- **Description:**\n",
    "  1. Load 'sales.csv' with columns: Month, Product A, Product B.\n",
    "  2. Plot a line chart showing both products over months.\n",
    "  3. Create a bar chart comparing total sales per product.\n",
    "  4. Customize with titles, labels, and legend.\n",
    "- **Rubric / Barème :**\n",
    "- Correct plots: 50% / Graphiques corrects : 50%\n",
    "- Customization (titles, labels): 30% / Personnalisation : 30%\n",
    "- Code clarity & comments: 20% / Clarté du code et commentaires : 20%"
   ]
  },
  {
   "cell_type": "markdown",
   "id": "3f165ce9",
   "metadata": {},
   "source": [
    "## 8. Stretch Tasks / 8. Tâches supplémentaires\n",
    "- Plot multiple series with different markers. / Tracer plusieurs séries avec marqueurs différents.\n",
    "- Save plots to PNG files. / Enregistrer les graphiques en fichiers PNG.\n",
    "- Create a subplot layout (2 plots in one figure). / Créer une mise en page de sous-graphiques."
   ]
  },
  {
   "cell_type": "markdown",
   "id": "6e261540",
   "metadata": {},
   "source": [
    "## 9. Reflection / 9. Réflexion\n",
    "- **Summary:** What new plotting skills did you learn? / Quelles nouvelles compétences de tracé avez-vous apprises ?\n",
    "- **Muddiest point:** Any confusion with labels or legends? / Des doutes sur les labels ou légendes ?"
   ]
  },
  {
   "cell_type": "markdown",
   "id": "3dd64c71",
   "metadata": {},
   "source": [
    "## 10. Resources / 10. Ressources\n",
    "- https://matplotlib.org/stable/api/pyplot_summary.html\n",
    "- https://matplotlib.org/stable/tutorials/introductory/pyplot.html\n",
    "- https://realpython.com/python-matplotlib-guide/"
   ]
  }
 ],
 "metadata": {},
 "nbformat": 4,
 "nbformat_minor": 5
}
