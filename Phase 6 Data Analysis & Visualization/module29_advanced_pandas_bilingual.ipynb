{
 "cells": [
  {
   "cell_type": "markdown",
   "id": "57c8fcd0",
   "metadata": {},
   "source": [
    "# Module 29: Advanced Pandas\n",
    "## Module 29 : Pandas avancé"
   ]
  },
  {
   "cell_type": "markdown",
   "id": "acba65eb",
   "metadata": {},
   "source": [
    "## 1. Why This Matters / 1. Pourquoi c'est important\n",
    "- **English:** Advanced features like group operations, pivot tables, and joins let you summarize and combine data easily.\n",
    "- **Français :** Les fonctionnalités avancées comme groupby, tableaux croisés et jointures facilitent le résumé et la combinaison des données."
   ]
  },
  {
   "cell_type": "markdown",
   "id": "9c43fcc8",
   "metadata": {},
   "source": [
    "## 2. Spaced & Interleaved Review / 2. Révision espacée et mélangée\n",
    "- **Flash-back:** How do you filter rows in a DataFrame? / Comment filtre-t-on des lignes dans un DataFrame ?\n",
    "- **Interleaving:** How might you merge two DataFrames on a key? / Comment fusionner deux DataFrames sur une clé ?"
   ]
  },
  {
   "cell_type": "markdown",
   "id": "d8664c9e",
   "metadata": {},
   "source": [
    "## 3. Quick Quiz / 3. Quiz rapide\n",
    "1. True or False: `df.groupby('col')` returns a DataFrame. / Vrai ou Faux : `df.groupby('col')` renvoie un DataFrame.\n",
    "2. What method gives the mean of groups? / Quelle méthode donne la moyenne des groupes ?\n",
    "3. How do you pivot a table with index, columns, and values? / Comment pivoter un tableau avec index, colonnes et valeurs ?\n",
    "4. Which method fills missing values? / Quelle méthode remplit les valeurs manquantes ?"
   ]
  },
  {
   "cell_type": "markdown",
   "id": "a767b782",
   "metadata": {},
   "source": [
    "## 4. Learning Objectives / 4. Objectifs d'apprentissage\n",
    "By the end, you can: / À la fin, vous pourrez :\n",
    "- Use `groupby` to aggregate data. / Utiliser `groupby` pour agréger les données.\n",
    "- Create pivot tables with `pivot_table`. / Créer des tableaux croisés dynamiques avec `pivot_table`.\n",
    "- Merge/join DataFrames on keys. / Fusionner/jointer des DataFrames sur des clés.\n",
    "- Handle missing data with `dropna` and `fillna`. / Gérer les valeurs manquantes avec `dropna` et `fillna`."
   ]
  },
  {
   "cell_type": "markdown",
   "id": "0294acef",
   "metadata": {},
   "source": [
    "## 5. Core Content / 5. Contenu principal\n",
    "- **GroupBy / Regroupement :**\n",
    "```python\n",
    "import pandas as pd\n",
    "df = pd.DataFrame({'Category': ['A', 'A', 'B'], 'Value': [10, 20, 30]})\n",
    "grouped = df.groupby('Category').sum()\n",
    "print(grouped)\n",
    "```  \n",
    "- **Pivot Table / Tableau croisé :**\n",
    "```python\n",
    "df = pd.DataFrame({'Date': ['2025-01','2025-01','2025-02'], 'Product': ['X','Y','X'], 'Sales': [100,150,200]})\n",
    "pivot = df.pivot_table(index='Date', columns='Product', values='Sales', aggfunc='sum')\n",
    "print(pivot)\n",
    "```  \n",
    "- **Merge/Join / Fusion :**\n",
    "```python\n",
    "df1 = pd.DataFrame({'ID': [1,2], 'Name': ['Alice','Bob']})\n",
    "df2 = pd.DataFrame({'ID': [1,2], 'Score': [85,90]})\n",
    "merged = pd.merge(df1, df2, on='ID')\n",
    "print(merged)\n",
    "```  \n",
    "- **Missing Data / Données manquantes :**\n",
    "```python\n",
    "df = pd.DataFrame({'A': [1, None, 3], 'B': [4,5,None]})\n",
    "dropped = df.dropna()       # remove rows with NaN\n",
    "filled = df.fillna(0)       # replace NaN with 0\n",
    "print(dropped, filled)\n",
    "```"
   ]
  },
  {
   "cell_type": "markdown",
   "id": "1db8972a",
   "metadata": {},
   "source": [
    "## 6. Starter Code (Incomplete) / 6. Code de démarrage (incomplet)\n",
    "Complete the TODOs to use advanced Pandas methods. / Complétez les TODO pour utiliser les méthodes avancées de Pandas."
   ]
  },
  {
   "cell_type": "code",
   "execution_count": null,
   "id": "225280b4",
   "metadata": {},
   "outputs": [],
   "source": [
    "# advanced_pandas_starter.py\n",
    "import pandas as pd\n",
    "\n",
    "data = pd.DataFrame({\n",
    "    'Group': ['X','X','Y','Y'],\n",
    "    'Value': [5,10,15,20],\n",
    "    'Date': ['2025-01','2025-01','2025-02','2025-02']\n",
    "})\n",
    "\n",
    "# TODO: group by 'Group' and calculate mean of 'Value'\n",
    "group_mean = None\n",
    "\n",
    "# TODO: pivot the table with index='Date', columns='Group', values='Value'\n",
    "pivot_table = None\n",
    "\n",
    "# TODO: create a new DataFrame with some missing values and fill them with -1\n",
    "df_missing = pd.DataFrame({'A':[1,None], 'B':[None,2]})\n",
    "df_filled = None\n",
    "\n",
    "print(group_mean)\n",
    "print(pivot_table)\n",
    "print(df_filled)\n"
   ]
  },
  {
   "cell_type": "markdown",
   "id": "66a7061b",
   "metadata": {},
   "source": [
    "## 7. Hands-On Project: Sales Summary by Region / 7. Projet pratique : Résumé des ventes par région\n",
    "- **Description:**\n",
    "  1. Load 'sales_data.csv' with columns: Region, Product, Amount.\n",
    "  2. Group by Region and sum Amount.\n",
    "  3. Pivot table: index=Region, columns=Product, values=Amount.\n",
    "  4. Handle any missing sales values by filling with 0.\n",
    "- **Rubric / Barème :**\n",
    "- GroupBy aggregation: 30% / Agrégation GroupBy : 30%\n",
    "- Pivot table creation: 30% / Création du tableau croisé : 30%\n",
    "- Missing data handling: 20% / Gestion des données manquantes : 20%\n",
    "- Code clarity & comments: 20% / Clarté du code et commentaires : 20%"
   ]
  },
  {
   "cell_type": "markdown",
   "id": "274cb3df",
   "metadata": {},
   "source": [
    "## 8. Stretch Tasks / 8. Tâches supplémentaires\n",
    "- Add a multi-index groupby (Group and Date). / Ajoutez un regroupement multi-index (Group et Date).\n",
    "- Calculate multiple aggregations (sum, mean). / Calculez plusieurs agrégations (somme, moyenne).\n",
    "- Merge results with another DataFrame of targets. / Fusionnez les résultats avec un autre DataFrame de cibles."
   ]
  },
  {
   "cell_type": "markdown",
   "id": "a1934c10",
   "metadata": {},
   "source": [
    "## 9. Reflection / 9. Réflexion\n",
    "- **Summary:** How do advanced methods speed up data analysis? / Comment les méthodes avancées accélèrent-elles l'analyse ?\n",
    "- **Muddiest point:** Any confusion with pivot_table parameters? / Des doutes sur les paramètres de pivot_table ?"
   ]
  },
  {
   "cell_type": "markdown",
   "id": "9149d1ed",
   "metadata": {},
   "source": [
    "## 10. Resources / 10. Ressources\n",
    "- https://pandas.pydata.org/docs/reference/api/pandas.DataFrame.groupby.html\n",
    "- https://pandas.pydata.org/docs/reference/api/pandas.pivot_table.html\n",
    "- https://pandas.pydata.org/docs/reference/api/pandas.DataFrame.merge.html\n",
    "- https://pandas.pydata.org/docs/user_guide/missing_data.html"
   ]
  }
 ],
 "metadata": {},
 "nbformat": 4,
 "nbformat_minor": 5
}
