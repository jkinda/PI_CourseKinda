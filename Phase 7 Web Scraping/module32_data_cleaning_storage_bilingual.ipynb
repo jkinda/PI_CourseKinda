{
 "cells": [
  {
   "cell_type": "markdown",
   "id": "3224590e",
   "metadata": {},
   "source": [
    "# Module 32: Data Cleaning and Storage\n",
    "## Module 32 : Nettoyage et stockage des données"
   ]
  },
  {
   "cell_type": "markdown",
   "id": "c26f97e2",
   "metadata": {},
   "source": [
    "## 1. Why This Matters / 1. Pourquoi c'est important\n",
    "- **English:** Clean data before analysis to ensure accuracy, and store results in formats or databases for later use.\n",
    "- **Français :** Nettoyez les données avant l'analyse pour garantir la précision, puis stockez-les dans des formats ou bases de données pour réutilisation."
   ]
  },
  {
   "cell_type": "markdown",
   "id": "ad93005a",
   "metadata": {},
   "source": [
    "## 2. Spaced & Interleaved Review / 2. Révision espacée et mélangée\n",
    "- **Flash-back:** How do you read JSON or CSV files? / Comment lit-on des fichiers JSON ou CSV ?\n",
    "- **Interleaving:** How could you fill missing values in a DataFrame? / Comment remplir les valeurs manquantes dans un DataFrame ?"
   ]
  },
  {
   "cell_type": "markdown",
   "id": "810a1b98",
   "metadata": {},
   "source": [
    "## 3. Quick Quiz / 3. Quiz rapide\n",
    "1. True or False: You should remove duplicates before analysis. / Vrai ou Faux : Vous devez supprimer les doublons avant l'analyse.\n",
    "2. Which pandas method drops rows with any NaN? / Quelle méthode Pandas supprime les lignes contenant des NaN ?\n",
    "3. How do you write a DataFrame to a JSON file? / Comment écrire un DataFrame dans un fichier JSON ?\n",
    "4. Name one Python library for working with SQL databases. / Nommez une bibliothèque Python pour travailler avec des bases SQL."
   ]
  },
  {
   "cell_type": "markdown",
   "id": "81618531",
   "metadata": {},
   "source": [
    "## 4. Learning Objectives / 4. Objectifs d'apprentissage\n",
    "By the end, you can: / À la fin, vous pourrez :\n",
    "- Perform basic data cleaning (missing values, duplicates). / Effectuer un nettoyage de base (valeurs manquantes, doublons).\n",
    "- Save cleaned data to CSV and JSON. / Sauvegarder les données nettoyées en CSV et JSON.\n",
    "- Store data in a SQLite database using `sqlite3` or SQLAlchemy. / Stocker les données dans une base SQLite avec `sqlite3` ou SQLAlchemy.\n",
    "- Load data back from storage for analysis. / Recharger les données depuis le stockage pour l'analyse."
   ]
  },
  {
   "cell_type": "markdown",
   "id": "b48e1243",
   "metadata": {},
   "source": [
    "## 5. Core Content / 5. Contenu principal\n",
    "- **Pandas cleaning / Nettoyage avec Pandas:**\n",
    "  ```python\n",
    "  import pandas as pd\n",
    "  df = pd.read_csv('raw_data.csv')\n",
    "  df = df.drop_duplicates()\n",
    "  df = df.dropna(subset=['important_column'])\n",
    "  df['column'] = df['column'].fillna('unknown')\n",
    "  ```\n",
    "- **Export to CSV/JSON / Export vers CSV/JSON:**\n",
    "  ```python\n",
    "  df.to_csv('clean_data.csv', index=False)\n",
    "  df.to_json('clean_data.json', orient='records')\n",
    "  ```\n",
    "- **SQLite with sqlite3 / SQLite avec sqlite3:**\n",
    "  ```python\n",
    "  import sqlite3\n",
    "  conn = sqlite3.connect('data.db')\n",
    "  df.to_sql('table_name', conn, if_exists='replace', index=False)\n",
    "  loaded = pd.read_sql('SELECT * FROM table_name', conn)\n",
    "  conn.close()\n",
    "  ```\n",
    "- **SQLAlchemy (optional) / SQLAlchemy (en option):**\n",
    "  ```python\n",
    "  from sqlalchemy import create_engine\n",
    "  engine = create_engine('sqlite:///data.db')\n",
    "  df.to_sql('table_name', engine, if_exists='replace', index=False)\n",
    "  ```\n"
   ]
  },
  {
   "cell_type": "markdown",
   "id": "77ee8167",
   "metadata": {},
   "source": [
    "## 6. Starter Code (Incomplete) / 6. Code de démarrage (incomplet)\n",
    "Complete the TODOs to clean and store data. / Complétez les TODO pour nettoyer et stocker les données."
   ]
  },
  {
   "cell_type": "code",
   "execution_count": null,
   "id": "f8ea0b56",
   "metadata": {},
   "outputs": [],
   "source": [
    "# data_cleaning_storage_starter.py\n",
    "import pandas as pd\n",
    "import sqlite3\n",
    "\n",
    "# TODO: load 'raw_data.csv' into DataFrame df\n",
    "df = None\n",
    "\n",
    "# TODO: drop duplicate rows and rows with missing 'id'\n",
    "\n",
    "# TODO: fill missing 'value' with 0\n",
    "\n",
    "# TODO: save df to 'clean_data.csv' and 'clean_data.json'\n",
    "\n",
    "# TODO: store df in SQLite table 'clean_table' in 'data.db'\n"
   ]
  },
  {
   "cell_type": "markdown",
   "id": "f1be8a30",
   "metadata": {},
   "source": [
    "## 7. Hands-On Project: Clean and Store Dataset / 7. Projet pratique : Nettoyer et stocker un jeu de données\n",
    "- **Description:**\n",
    "  1. Load a provided raw CSV with columns: id, name, value, date.\n",
    "  2. Remove duplicates and rows with missing id or name.\n",
    "  3. Convert the date column to datetime type.\n",
    "  4. Save the cleaned data to CSV, JSON, and a SQLite database table.\n",
    "- **Rubric / Barème :**\n",
    "  - Cleaning accuracy: 40% / Nettoyage précis : 40%\n",
    "  - Data type conversion: 20% / Conversion des types : 20%\n",
    "  - Storage to files and DB: 30% / Stockage fichiers et BD : 30%\n",
    "  - Code clarity & comments: 10% / Clarté du code et commentaires : 10%"
   ]
  },
  {
   "cell_type": "markdown",
   "id": "3494b9f0",
   "metadata": {},
   "source": [
    "## 8. Stretch Tasks / 8. Tâches supplémentaires\n",
    "- Add validation checks for data types and ranges. / Ajouter des vérifications de type et plage.\n",
    "- Use SQLAlchemy to manage the database session. / Utiliser SQLAlchemy pour gérer la session BD.\n",
    "- Schedule the cleaning script to run daily with a timestamped backup. / Planifier le script pour exécution quotidienne avec sauvegarde horodatée."
   ]
  },
  {
   "cell_type": "markdown",
   "id": "cdd8fbf4",
   "metadata": {},
   "source": [
    "## 9. Reflection / 9. Réflexion\n",
    "- **Summary:** How does cleaning improve data quality? / Comment le nettoyage améliore-t-il la qualité des données ?\n",
    "- **Muddiest point:** Any confusion with to_sql parameters? / Des doutes sur les paramètres to_sql ?"
   ]
  },
  {
   "cell_type": "markdown",
   "id": "9985388f",
   "metadata": {},
   "source": [
    "## 10. Resources / 10. Ressources\n",
    "- https://pandas.pydata.org/docs/user_guide/cookbook.html#cleaning-data\n",
    "- https://docs.python.org/3/library/json.html\n",
    "- https://docs.python.org/3/library/sqlite3.html\n",
    "- https://docs.sqlalchemy.org/"
   ]
  }
 ],
 "metadata": {},
 "nbformat": 4,
 "nbformat_minor": 5
}
