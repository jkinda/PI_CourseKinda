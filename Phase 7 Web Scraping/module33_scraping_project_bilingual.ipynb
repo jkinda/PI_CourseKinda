{
 "cells": [
  {
   "cell_type": "markdown",
   "id": "928e6b60",
   "metadata": {},
   "source": [
    "# Module 33: Challenge — Scraping Project\n",
    "## Module 33 : Défi — Projet de scraping"
   ]
  },
  {
   "cell_type": "markdown",
   "id": "26304b00",
   "metadata": {},
   "source": [
    "## 1. Why This Matters / 1. Pourquoi c'est important\n",
    "- **English:** Integrating scraping, storage, and analysis solidifies skills and produces meaningful insights.\n",
    "- **Français :** Intégrer le scraping, le stockage et l'analyse renforce les compétences et produit des résultats exploitables."
   ]
  },
  {
   "cell_type": "markdown",
   "id": "7aefb827",
   "metadata": {},
   "source": [
    "## 2. Spaced & Interleaved Review / 2. Révision espacée et mélangée\n",
    "- **Flash-back:** What libraries help scrape and parse HTML? / Quelles bibliothèques aident à scraper et parser le HTML ?\n",
    "- **Interleaving:** How could you save scraped data to CSV or JSON? / Comment enregistrer les données scrapées en CSV ou JSON ?"
   ]
  },
  {
   "cell_type": "markdown",
   "id": "2f9b3fd5",
   "metadata": {},
   "source": [
    "## 3. Quick Quiz / 3. Quiz rapide\n",
    "1. True or False: You must handle missing data after scraping. / Vrai ou Faux : Il faut gérer les données manquantes après le scraping.\n",
    "2. Which Pandas method reads a JSON file? / Quelle méthode Pandas lit un fichier JSON ?\n",
    "3. How do you select all <a> tags with BeautifulSoup? / Comment sélectionner toutes les balises <a> avec BeautifulSoup ?\n",
    "4. What function writes a DataFrame to CSV? / Quelle fonction écrit un DataFrame en CSV ?"
   ]
  },
  {
   "cell_type": "markdown",
   "id": "9b041c5c",
   "metadata": {},
   "source": [
    "## 4. Learning Objectives / 4. Objectifs d'apprentissage\n",
    "By the end, you can: / À la fin, vous pourrez :\n",
    "- Scrape a real website and extract structured data. / Scraper un site réel et extraire des données structurées.\n",
    "- Store the data in CSV or JSON. / Stocker les données en CSV ou JSON.\n",
    "- Load and clean the data with Pandas. / Charger et nettoyer les données avec Pandas.\n",
    "- Analyze and visualize insights. / Analyser et visualiser les résultats."
   ]
  },
  {
   "cell_type": "markdown",
   "id": "54f2e611",
   "metadata": {},
   "source": [
    "## 5. Core Content / 5. Contenu principal\n",
    "- **Scraping with requests and BeautifulSoup**\n",
    "```python\n",
    "import requests\n",
    "from bs4 import BeautifulSoup\n",
    "r = requests.get('https://quotes.toscrape.com')\n",
    "soup = BeautifulSoup(r.text, 'lxml')\n",
    "```  \n",
    "- **Extracting elements**\n",
    "```python\n",
    "quotes = soup.select('.quote')\n",
    "data = []\n",
    "for q in quotes:\n",
    "    text = q.find('span', class_='text').text\n",
    "    author = q.find('small', class_='author').text\n",
    "    data.append({'quote': text, 'author': author})\n",
    "```  \n",
    "- **Storage**\n",
    "```python\n",
    "import pandas as pd\n",
    "df = pd.DataFrame(data)\n",
    "df.to_csv('quotes.csv', index=False)\n",
    "df.to_json('quotes.json', orient='records')\n",
    "```  \n",
    "- **Analysis**\n",
    "```python\n",
    "df = pd.read_csv('quotes.csv')\n",
    "df['author'].value_counts().head(10)\n",
    "```"
   ]
  },
  {
   "cell_type": "markdown",
   "id": "29b36240",
   "metadata": {},
   "source": [
    "## 6. Starter Code (Incomplete) / 6. Code de démarrage (incomplet)\n",
    "Fill in the TODOs to complete the project pipeline. / Remplissez les TODO pour finaliser le pipeline du projet."
   ]
  },
  {
   "cell_type": "code",
   "execution_count": null,
   "id": "11837640",
   "metadata": {},
   "outputs": [],
   "source": [
    "# scraping_project_starter.py\n",
    "import requests\n",
    "from bs4 import BeautifulSoup\n",
    "import pandas as pd\n",
    "\n",
    "# TODO: fetch page https://quotes.toscrape.com\n",
    "r = None\n",
    "\n",
    "# TODO: parse with BeautifulSoup and extract quote text and author into a list of dicts\n",
    "data = []\n",
    "\n",
    "# TODO: create a DataFrame from data and save to 'quotes.csv'\n",
    "df = None\n",
    "\n",
    "# TODO: reload 'quotes.csv' into a new DataFrame and show top 5 authors by count\n"
   ]
  },
  {
   "cell_type": "markdown",
   "id": "3cf39f19",
   "metadata": {},
   "source": [
    "## 7. Hands-On Project: Scraping and Analysis / 7. Projet pratique : Scraping et analyse\n",
    "- **Description:**\n",
    "  1. Scrape quotes from the first 5 pages of https://quotes.toscrape.com.\n",
    "  2. Extract quote text, author, and tags.\n",
    "  3. Save the combined results into CSV and JSON.\n",
    "  4. Load with Pandas, clean any missing tags, and count the most common tags.\n",
    "\n",
    "**Rubric / Barème :**\n",
    "- Scraping multiple pages and data extraction: 40% / Scraping multiple pages et extraction de données : 40%\n",
    "- Storage to CSV/JSON: 20% / Stockage en CSV/JSON : 20%\n",
    "- Data cleaning and analysis with Pandas: 30% / Nettoyage et analyse avec Pandas : 30%\n",
    "- Code clarity & comments: 10% / Clarté du code et commentaires : 10%"
   ]
  },
  {
   "cell_type": "markdown",
   "id": "f93fe2e0",
   "metadata": {},
   "source": [
    "## 8. Stretch Tasks / 8. Tâches supplémentaires\n",
    "- Visualize author frequency with a bar chart. / Visualiser la fréquence des auteurs avec un diagramme à barres.\n",
    "- Handle pagination stops when no next page. / Gérer la pagination quand il n'y a plus de page.\n",
    "- Save data into a SQLite database and query top tags. / Sauvegarder les données dans SQLite et interroger les tags."
   ]
  },
  {
   "cell_type": "markdown",
   "id": "2524b6ed",
   "metadata": {},
   "source": [
    "## 9. Reflection / 9. Réflexion\n",
    "- **Summary:** Which step was most challenging? / Quelle étape a été la plus difficile ?\n",
    "- **Muddiest point:** Any confusion combining scraping and Pandas? / Des doutes sur la combinaison du scraping et Pandas ?"
   ]
  },
  {
   "cell_type": "markdown",
   "id": "3e24fbb5",
   "metadata": {},
   "source": [
    "## 10. Resources / 10. Ressources\n",
    "- https://quotes.toscrape.com/\n",
    "- https://docs.python-requests.org/en/latest/\n",
    "- https://www.crummy.com/software/BeautifulSoup/bs4/doc/\n",
    "- https://pandas.pydata.org/docs/"
   ]
  }
 ],
 "metadata": {},
 "nbformat": 4,
 "nbformat_minor": 5
}
