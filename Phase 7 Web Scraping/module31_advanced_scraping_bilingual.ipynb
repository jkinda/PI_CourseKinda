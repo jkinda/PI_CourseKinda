{
 "cells": [
  {
   "cell_type": "markdown",
   "id": "59dcf16a",
   "metadata": {},
   "source": [
    "# Module 31: Advanced Scraping Techniques\n",
    "## Module 31 : Techniques de scraping avancées"
   ]
  },
  {
   "cell_type": "markdown",
   "id": "9bae0cde",
   "metadata": {},
   "source": [
    "## 1. Why This Matters / 1. Pourquoi c'est important\n",
    "- **English:** Many websites load data dynamically with JavaScript. Advanced tools like Selenium or requests-html let you scrape this content.\n",
    "- **Français :** De nombreux sites chargent des données dynamiquement avec JavaScript. Des outils avancés comme Selenium ou requests-html permettent de scraper ce contenu."
   ]
  },
  {
   "cell_type": "markdown",
   "id": "ce11ae20",
   "metadata": {},
   "source": [
    "## 2. Spaced & Interleaved Review / 2. Révision espacée et mélangée\n",
    "- **Flash-back:** How do you parse static HTML with BeautifulSoup? / Comment parser du HTML statique avec BeautifulSoup ?\n",
    "- **Interleaving:** How could you maintain a login session with requests? / Comment maintenir une session de connexion avec requests ?"
   ]
  },
  {
   "cell_type": "markdown",
   "id": "0a3bbcfa",
   "metadata": {},
   "source": [
    "## 3. Quick Quiz / 3. Quiz rapide\n",
    "1. True or False: Selenium can execute JavaScript on pages. / Vrai ou Faux : Selenium peut exécuter du JavaScript sur les pages.\n",
    "2. Which method clicks a button element in Selenium? / Quelle méthode clique un élément bouton dans Selenium ?\n",
    "3. How do you create a session object with requests-html? / Comment créer un objet session avec requests-html ?\n",
    "4. What is required to submit an HTML form programmatically? / Qu'est-ce qui est nécessaire pour soumettre un formulaire HTML par programme ?"
   ]
  },
  {
   "cell_type": "markdown",
   "id": "f37c8160",
   "metadata": {},
   "source": [
    "## 4. Learning Objectives / 4. Objectifs d'apprentissage\n",
    "By the end, you can: / À la fin, vous pourrez :\n",
    "- Use Selenium to interact with dynamic websites. / Utiliser Selenium pour interagir avec des sites dynamiques.\n",
    "- Use requests-html for simpler dynamic scraping. / Utiliser requests-html pour un scraping dynamique plus simple.\n",
    "- Submit forms and maintain sessions. / Soumettre des formulaires et maintenir des sessions.\n",
    "- Handle cookies and authentication in scraping. / Gérer les cookies et l'authentification pendant le scraping."
   ]
  },
  {
   "cell_type": "markdown",
   "id": "b71dc45d",
   "metadata": {},
   "source": [
    "## 5. Core Content / 5. Contenu principal\n",
    "- **Selenium setup / mise en place :**\n",
    "```python\n",
    "from selenium import webdriver\n",
    "from selenium.webdriver.common.by import By\n",
    "from selenium.webdriver.common.keys import Keys\n",
    "\n",
    "driver = webdriver.Chrome()\n",
    "driver.get('https://example.com')\n",
    "button = driver.find_element(By.ID, 'load-more')\n",
    "button.click()\n",
    "content = driver.page_source\n",
    "driver.quit()\n",
    "```\n",
    "- **requests-html usage / utilisation de requests-html :**\n",
    "```python\n",
    "from requests_html import HTMLSession\n",
    "\n",
    "session = HTMLSession()\n",
    "r = session.get('https://example.com')\n",
    "r.html.render()  # executes JavaScript\n",
    "items = r.html.find('.item')\n",
    "for item in items:\n",
    "    print(item.text)\n",
    "```  \n",
    "- **Form submission / soumission de formulaire :**\n",
    "```python\n",
    "# Selenium form\n",
    "driver.get('https://example.com/login')\n",
    "username = driver.find_element(By.NAME, 'username')\n",
    "password = driver.find_element(By.NAME, 'password')\n",
    "username.send_keys('user')\n",
    "password.send_keys('pass')\n",
    "password.send_keys(Keys.RETURN)\n",
    "```  \n",
    "- **Sessions and cookies / sessions et cookies :**\n",
    "```python\n",
    "# requests-html session cookies\n",
    "r = session.get('https://example.com')\n",
    "session.cookies.load('cookies.pkl')\n",
    "# after login\n",
    "session.cookies.save('cookies.pkl')\n",
    "```"
   ]
  },
  {
   "cell_type": "markdown",
   "id": "efb60390",
   "metadata": {},
   "source": [
    "## 6. Starter Code (Incomplete) / 6. Code de démarrage (incomplet)\n",
    "Complete the TODOs to load dynamic content and submit a form. / Complétez les TODO pour charger du contenu dynamique et soumettre un formulaire."
   ]
  },
  {
   "cell_type": "code",
   "execution_count": null,
   "id": "9fd1888e",
   "metadata": {},
   "outputs": [],
   "source": [
    "# advanced_scraping_starter.py\n",
    "from requests_html import HTMLSession\n",
    "\n",
    "# TODO: create an HTMLSession and get 'https://example.com'\n",
    "session = None\n",
    "r = None\n",
    "\n",
    "# TODO: render the page to execute JavaScript\n",
    "\n",
    "# TODO: find elements with class 'product' and print their text\n",
    "\n",
    "# TODO: use Selenium to submit a login form\n",
    "from selenium import webdriver\n",
    "from selenium.webdriver.common.by import By\n",
    "from selenium.webdriver.common.keys import Keys\n",
    "\n",
    "driver = webdriver.Chrome()\n",
    "driver.get('https://example.com/login')\n",
    "# TODO: find username and password fields, send keys, submit form\n",
    "driver.quit()\n"
   ]
  },
  {
   "cell_type": "markdown",
   "id": "b56f703d",
   "metadata": {},
   "source": [
    "## 7. Hands-On Project: Scrape Dynamic Site / 7. Projet pratique : Scraper un site dynamique\n",
    "- **Description:** Write a script that:\n",
    "  1. Uses requests-html to render a JavaScript-driven product page and extract product titles.\n",
    "  2. Uses Selenium to log in to a demo site (e.g., https://quotes.toscrape.com/login) and scrape protected content.\n",
    "  3. Maintains session cookies for subsequent requests.\n",
    "- **Rubric / Barème:**\n",
    "  - Dynamic content rendering: 30% / Rendu de contenu dynamique : 30%\n",
    "  - Form login automation: 30% / Automatisation de la connexion : 30%\n",
    "  - Session persistence: 20% / Persistance de session : 20%\n",
    "  - Code clarity & comments: 20% / Clarté du code et commentaires : 20%"
   ]
  },
  {
   "cell_type": "markdown",
   "id": "38353b72",
   "metadata": {},
   "source": [
    "## 8. Stretch Tasks / 8. Tâches supplémentaires\n",
    "- Implement proxy support in Selenium or requests-html. / Implémentez le support de proxy dans Selenium ou requests-html.\n",
    "- Use headless mode for Selenium. / Utilisez le mode headless pour Selenium.\n",
    "- Integrate error handling for stale elements and timeouts. / Intégrez la gestion d'erreurs pour éléments obsolètes et délais."
   ]
  },
  {
   "cell_type": "markdown",
   "id": "9d160a23",
   "metadata": {},
   "source": [
    "## 9. Reflection / 9. Réflexion\n",
    "- **Summary:** What challenges did you face with dynamic scraping? / Quels défis avez-vous rencontrés avec le scraping dynamique ?\n",
    "- **Muddiest point:** Any confusion with render vs page_source? / Des doutes sur render vs page_source ?"
   ]
  },
  {
   "cell_type": "markdown",
   "id": "f1d19013",
   "metadata": {},
   "source": [
    "## 10. Resources / 10. Ressources\n",
    "- https://www.selenium.dev/documentation/\n",
    "- https://requests-html.kennethreitz.org/\n",
    "- https://realpython.com/modern-web-automation-with-python-and-selenium/\n",
    "- https://github.com/psf/requests-html"
   ]
  }
 ],
 "metadata": {},
 "nbformat": 4,
 "nbformat_minor": 5
}
