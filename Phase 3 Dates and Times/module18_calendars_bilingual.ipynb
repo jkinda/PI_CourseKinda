{
 "cells": [
  {
   "cell_type": "markdown",
   "id": "ddca5984",
   "metadata": {},
   "source": [
    "# Module 18: Calendars\n",
    "## Module 18 : Calendriers"
   ]
  },
  {
   "cell_type": "markdown",
   "id": "7a5da3b9",
   "metadata": {},
   "source": [
    "## 1. Why This Matters / 1. Pourquoi c'est important\n",
    "- **English:** The `calendar` module helps you generate views of dates, useful for reports or scheduling.\n",
    "- **Français :** Le module `calendar` permet de générer des vues de dates, utile pour les rapports ou la planification."
   ]
  },
  {
   "cell_type": "markdown",
   "id": "529515c5",
   "metadata": {},
   "source": [
    "## 2. Spaced & Interleaved Review / 2. Révision espacée et mélangée\n",
    "- **Flash-back:** How do you find the weekday of a date? / Comment obtenir le jour de la semaine d'une date ?\n",
    "- **Interleaving:** How could you loop through weeks of a month? / Comment parcourir les semaines d'un mois ?"
   ]
  },
  {
   "cell_type": "markdown",
   "id": "234bc7c3",
   "metadata": {},
   "source": [
    "## 3. Quick Quiz / 3. Quiz rapide\n",
    "1. True or False: `calendar.month(2025, 4)` returns a string. / Vrai ou Faux : `calendar.month(2025, 4)` renvoie une chaîne.\n",
    "2. Which class generates HTML calendars? / Quelle classe génère des calendriers HTML ?\n",
    "3. What function gives you a list of weeks as lists of ints? / Quelle fonction retourne une liste de semaines comme listes d'entiers ?\n",
    "4. How do you change the first weekday to Monday? / Comment définir le premier jour de la semaine à lundi ?"
   ]
  },
  {
   "cell_type": "markdown",
   "id": "ce34c080",
   "metadata": {},
   "source": [
    "## 4. Learning Objectives / 4. Objectifs d'apprentissage\n",
    "By the end, you can: / À la fin, vous pourrez :\n",
    "- Use `calendar` module to print text calendars. / Utiliser le module `calendar` pour afficher des calendriers texte.\n",
    "- Create HTML calendars. / Créer des calendriers HTML.\n",
    "- Configure first weekday. / Configurer le premier jour de la semaine.\n",
    "- Iterate month weeks. / Parcourir les semaines du mois."
   ]
  },
  {
   "cell_type": "markdown",
   "id": "5cbadd55",
   "metadata": {},
   "source": [
    "## 5. Core Content / 5. Contenu principal\n",
    "- **Import calendar / Importation :**\n",
    "```python\n",
    "import calendar\n",
    "```\n",
    "- **TextCalendar**:\n",
    "```python\n",
    "cal = calendar.TextCalendar(calendar.MONDAY)\n",
    "print(cal.formatmonth(2025, 4))\n",
    "```\n",
    "- **HTMLCalendar**:\n",
    "```python\n",
    "html_cal = calendar.HTMLCalendar(calendar.SUNDAY)\n",
    "print(html_cal.formatmonth(2025, 4))\n",
    "```\n",
    "- **monthcalendar**:\n",
    "```python\n",
    "weeks = calendar.monthcalendar(2025, 4)\n",
    "for week in weeks:\n",
    "    print(week)  # list of ints, 0 means no day\n",
    "```\n",
    "- **Set first weekday**:\n",
    "```python\n",
    "calendar.setfirstweekday(calendar.SUNDAY)\n",
    "```\n",
    "\n",
    "**Example (calendars_finished.py) / Exemple :**\n",
    "```python\n",
    "# calendars_finished.py\n",
    "import calendar\n",
    "\n",
    "# Text calendar for April 2025\n",
    "print(calendar.month(2025, 4))\n",
    "\n",
    "# HTML calendar\n",
    "html = calendar.HTMLCalendar().formatyear(2025)\n",
    "with open('2025_calendar.html', 'w') as f:\n",
    "    f.write(html)\n",
    "\n",
    "# Weeks of a month\n",
    "weeks = calendar.monthcalendar(2025, 4)\n",
    "print('Weeks in April 2025:', weeks)\n",
    "```"
   ]
  },
  {
   "cell_type": "markdown",
   "id": "672245bf",
   "metadata": {},
   "source": [
    "## 6. Starter Code (Incomplete) / 6. Code de démarrage (incomplet)\n",
    "Complete the TODOs to generate calendars. / Complétez les TODO pour générer des calendriers."
   ]
  },
  {
   "cell_type": "code",
   "execution_count": null,
   "id": "3b7cf5b8",
   "metadata": {},
   "outputs": [],
   "source": [
    "# calendars_starter.py\n",
    "import calendar\n",
    "\n",
    "# TODO: set first weekday to Monday\n",
    "\n",
    "# TODO: print text calendar for May 2025\n",
    "\n",
    "# TODO: generate HTML calendar for May 2025 and save to 'may_2025.html'\n"
   ]
  },
  {
   "cell_type": "markdown",
   "id": "1899abc1",
   "metadata": {},
   "source": [
    "## 7. Hands-On Project: Meeting Scheduler / 7. Projet pratique : Planificateur de réunions\n",
    "- **Description:** Create a script that:\n",
    "  1. Asks user for year and month.\n",
    "  2. Prints the text calendar.\n",
    "  3. Generates an HTML calendar with weekend days highlighted (wrap in `<strong>` tags).\n",
    "- **Rubric / Barème:**\n",
    "  - User input and validation: 20% / Saisie utilisateur : 20%\n",
    "  - Text calendar formatting: 30% / Formatage texte : 30%\n",
    "  - HTML calendar customization: 30% / Personnalisation HTML : 30%\n",
    "  - Comments and clarity: 20% / Commentaires et clarté : 20%"
   ]
  },
  {
   "cell_type": "markdown",
   "id": "38b841d9",
   "metadata": {},
   "source": [
    "## 8. Stretch Tasks / 8. Tâches supplémentaires\n",
    "- Highlight holidays from a list. / Mettre en évidence les jours fériés.\n",
    "- Create calendars for a whole year. / Créer des calendriers pour une année complète.\n",
    "- Use CSS styles in HTML output. / Utiliser du CSS dans la sortie HTML."
   ]
  },
  {
   "cell_type": "markdown",
   "id": "fd8a468a",
   "metadata": {},
   "source": [
    "## 9. Reflection / 9. Réflexion\n",
    "- **Summary:** How does the calendar module simplify date layouts? / Comment le module calendar simplifie-t-il l'affichage des dates ?\n",
    "- **Muddiest point:** Any confusion with HTML vs text calendars? / Des doutes entre calendriers HTML et texte ?"
   ]
  },
  {
   "cell_type": "markdown",
   "id": "930ce30e",
   "metadata": {},
   "source": [
    "## 10. Resources / 10. Ressources\n",
    "- https://docs.python.org/3/library/calendar.html\n",
    "- https://realpython.com/python-calendar/\n",
    "- https://docs.python.org/3/library/calendar.html#calendar.HTMLCalendar"
   ]
  }
 ],
 "metadata": {},
 "nbformat": 4,
 "nbformat_minor": 5
}
