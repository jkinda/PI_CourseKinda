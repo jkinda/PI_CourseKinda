{
 "cells": [
  {
   "cell_type": "markdown",
   "id": "3cfc44ac",
   "metadata": {},
   "source": [
    "# Module 15: Date Basics\n",
    "## Module 15 : Bases des dates"
   ]
  },
  {
   "cell_type": "markdown",
   "id": "e1a637ef",
   "metadata": {},
   "source": [
    "## 1. Why This Matters / 1. Pourquoi c'est important\n",
    "- **English:** Dates let you record and compare events, schedule tasks, and calculate time differences.\n",
    "- **Français :** Les dates permettent d'enregistrer et comparer des événements, planifier des tâches et calculer des écarts de temps."
   ]
  },
  {
   "cell_type": "markdown",
   "id": "007a3d83",
   "metadata": {},
   "source": [
    "## 2. Spaced & Interleaved Review / 2. Révision espacée et mélangée\n",
    "- **Flash-back:** How do you read a JSON file? / Comment lit-on un fichier JSON ?\n",
    "- **Interleaving:** How might you use a loop to print dates? / Comment utiliser une boucle pour afficher des dates ?"
   ]
  },
  {
   "cell_type": "markdown",
   "id": "0777062f",
   "metadata": {},
   "source": [
    "## 3. Quick Quiz / 3. Quiz rapide\n",
    "1. True or False: `datetime.date.today()` gives the current date. / Vrai ou Faux : `datetime.date.today()` donne la date du jour.\n",
    "2. How do you import the `date` class? / Comment importer la classe `date` ?\n",
    "3. Which attribute returns the month from a date object? / Quel attribut renvoie le mois d'un objet date ?\n",
    "4. What does `weekday()` return when called on a date? / Que renvoie `weekday()` sur une date ?"
   ]
  },
  {
   "cell_type": "markdown",
   "id": "da535d1c",
   "metadata": {},
   "source": [
    "## 4. Learning Objectives / 4. Objectifs d'apprentissage\n",
    "By the end, you can: / À la fin, vous pourrez :\n",
    "- Create `date` and `datetime` objects. / Créer des objets `date` et `datetime`.\n",
    "- Access year, month, day, and weekday. / Accéder à l'année, mois, jour et jour de la semaine.\n",
    "- Format dates into strings. / Formater les dates en chaînes de caractères.\n",
    "- Use dates in basic calculations. / Utiliser les dates pour des calculs simples."
   ]
  },
  {
   "cell_type": "markdown",
   "id": "b49ccfa5",
   "metadata": {},
   "source": [
    "## 5. Core Content / 5. Contenu principal\n",
    "- **Import classes / Importation :**\n",
    "```python\n",
    "from datetime import date, datetime\n",
    "``` \n",
    "- **`date` class / Classe `date` :**\n",
    "  ```python\n",
    "  today = date.today()\n",
    "  print(today)           # 2025-04-28\n",
    "  print(today.year)     # 2025\n",
    "  print(today.month)    # 4\n",
    "  print(today.day)      # 28\n",
    "  print(today.weekday())# 0 (Monday=0)\n",
    "  ```\n",
    "- **`datetime` class / Classe `datetime` :**\n",
    "  ```python\n",
    "  now = datetime.now()\n",
    "  print(now)               # 2025-04-28 12:00:00.123456\n",
    "  print(now.hour, now.minute)\n",
    "  ```\n",
    "- **Formatting / Formatage :**\n",
    "  ```python\n",
    "  print(today.isoformat())      # '2025-04-28'\n",
    "  print(now.strftime('%Y/%m/%d %H:%M'))\n",
    "  ```\n",
    "\n",
    "**Example (dates_finished.py) / Exemple :**\n",
    "```python\n",
    "# dates_finished.py\n",
    "from datetime import date, datetime, timedelta\n",
    "\n",
    "today = date.today()\n",
    "print(f\"Today is {today}\")\n",
    "\n",
    "birthday = date(1990, 5, 15)\n",
    "age = today.year - birthday.year - ((today.month, today.day) < (birthday.month, birthday.day))\n",
    "print(f\"You are {age} years old.\")\n",
    "\n",
    "now = datetime.now()\n",
    "future = now + timedelta(days=7)\n",
    "print(f\"One week from now: {future.strftime('%Y-%m-%d')}\")\n",
    "```"
   ]
  },
  {
   "cell_type": "markdown",
   "id": "f1244449",
   "metadata": {},
   "source": [
    "## 6. Starter Code (Incomplete) / 6. Code de démarrage (incomplet)\n",
    "Fill in the TODOs to create and inspect date objects. / Remplissez les TODO pour créer et inspecter des dates."
   ]
  },
  {
   "cell_type": "code",
   "execution_count": null,
   "id": "505e05ec",
   "metadata": {},
   "outputs": [],
   "source": [
    "# dates_starter.py\n",
    "from datetime import date, datetime\n",
    "\n",
    "# TODO: get today's date and print it\n",
    "today = None\n",
    "\n",
    "# TODO: create a date for your next birthday and print year, month, day\n",
    "next_bday = None\n",
    "\n",
    "# TODO: get current datetime and print hour and minute\n",
    "now = None\n"
   ]
  },
  {
   "cell_type": "markdown",
   "id": "3f9ed825",
   "metadata": {},
   "source": [
    "## 7. Hands-On Project: Birthday Countdown / 7. Projet pratique : Compte à rebours d'anniversaire\n",
    "- **Description:** Write a script that:\n",
    "  1. Asks user for birthday (YYYY-MM-DD).\n",
    "  2. Calculates days until next birthday.\n",
    "  3. Prints a message \"X days until your birthday!\".\n",
    "- **Rubric / Barème:**\n",
    "  - Correct parsing and calculation: 50% / Parsing et calcul corrects : 50%\n",
    "  - Handles past birthdays in the year: 20% / Gère les anniversaires passés : 20%\n",
    "  - User-friendly messages: 20% / Messages conviviaux : 20%\n",
    "  - Code clarity & comments: 10% / Clarté du code et commentaires : 10%"
   ]
  },
  {
   "cell_type": "markdown",
   "id": "aba30cd7",
   "metadata": {},
   "source": [
    "## 8. Stretch Tasks / 8. Tâches supplémentaires\n",
    "- Validate user input format and handle errors. / Valider le format et gérer les erreurs.\n",
    "- Show weekday name for next birthday. / Afficher le jour de la semaine de l'anniversaire.\n",
    "- Add support for different date formats. / Ajouter d'autres formats de date."
   ]
  },
  {
   "cell_type": "markdown",
   "id": "30d07aab",
   "metadata": {},
   "source": [
    "## 9. Reflection / 9. Réflexion\n",
    "- **Summary:** Why are date objects useful? / Pourquoi les objets date sont-ils utiles ?\n",
    "- **Muddiest point:** Any confusion with timedelta? / Des doutes sur timedelta ?"
   ]
  },
  {
   "cell_type": "markdown",
   "id": "feb950b3",
   "metadata": {},
   "source": [
    "## 10. Resources / 10. Ressources\n",
    "- https://docs.python.org/3/library/datetime.html\n",
    "- https://realpython.com/python-datetime/\n",
    "- https://docs.python.org/3/library/datetime.html#date-objects"
   ]
  }
 ],
 "metadata": {},
 "nbformat": 4,
 "nbformat_minor": 5
}
