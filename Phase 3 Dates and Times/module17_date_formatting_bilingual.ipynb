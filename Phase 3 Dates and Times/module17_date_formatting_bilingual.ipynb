{
 "cells": [
  {
   "cell_type": "markdown",
   "id": "ff02706d",
   "metadata": {},
   "source": [
    "# Module 17: Date Formatting\n",
    "## Module 17 : Formatage des dates"
   ]
  },
  {
   "cell_type": "markdown",
   "id": "fc8ba852",
   "metadata": {},
   "source": [
    "## 1. Why This Matters / 1. Pourquoi c'est important\n",
    "- **English:** Formatting dates into strings lets you display dates in ways users expect.\n",
    "- **Français :** Formater les dates en chaînes permet de les afficher comme les utilisateurs le souhaitent."
   ]
  },
  {
   "cell_type": "markdown",
   "id": "1539ad93",
   "metadata": {},
   "source": [
    "## 2. Spaced & Interleaved Review / 2. Révision espacée et mélangée\n",
    "- **Flash-back:** How do you create a datetime object? / Comment crée-t-on un objet datetime ?\n",
    "- **Interleaving:** How could you parse user input date then format it? / Comment analyser une date saisie puis la formater ?"
   ]
  },
  {
   "cell_type": "markdown",
   "id": "004871b7",
   "metadata": {},
   "source": [
    "## 3. Quick Quiz / 3. Quiz rapide\n",
    "1. True or False: `%Y` gives four-digit year. / Vrai ou Faux : `%Y` donne l'année sur quatre chiffres.\n",
    "2. Which code gives month number zero-padded? / Quel code donne le numéro du mois avec zéro devant ?\n",
    "3. How do you format day of week name? / Comment formater le nom du jour de la semaine ?\n",
    "4. Which method converts a datetime to string? / Quelle méthode convertit un datetime en chaîne ?"
   ]
  },
  {
   "cell_type": "markdown",
   "id": "ed8742be",
   "metadata": {},
   "source": [
    "## 4. Learning Objectives / 4. Objectifs d'apprentissage\n",
    "By the end, you can: / À la fin, vous pourrez :\n",
    "- Use `strftime()` to format dates. / Utiliser `strftime()` pour formater les dates.\n",
    "- Choose correct format codes (e.g., `%d`, `%m`, `%Y`). / Choisir les codes de format corrects.\n",
    "- Combine date and time formats. / Combiner formats de date et heure."
   ]
  },
  {
   "cell_type": "markdown",
   "id": "9369751d",
   "metadata": {},
   "source": [
    "## 5. Core Content / 5. Contenu principal\n",
    "- **strftime(format)** on date/datetime:\n",
    "  ```python\n",
    "  from datetime import datetime\n",
    "  now = datetime.now()\n",
    "  print(now.strftime('%Y-%m-%d'))     # 2025-04-28\n",
    "  print(now.strftime('%d/%m/%Y'))     # 28/04/2025\n",
    "  print(now.strftime('%A, %B %d, %Y'))# Monday, April 28, 2025\n",
    "  ```\n",
    "- **Common codes / Codes courants:**\n",
    "  - `%Y`: year 4 digits / année 4 chiffres\n",
    "  - `%y`: year 2 digits / année 2 chiffres\n",
    "  - `%m`: month 01–12 / mois 01–12\n",
    "  - `%d`: day 01–31 / jour 01–31\n",
    "  - `%H`: hour 00–23 / heure 00–23\n",
    "  - `%M`: minute 00–59 / minute 00–59\n",
    "  - `%S`: second 00–59 / seconde 00–59\n",
    "  - `%A`: full weekday name / nom complet jour\n",
    "  - `%a`: short weekday name / abréviation jour\n",
    "\n",
    "**Example (formatting_finished.py) / Exemple :**\n",
    "```python\n",
    "from datetime import datetime\n",
    "\n",
    "dt = datetime(2025, 4, 28, 15, 30)\n",
    "print(dt.strftime('%Y/%m/%d %H:%M:%S'))\n",
    "print(dt.strftime('On %A, %d %B %Y at %I:%M %p'))\n",
    "```"
   ]
  },
  {
   "cell_type": "markdown",
   "id": "254dbe6e",
   "metadata": {},
   "source": [
    "## 6. Starter Code (Incomplete) / 6. Code de démarrage (incomplet)\n",
    "Complete the TODOs to format dates and times. / Complétez les TODO pour formater dates et heures."
   ]
  },
  {
   "cell_type": "code",
   "execution_count": null,
   "id": "bcb9a9c7",
   "metadata": {},
   "outputs": [],
   "source": [
    "# formatting_starter.py\n",
    "from datetime import datetime\n",
    "\n",
    "# TODO: get current datetime and format as 'DD-MM-YYYY'\n",
    "formatted_date = None\n",
    "\n",
    "# TODO: format time as 'HH:MM AM/PM'\n",
    "formatted_time = None\n",
    "\n",
    "print(formatted_date)\n",
    "print(formatted_time)\n"
   ]
  },
  {
   "cell_type": "markdown",
   "id": "5708ad74",
   "metadata": {},
   "source": [
    "## 7. Hands-On Project: Log Formatter / 7. Projet pratique : Formateur de journal\n",
    "- **Description:** Write a script that:\n",
    "  1. Reads log entries with timestamps.\n",
    "  2. Parses each timestamp into datetime.\n",
    "  3. Rewrites logs with formatted timestamps `[YYYY-MM-DD HH:MM] Message`.\n",
    "- **Rubric / Barème:**\n",
    "  - Parsing and formatting: 50% / Parsing et formatage : 50%\n",
    "  - Handles invalid lines: 20% / Gère les lignes invalides : 20%\n",
    "  - Clear output: 20% / Sortie claire : 20%\n",
    "  - Code comments: 10% / Commentaires : 10%"
   ]
  },
  {
   "cell_type": "markdown",
   "id": "c357d542",
   "metadata": {},
   "source": [
    "## 8. Stretch Tasks / 8. Tâches supplémentaires\n",
    "- Allow different input formats via user input. / Autoriser différents formats d'entrée.\n",
    "- Localize month/day names based on locale. / Localiser les noms via la locale.\n",
    "- Use regex to find timestamps in text. / Utiliser regex pour trouver timestamps."
   ]
  },
  {
   "cell_type": "markdown",
   "id": "a6a014cf",
   "metadata": {},
   "source": [
    "## 9. Reflection / 9. Réflexion\n",
    "- **Summary:** Why is formatting important for users? / Pourquoi le formatage est-il important pour les utilisateurs ?\n",
    "- **Muddiest point:** Any confusion with `%I` vs `%H`? / Des doutes sur `%I` vs `%H` ?"
   ]
  },
  {
   "cell_type": "markdown",
   "id": "83454126",
   "metadata": {},
   "source": [
    "## 10. Resources / 10. Ressources\n",
    "- https://docs.python.org/3/library/datetime.html#strftime-and-strptime-behavior\n",
    "- https://strftime.org/\n",
    "- https://realpython.com/python-datetime/#strftime-and-strptime"
   ]
  }
 ],
 "metadata": {},
 "nbformat": 4,
 "nbformat_minor": 5
}
