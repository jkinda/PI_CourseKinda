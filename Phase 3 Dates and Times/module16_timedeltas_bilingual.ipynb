{
 "cells": [
  {
   "cell_type": "markdown",
   "id": "ec4ce2a0",
   "metadata": {},
   "source": [
    "# Module 16: Time Deltas\n",
    "## Module 16 : Deltas temporels"
   ]
  },
  {
   "cell_type": "markdown",
   "id": "17bca48e",
   "metadata": {},
   "source": [
    "## 1. Why This Matters / 1. Pourquoi c'est important\n",
    "- **English:** Time deltas help you calculate durations, like how many days until an event or how long something lasted.\n",
    "- **Français :** Les deltas temporels permettent de calculer des durées, comme le nombre de jours avant un événement ou la durée d'une tâche."
   ]
  },
  {
   "cell_type": "markdown",
   "id": "5cc3d7f3",
   "metadata": {},
   "source": [
    "## 2. Spaced & Interleaved Review / 2. Révision espacée et mélangée\n",
    "- **Flash-back:** How do you create a date object? / Comment crée-t-on un objet date ?\n",
    "- **Interleaving:** How might you use a timedelta in a loop? / Comment utiliser un timedelta dans une boucle ?"
   ]
  },
  {
   "cell_type": "markdown",
   "id": "892be352",
   "metadata": {},
   "source": [
    "## 3. Quick Quiz / 3. Quiz rapide\n",
    "1. True or False: `timedelta(days=7)` represents one week. / Vrai ou Faux : `timedelta(days=7)` représente une semaine.\n",
    "2. How do you subtract two dates to get a timedelta? / Comment soustrait-on deux dates pour obtenir un timedelta ?\n",
    "3. Which timedelta argument sets hours? / Quel argument de timedelta définit les heures ?\n",
    "4. How do you add 30 minutes to a datetime? / Comment ajouter 30 minutes à un datetime ?"
   ]
  },
  {
   "cell_type": "markdown",
   "id": "2dc998bb",
   "metadata": {},
   "source": [
    "## 4. Learning Objectives / 4. Objectifs d'apprentissage\n",
    "By the end, you can: / À la fin, vous pourrez :\n",
    "- Create and use `timedelta` objects. / Créer et utiliser des objets `timedelta`.\n",
    "- Perform arithmetic with dates and datetimes. / Effectuer des calculs avec dates et datetimes.\n",
    "- Calculate differences and future/past dates. / Calculer écarts et dates futures/passées."
   ]
  },
  {
   "cell_type": "markdown",
   "id": "6ffe829e",
   "metadata": {},
   "source": [
    "## 5. Core Content / 5. Contenu principal\n",
    "- **Import timedelta / Importation :**\n",
    "```python\n",
    "from datetime import date, datetime, timedelta\n",
    "```\n",
    "- **Creating timedeltas / Création :**\n",
    "```python\n",
    "delta = timedelta(days=10)\n",
    "delta2 = timedelta(weeks=2, hours=3)\n",
    "```\n",
    "- **Arithmetic / Arithmétique :**\n",
    "```python\n",
    "today = date.today()\n",
    "future = today + timedelta(days=30)\n",
    "past = today - timedelta(weeks=1)\n",
    "```\n",
    "- **Difference of dates / Différence :**\n",
    "```python\n",
    "d1 = date(2025, 1, 1)\n",
    "d2 = date(2024, 12, 25)\n",
    "diff = d1 - d2        # timedelta object\n",
    "print(diff.days)      # number of days\n",
    "```\n",
    "\n",
    "**Example (timedeltas_finished.py) / Exemple :**\n",
    "```python\n",
    "# timedeltas_finished.py\n",
    "from datetime import datetime, timedelta\n",
    "\n",
    "start = datetime(2025, 4, 1, 9, 0)\n",
    "end = datetime.now()\n",
    "duration = end - start\n",
    "print(f\"Script ran for {duration.total_seconds()} seconds.\")\n",
    "\n",
    "# Next meeting in 2 hours:\n",
    "meeting = datetime.now() + timedelta(hours=2)\n",
    "print(\"Next meeting at\", meeting.strftime('%H:%M'))\n",
    "```"
   ]
  },
  {
   "cell_type": "markdown",
   "id": "51daf873",
   "metadata": {},
   "source": [
    "## 6. Starter Code (Incomplete) / 6. Code de démarrage (incomplet)\n",
    "Complete the TODOs to use timedelta. / Complétez les TODO pour utiliser timedelta."
   ]
  },
  {
   "cell_type": "code",
   "execution_count": null,
   "id": "5806a050",
   "metadata": {},
   "outputs": [],
   "source": [
    "# timedeltas_starter.py\n",
    "from datetime import date, datetime, timedelta\n",
    "\n",
    "# TODO: calculate and print date 45 days from today\n",
    "future_date = None\n",
    "\n",
    "# TODO: find difference in days between two dates\n",
    "d1 = date(2025,5,1)\n",
    "d2 = date(2025,4,15)\n",
    "diff = None\n",
    "\n",
    "# TODO: calculate time 90 minutes from now\n",
    "future_time = None\n"
   ]
  },
  {
   "cell_type": "markdown",
   "id": "07ac7fb5",
   "metadata": {},
   "source": [
    "## 7. Hands-On Project: Event Countdown / 7. Projet pratique : Compte à rebours d'événement\n",
    "- **Description:** Write a script that:\n",
    "  1. Asks user for an event date (YYYY-MM-DD).\n",
    "  2. Calculates days remaining until the event.\n",
    "  3. If the event is past, prints how many days ago it was.\n",
    "  4. Prints a friendly message.\n",
    "- **Rubric / Barème:**\n",
    "  - Correct use of timedelta: 40% / Utilisation correcte de timedelta : 40%\n",
    "  - Date parsing and error handling: 30% / Parsing et gestion d'erreur : 30%\n",
    "  - User messages: 20% / Messages clairs : 20%\n",
    "  - Code clarity & comments: 10% / Clarté du code et commentaires : 10%"
   ]
  },
  {
   "cell_type": "markdown",
   "id": "5acb7a48",
   "metadata": {},
   "source": [
    "## 8. Stretch Tasks / 8. Tâches supplémentaires\n",
    "- Allow user to input time of event and calculate hours/minutes left. / Permettre de saisir l'heure de l'événement et calculer heures/minutes restantes.\n",
    "- Show countdown in days, hours, minutes. / Afficher compte à rebours en jours, heures, minutes.\n",
    "- Use consistent formatting for all dates and times. / Utiliser un format cohérent pour dates et heures."
   ]
  },
  {
   "cell_type": "markdown",
   "id": "1c66d4be",
   "metadata": {},
   "source": [
    "## 9. Reflection / 9. Réflexion\n",
    "- **Summary:** How do timedeltas simplify date math? / Comment les timedeltas simplifient-ils les calculs de dates ?\n",
    "- **Muddiest point:** Any confusion with total_seconds()? / Des doutes sur total_seconds() ?"
   ]
  },
  {
   "cell_type": "markdown",
   "id": "87f3c00f",
   "metadata": {},
   "source": [
    "## 10. Resources / 10. Ressources\n",
    "- https://docs.python.org/3/library/datetime.html#timedelta-objects\n",
    "- https://realpython.com/python-datetime/#timedelta\n",
    "- https://docs.python.org/3/library/datetime.html#datetime-objects"
   ]
  }
 ],
 "metadata": {},
 "nbformat": 4,
 "nbformat_minor": 5
}
