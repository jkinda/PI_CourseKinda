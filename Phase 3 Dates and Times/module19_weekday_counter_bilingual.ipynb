{
 "cells": [
  {
   "cell_type": "markdown",
   "id": "520ae675",
   "metadata": {},
   "source": [
    "# Module 19: Challenge — Weekday Counter\n",
    "## Module 19 : Défi — Compteur de jours de semaine"
   ]
  },
  {
   "cell_type": "markdown",
   "id": "e50858eb",
   "metadata": {},
   "source": [
    "## 1. Why This Matters / 1. Pourquoi c'est important\n",
    "- **English:** Counting specific weekdays in a month is useful for scheduling, reporting, and planning recurring events.\n",
    "- **Français :** Compter les jours de semaine dans un mois est utile pour planifier des réunions, des rapports et des événements récurrents."
   ]
  },
  {
   "cell_type": "markdown",
   "id": "cf7b580e",
   "metadata": {},
   "source": [
    "## 2. Spaced & Interleaved Review / 2. Révision espacée et mélangée\n",
    "- **Flash-back:** Which module helps traverse a month calendar? / Quel module aide à parcourir un calendrier mensuel ?\n",
    "- **Interleaving:** How could you use loops with dates? / Comment utiliser des boucles avec des dates ?"
   ]
  },
  {
   "cell_type": "markdown",
   "id": "c6614c9b",
   "metadata": {},
   "source": [
    "## 3. Quick Quiz / 3. Quiz rapide\n",
    "1. True or False: `calendar.monthcalendar(year, month)` returns a list of weeks. / Vrai ou Faux : `calendar.monthcalendar(year, month)` renvoie une liste de semaines.\n",
    "2. What does 0 represent in `monthcalendar` output? / Que représente 0 dans la sortie de `monthcalendar` ?\n",
    "3. How do you set Monday as the first day of the week? / Comment définir lundi comme premier jour de la semaine ?\n",
    "4. Which function gives number of days in a month? / Quelle fonction donne le nombre de jours dans un mois ?"
   ]
  },
  {
   "cell_type": "markdown",
   "id": "9ada8818",
   "metadata": {},
   "source": [
    "## 4. Learning Objectives / 4. Objectifs d'apprentissage\n",
    "By the end, you can: / À la fin, vous pourrez :\n",
    "- Use the `calendar` module to get month data. / Utiliser le module `calendar` pour obtenir les données du mois.\n",
    "- Count occurrences of a given weekday. / Compter les occurrences d'un jour donné.\n",
    "- Write reusable functions for date calculations. / Écrire des fonctions réutilisables pour les calculs de dates."
   ]
  },
  {
   "cell_type": "markdown",
   "id": "e83e6e23",
   "metadata": {},
   "source": [
    "## 5. Core Content / 5. Contenu principal\n",
    "- **calendar.monthcalendar(year, month):** returns list of weeks,\n",
    "  each week is a list of day numbers (0 if no day). / retourne une liste de semaines, chaque semaine est une liste de numéros de jour (0 si pas de jour).\n",
    "- **Example approach:**\n",
    "```python\n",
    "import calendar\n",
    "\n",
    "def count_weekday(year, month, weekday):\n",
    "    cal = calendar.monthcalendar(year, month)\n",
    "    count = sum(1 for week in cal if week[weekday] != 0)\n",
    "    return count\n",
    "\n",
    "# Monday=0, Sunday=6\n",
    "print(count_weekday(2025, 4, 0))  # Mondays in April 2025\n",
    "```"
   ]
  },
  {
   "cell_type": "markdown",
   "id": "d27ebf04",
   "metadata": {},
   "source": [
    "## 6. Starter Code (Incomplete) / 6. Code de démarrage (incomplet)\n",
    "Fill in the TODOs to implement the weekday counter. / Remplissez les TODO pour implémenter le compteur."
   ]
  },
  {
   "cell_type": "code",
   "execution_count": null,
   "id": "9c615449",
   "metadata": {},
   "outputs": [],
   "source": [
    "# challenge_solution_starter.py\n",
    "import calendar\n",
    "\n",
    "def count_weekday(year, month, weekday):\n",
    "    '''Count how many times a weekday occurs in a month.'''\n",
    "    # TODO: get month calendar data\n",
    "    # TODO: count non-zero entries at index 'weekday'\n",
    "    return 0\n",
    "\n",
    "if __name__ == '__main__':\n",
    "    year = int(input('Enter year: '))\n",
    "    month = int(input('Enter month (1-12): '))\n",
    "    weekday = int(input('Enter weekday (0=Mon,6=Sun): '))\n",
    "    count = count_weekday(year, month, weekday)\n",
    "    print(f'Occurrences: {count}')"
   ]
  },
  {
   "cell_type": "markdown",
   "id": "df793757",
   "metadata": {},
   "source": [
    "## 7. Hands-On Project / 7. Projet pratique\n",
    "**Challenge: Weekday Counter** / **Défi : Compteur de jours de semaine**\n",
    "- Write a function `count_weekday(year, month, weekday)` that returns the number of occurrences.\n",
    "- Prompt the user for year, month, and weekday.\n",
    "- Print a clear summary: e.g., 'There are X Mondays in April 2025.'\n",
    "\n",
    "**Rubric / Barème :**\n",
    "- Correct logic and counting: 50% / Logique et comptage corrects : 50%\n",
    "- User prompts and formatting: 20% / Saisie utilisateur et format : 20%\n",
    "- Input validation (year 1-9999, month 1-12, weekday 0-6): 20% / Validation des entrées : 20%\n",
    "- Code clarity & comments: 10% / Clarté du code et commentaires : 10%"
   ]
  },
  {
   "cell_type": "markdown",
   "id": "3b77a023",
   "metadata": {},
   "source": [
    "## 8. Stretch Tasks / 8. Tâches supplémentaires\n",
    "- Allow weekday name input (e.g., 'Monday') instead of number. / Autoriser le nom du jour plutôt que le numéro.\n",
    "- List dates of all occurrences, not just count. / Lister toutes les dates, pas seulement le nombre.\n",
    "- Support full-year summary (counts for each weekday). / Supporter le résumé annuel (compte pour chaque jour)."
   ]
  },
  {
   "cell_type": "markdown",
   "id": "fefd06dc",
   "metadata": {},
   "source": [
    "## 9. Reflection / 9. Réflexion\n",
    "- **Summary:** How does using calendar.monthcalendar simplify the task? / Comment `calendar.monthcalendar` simplifie-t-il la tâche ?\n",
    "- **Muddiest point:** Any confusion on week lists? / Des doutes sur les listes de semaines ?"
   ]
  },
  {
   "cell_type": "markdown",
   "id": "98e0ed9d",
   "metadata": {},
   "source": [
    "## 10. Resources / 10. Ressources\n",
    "- https://docs.python.org/3/library/calendar.html#calendar.monthcalendar\n",
    "- https://docs.python.org/3/library/calendar.html\n",
    "- https://realpython.com/python-calendar/"
   ]
  }
 ],
 "metadata": {},
 "nbformat": 4,
 "nbformat_minor": 5
}
