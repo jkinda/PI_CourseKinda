{
 "cells": [
  {
   "cell_type": "markdown",
   "id": "bc02fb27",
   "metadata": {},
   "source": [
    "# Module 25: JSON and XML Parsing\n",
    "## Module 25 : Analyse JSON et XML"
   ]
  },
  {
   "cell_type": "markdown",
   "id": "a8f956d9",
   "metadata": {},
   "source": [
    "## 1. Why This Matters / 1. Pourquoi c'est important\n",
    "- **English:** JSON and XML are common formats for data exchange on the web. Parsing them lets you work with structured data.\n",
    "- **Français :** JSON et XML sont des formats courants pour échanger des données sur le web. Les parser vous permet de manipuler ces données structurées."
   ]
  },
  {
   "cell_type": "markdown",
   "id": "920eb395",
   "metadata": {},
   "source": [
    "## 2. Spaced & Interleaved Review / 2. Révision espacée et mélangée\n",
    "- **Flash-back:** How do you read a CSV file? / Comment lit-on un fichier CSV ?\n",
    "- **Interleaving:** How could you convert JSON data to a Python dict? / Comment convertir des données JSON en dictionnaire Python ?"
   ]
  },
  {
   "cell_type": "markdown",
   "id": "dfda25d8",
   "metadata": {},
   "source": [
    "## 3. Quick Quiz / 3. Quiz rapide\n",
    "1. True or False: `json.load()` reads JSON from a file. / Vrai ou Faux : `json.load()` lit du JSON depuis un fichier.\n",
    "2. Which function parses a JSON string? / Quelle fonction parse une chaîne JSON ?\n",
    "3. In XML DOM, which method gets elements by tag name? / En DOM XML, quelle méthode obtient les éléments par nom de balise ?\n",
    "4. How do you convert an Element back to a string? / Comment convertir un Élément en chaîne ?"
   ]
  },
  {
   "cell_type": "markdown",
   "id": "5510895a",
   "metadata": {},
   "source": [
    "## 4. Learning Objectives / 4. Objectifs d'apprentissage\n",
    "By the end, you can: / À la fin, vous pourrez :\n",
    "- Load and dump JSON using the `json` module. / Charger et écrire du JSON avec le module `json`.\n",
    "- Parse XML using `xml.dom.minidom`. / Parser du XML avec `xml.dom.minidom`.\n",
    "- Navigate JSON objects (dicts, lists). / Naviguer dans JSON (dict, liste).\n",
    "- Traverse XML DOM nodes. / Parcourir les nœuds du DOM XML."
   ]
  },
  {
   "cell_type": "markdown",
   "id": "3cc20e94",
   "metadata": {},
   "source": [
    "## 5. Core Content / 5. Contenu principal\n",
    "- **JSON loading/dumping / chargement/sérialisation JSON:**\n",
    "  ```python\n",
    "  import json\n",
    "  # Read JSON from file\n",
    "  with open('data.json') as f:\n",
    "      data = json.load(f)\n",
    "  # Parse JSON string\n",
    "  obj = json.loads('{\"key\": 123}')\n",
    "  # Write JSON to file\n",
    "  with open('out.json', 'w') as f:\n",
    "      json.dump(data, f, indent=2)\n",
    "  ```\n",
    "- **XML parsing with minidom / parsing XML avec minidom:**\n",
    "  ```python\n",
    "  from xml.dom import minidom\n",
    "  dom = minidom.parse('sample.xml')\n",
    "  # Get elements\n",
    "  items = dom.getElementsByTagName('item')\n",
    "  for item in items:\n",
    "      print(item.getAttribute('id'))\n",
    "      text = item.firstChild.nodeValue\n",
    "      print(text)\n",
    "  # Convert back to string\n",
    "  xml_str = dom.toxml()\n",
    "  ```"
   ]
  },
  {
   "cell_type": "markdown",
   "id": "378a448b",
   "metadata": {},
   "source": [
    "## 6. Starter Code (Incomplete) / 6. Code de démarrage (incomplet)\n",
    "Complete the TODOs to parse JSON and XML. / Complétez les TODO pour parser JSON et XML."
   ]
  },
  {
   "cell_type": "code",
   "execution_count": null,
   "id": "086c7610",
   "metadata": {},
   "outputs": [],
   "source": [
    "# json_xml_starter.py\n",
    "import json\n",
    "from xml.dom import minidom\n",
    "\n",
    "# TODO: load JSON from 'input.json' and print a value for key 'name'\n",
    "data = None\n",
    "\n",
    "# TODO: parse 'input.xml', get elements 'record', and print their text content\n",
    "dom = None\n"
   ]
  },
  {
   "cell_type": "markdown",
   "id": "afca1d3b",
   "metadata": {},
   "source": [
    "## 7. Hands-On Project: Data Aggregator / 7. Projet pratique : Agrégateur de données\n",
    "- **Description:** Write a script that:\n",
    "  1. Reads a JSON file containing a list of user records. / Lit un fichier JSON avec une liste d’enregistrements utilisateur.\n",
    "  2. Reads an XML file with product prices. / Lit un fichier XML avec des prix de produits.\n",
    "  3. Combines data into a report (e.g., prints each user with all product prices). / Combine les données pour un rapport.\n",
    "- **Rubric / Barème:**\n",
    "  - Correct parsing of JSON and XML: 40% / Parsing correct de JSON et XML : 40%\n",
    "  - Data combination logic: 30% / Logique de combinaison : 30%\n",
    "  - Output formatting: 20% / Format de la sortie : 20%\n",
    "  - Code clarity & comments: 10% / Clarté du code et commentaires : 10%"
   ]
  },
  {
   "cell_type": "markdown",
   "id": "a0432d0f",
   "metadata": {},
   "source": [
    "## 8. Stretch Tasks / 8. Tâches supplémentaires\n",
    "- Validate JSON schema before parsing. / Valider le schéma JSON avant parsing.\n",
    "- Use `ElementTree` instead of minidom. / Utiliser `ElementTree` plutôt que minidom.\n",
    "- Save the combined report to a CSV file. / Enregistrer le rapport combiné en CSV."
   ]
  },
  {
   "cell_type": "markdown",
   "id": "50d5fb51",
   "metadata": {},
   "source": [
    "## 9. Reflection / 9. Réflexion\n",
    "- **Summary:** Why choose JSON or XML for data? / Pourquoi choisir JSON ou XML pour les données ?\n",
    "- **Muddiest point:** Any confusion navigating DOM nodes? / Des doutes sur la navigation dans le DOM ?"
   ]
  },
  {
   "cell_type": "markdown",
   "id": "209135be",
   "metadata": {},
   "source": [
    "## 10. Resources / 10. Ressources\n",
    "- https://docs.python.org/3/library/json.html\n",
    "- https://docs.python.org/3/library/xml.dom.minidom.html\n",
    "- https://realpython.com/python-json/\n",
    "- https://realpython.com/parse-xml-python/"
   ]
  }
 ],
 "metadata": {},
 "nbformat": 4,
 "nbformat_minor": 5
}
