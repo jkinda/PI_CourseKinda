{
 "cells": [
  {
   "cell_type": "markdown",
   "id": "4997e29b",
   "metadata": {},
   "source": [
    "# Module 26: API Consumption\n",
    "## Module 26 : Consommation d'API"
   ]
  },
  {
   "cell_type": "markdown",
   "id": "462b7277",
   "metadata": {},
   "source": [
    "## 1. Why This Matters / 1. Pourquoi c'est important\n",
    "- **English:** Many services offer data via REST APIs. Knowing how to call endpoints, authenticate, and handle limits lets you integrate live data.\n",
    "- **Français :** De nombreux services proposent des données via des API REST. Savoir appeler des endpoints, s'authentifier et gérer les limites vous permet d'intégrer des données en direct."
   ]
  },
  {
   "cell_type": "markdown",
   "id": "fbe6a0e9",
   "metadata": {},
   "source": [
    "## 2. Spaced & Interleaved Review / 2. Révision espacée et mélangée\n",
    "- **Flash-back:** How do you make a GET request with requests? / Comment faire une requête GET avec requests ?\n",
    "- **Interleaving:** How could you parse JSON from a response? / Comment parser le JSON d'une réponse ?"
   ]
  },
  {
   "cell_type": "markdown",
   "id": "5c5da376",
   "metadata": {},
   "source": [
    "## 3. Quick Quiz / 3. Quiz rapide\n",
    "1. True or False: Bearer token is sent in headers. / Vrai ou Faux : le token Bearer est envoyé dans les en-têtes.\n",
    "2. Which HTTP status code means too many requests? / Quel code HTTP signifie trop de requêtes ?\n",
    "3. How do you add query parameters in requests? / Comment ajouter des paramètres de requête dans requests ?\n",
    "4. What method parses JSON from a Response? / Quelle méthode parse le JSON d'une Response ?"
   ]
  },
  {
   "cell_type": "markdown",
   "id": "ca0d1128",
   "metadata": {},
   "source": [
    "## 4. Learning Objectives / 4. Objectifs d'apprentissage\n",
    "By the end, you can: / À la fin, vous pourrez :\n",
    "- Call REST endpoints with `requests`. / Appeler des endpoints REST avec `requests`.\n",
    "- Handle authentication (API keys, Bearer tokens). / Gérer l'authentification (clés API, tokens Bearer).\n",
    "- Respect rate limits by checking headers and delaying. / Respecter les limites de débit en lisant les en-têtes et en attendant.\n",
    "- Parse and use JSON API responses. / Parser et utiliser les réponses JSON."
   ]
  },
  {
   "cell_type": "markdown",
   "id": "95072937",
   "metadata": {},
   "source": [
    "## 5. Core Content / 5. Contenu principal\n",
    "- **Authentication / Authentification :**\n",
    "```python\n",
    "headers = {'Authorization': 'Bearer YOUR_TOKEN'}\n",
    "r = requests.get(URL, headers=headers)\n",
    "```\n",
    "- **API keys / Clés API :**\n",
    "```python\n",
    "params = {'api_key': 'YOUR_KEY'}\n",
    "r = requests.get(URL, params=params)\n",
    "```\n",
    "- **Rate limiting / Limite de débit :**\n",
    "```python\n",
    "if r.status_code == 429:\n",
    "    retry_after = int(r.headers.get('Retry-After', 1))\n",
    "    time.sleep(retry_after)\n",
    "```\n",
    "- **Parsing JSON / Parsing JSON :**\n",
    "```python\n",
    "data = r.json()\n",
    "items = data.get('results', [])\n",
    "```\n",
    "- **Error handling / Gestion des erreurs :**\n",
    "```python\n",
    "try:\n",
    "    r.raise_for_status()\n",
    "except requests.exceptions.HTTPError as e:\n",
    "    print('Error:', e)\n",
    "```\n"
   ]
  },
  {
   "cell_type": "markdown",
   "id": "c290b7dd",
   "metadata": {},
   "source": [
    "## 6. Starter Code (Incomplete) / 6. Code de démarrage (incomplet)\n",
    "Fill in the TODOs to call a protected API and parse results. / Complétez les TODO pour appeler une API protégée et parser les résultats."
   ]
  },
  {
   "cell_type": "code",
   "execution_count": null,
   "id": "2b738bac",
   "metadata": {},
   "outputs": [],
   "source": [
    "# api_consumption_starter.py\n",
    "import requests\n",
    "import time\n",
    "\n",
    "API_URL = 'https://api.example.com/data'\n",
    "API_KEY = 'YOUR_KEY'\n",
    "\n",
    "def fetch_data():\n",
    "    headers = {'Authorization': f'Bearer {API_KEY}'}\n",
    "    # TODO: send GET request with headers\n",
    "    r = None\n",
    "    # TODO: if status code is 429, wait and retry\n",
    "    # TODO: raise for other status errors\n",
    "    return r.json()\n",
    "\n",
    "if __name__ == '__main__':\n",
    "    data = fetch_data()\n",
    "    print(data)\n"
   ]
  },
  {
   "cell_type": "markdown",
   "id": "7224e7b7",
   "metadata": {},
   "source": [
    "## 7. Hands-On Project: Weather Dashboard / 7. Projet pratique : Tableau de bord météo\n",
    "- **Description:** Create a script that:\n",
    "  1. Uses OpenWeatherMap API with your API key.\n",
    "  2. Fetches current weather for a city input by the user.\n",
    "  3. Handles rate limits and errors.\n",
    "  4. Prints temperature, weather description, and humidity.\n",
    "- **Rubric / Barème:**\n",
    "  - Authentication and correct URL: 30% / Authentification et URL correct : 30%\n",
    "  - Error and rate limit handling: 30% / Gestion d'erreur et limite : 30%\n",
    "  - JSON parsing and display: 30% / Parsing JSON et affichage : 30%\n",
    "  - Comments and clarity: 10% / Commentaires et clarté : 10%"
   ]
  },
  {
   "cell_type": "markdown",
   "id": "7055967d",
   "metadata": {},
   "source": [
    "## 8. Stretch Tasks / 8. Tâches supplémentaires\n",
    "- Allow caching responses to avoid repeat calls. / Autoriser la mise en cache des réponses.\n",
    "- Support multiple cities in parallel. / Supporter plusieurs villes en parallèle.\n",
    "- Save data history to a CSV file. / Sauvegarder l'historique des données en CSV."
   ]
  },
  {
   "cell_type": "markdown",
   "id": "6047de71",
   "metadata": {},
   "source": [
    "## 9. Reflection / 9. Réflexion\n",
    "- **Summary:** Why manage rate limits? / Pourquoi gérer les limites de débit ?\n",
    "- **Muddiest point:** Any confusion with headers vs params? / Des doutes sur en-têtes vs paramètres ?"
   ]
  },
  {
   "cell_type": "markdown",
   "id": "76d70681",
   "metadata": {},
   "source": [
    "## 10. Resources / 10. Ressources\n",
    "- https://docs.python-requests.org/en/latest/\n",
    "- https://openweathermap.org/api\n",
    "- https://realpython.com/python-api/\n",
    "- https://developer.mozilla.org/en-US/docs/Web/HTTP/Headers"
   ]
  }
 ],
 "metadata": {},
 "nbformat": 4,
 "nbformat_minor": 5
}
