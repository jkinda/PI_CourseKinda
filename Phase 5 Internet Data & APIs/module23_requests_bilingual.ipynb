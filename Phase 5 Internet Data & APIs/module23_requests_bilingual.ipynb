{
 "cells": [
  {
   "cell_type": "markdown",
   "id": "fe2c087e",
   "metadata": {},
   "source": [
    "# Module 23: HTTP Requests with Requests\n",
    "## Module 23 : Requêtes HTTP avec Requests"
   ]
  },
  {
   "cell_type": "markdown",
   "id": "a7efc31a",
   "metadata": {},
   "source": [
    "## 1. Why This Matters / 1. Pourquoi c'est important\n",
    "- **English:** The `requests` library makes it easy to call web APIs, fetch data, and interact with web services.\n",
    "- **Français :** La bibliothèque `requests` facilite l'appel des API web, la récupération de données, et l'interaction avec les services web."
   ]
  },
  {
   "cell_type": "markdown",
   "id": "b97cb368",
   "metadata": {},
   "source": [
    "## 2. Spaced & Interleaved Review / 2. Révision espacée et mélangée\n",
    "- **Flash-back:** How do you handle file I/O? / Comment gérez-vous l'E/S de fichiers ?\n",
    "- **Interleaving:** How could you write JSON data fetched from a web API to a file? / Comment écrire les données JSON récupérées d'une API web dans un fichier ?"
   ]
  },
  {
   "cell_type": "markdown",
   "id": "e40a519c",
   "metadata": {},
   "source": [
    "## 3. Quick Quiz / 3. Quiz rapide\n",
    "1. True or False: `requests.get()` returns a Response object. / Vrai ou Faux : `requests.get()` renvoie un objet Response.\n",
    "2. Which attribute gives the HTTP status code? / Quel attribut donne le code de statut HTTP ?\n",
    "3. How do you send JSON data in a POST request? / Comment envoyer des données JSON dans une requête POST ?\n",
    "4. What method checks for HTTP errors? / Quelle méthode vérifie les erreurs HTTP ?"
   ]
  },
  {
   "cell_type": "markdown",
   "id": "16327d4e",
   "metadata": {},
   "source": [
    "## 4. Learning Objectives / 4. Objectifs d'apprentissage\n",
    "By the end, you can: / À la fin, vous pourrez :\n",
    "- Make GET and POST requests with `requests`. / Faire des requêtes GET et POST avec `requests`.\n",
    "- Add headers and parameters to requests. / Ajouter des en-têtes et paramètres aux requêtes.\n",
    "- Handle errors like timeout or bad status codes. / Gérer les erreurs comme les délais d'attente ou les mauvais codes.\n",
    "- Parse JSON responses. / Analyser les réponses JSON."
   ]
  },
  {
   "cell_type": "markdown",
   "id": "960612b2",
   "metadata": {},
   "source": [
    "## 5. Core Content / 5. Contenu principal\n",
    "- **Import and basic GET / import et GET de base :**\n",
    "  ```python\n",
    "  import requests\n",
    "  response = requests.get('https://api.github.com')\n",
    "  print(response.status_code)  # 200\n",
    "  ```\n",
    "- **GET with params / GET avec paramètres :**\n",
    "  ```python\n",
    "  params = {'q': 'python'}\n",
    "  r = requests.get('https://api.example.com/search', params=params)\n",
    "  print(r.url)  # shows ?q=python\n",
    "  ```\n",
    "- **Headers / en-têtes :**\n",
    "  ```python\n",
    "  headers = {'Accept': 'application/json'}\n",
    "  r = requests.get('https://api.example.com/data', headers=headers)\n",
    "  ```\n",
    "- **POST with JSON / POST avec JSON :**\n",
    "  ```python\n",
    "  data = {'name': 'Alice'}\n",
    "  r = requests.post('https://api.example.com/users', json=data)\n",
    "  ```\n",
    "- **Error handling / gestion des erreurs :**\n",
    "  ```python\n",
    "  try:\n",
    "      r = requests.get('https://api.example.com', timeout=5)\n",
    "      r.raise_for_status()\n",
    "  except requests.exceptions.HTTPError as e:\n",
    "      print('HTTP error:', e)\n",
    "  except requests.exceptions.RequestException as e:\n",
    "      print('Request failed:', e)\n",
    "  ```\n",
    "- **Parsing JSON / parsing JSON :**\n",
    "  ```python\n",
    "  data = r.json()\n",
    "  print(data['key'])\n",
    "  ```\n"
   ]
  },
  {
   "cell_type": "markdown",
   "id": "379e6f61",
   "metadata": {},
   "source": [
    "## 6. Starter Code (Incomplete) / 6. Code de démarrage (incomplet)\n",
    "Fill in the TODOs to make GET and POST requests. / Remplissez les TODO pour faire des requêtes GET et POST."
   ]
  },
  {
   "cell_type": "code",
   "execution_count": null,
   "id": "8de585e0",
   "metadata": {},
   "outputs": [],
   "source": [
    "# requests_starter.py\n",
    "import requests\n",
    "\n",
    "# TODO: send a GET request to https://httpbin.org/get with params {'lang':'en'}\n",
    "response = None\n",
    "\n",
    "# TODO: print the JSON response\n",
    "\n",
    "print(response)\n",
    "\n",
    "# TODO: send a POST request to https://httpbin.org/post with JSON {'task':'test'}\n",
    "response_post = None\n",
    "print(response_post)\n"
   ]
  },
  {
   "cell_type": "markdown",
   "id": "67fc908f",
   "metadata": {},
   "source": [
    "## 7. Hands-On Project: API Data Fetcher / 7. Projet pratique : Récupérateur de données API\n",
    "- **Description:** Create a script that:\n",
    "  1. Asks user for a username.\n",
    "  2. Fetches GitHub profile info via `https://api.github.com/users/{username}`.\n",
    "  3. Prints the user's name, public repos count, and creation date.\n",
    "- **Rubric / Barème:**\n",
    "  - Correct GET request and URL formatting: 30% / Requête GET correcte : 30%\n",
    "  - Error handling for missing user (404): 30% / Gestion erreur 404 pour utilisateur manquant : 30%\n",
    "  - JSON parsing and printing: 30% / Parsing JSON et affichage : 30%\n",
    "  - Code clarity & comments: 10% / Clarté du code et commentaires : 10%"
   ]
  },
  {
   "cell_type": "markdown",
   "id": "8844c6ab",
   "metadata": {},
   "source": [
    "## 8. Stretch Tasks / 8. Tâches supplémentaires\n",
    "- Add custom headers for authentication. / Ajouter des en-têtes pour l'authentification.\n",
    "- Implement retry logic for timeouts. / Implémenter la logique de nouvelle tentative en cas de délai.\n",
    "- Save the fetched data to a JSON file. / Sauvegarder les données récupérées dans un fichier JSON."
   ]
  },
  {
   "cell_type": "markdown",
   "id": "7f01dc3d",
   "metadata": {},
   "source": [
    "## 9. Reflection / 9. Réflexion\n",
    "- **Summary:** How does `requests` simplify HTTP calls? / Comment `requests` simplifie-t-il les appels HTTP ?\n",
    "- **Muddiest point:** Any confusion with `raise_for_status()`? / Des doutes sur `raise_for_status()` ?"
   ]
  },
  {
   "cell_type": "markdown",
   "id": "40d654c8",
   "metadata": {},
   "source": [
    "## 10. Resources / 10. Ressources\n",
    "- https://docs.python-requests.org/en/latest/\n",
    "- https://realpython.com/python-requests/\n",
    "- https://httpbin.org/"
   ]
  }
 ],
 "metadata": {},
 "nbformat": 4,
 "nbformat_minor": 5
}
