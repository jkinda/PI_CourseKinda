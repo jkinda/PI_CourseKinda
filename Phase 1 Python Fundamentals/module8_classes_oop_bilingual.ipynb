{
 "cells": [
  {
   "cell_type": "markdown",
   "id": "a8919f2e",
   "metadata": {},
   "source": [
    "# Module 8: Classes and OOP\n",
    "## Module 8 : Classes et POO"
   ]
  },
  {
   "cell_type": "markdown",
   "id": "b5d2172e",
   "metadata": {},
   "source": [
    "## 1. Why This Matters / 1. Pourquoi c'est important\n",
    "- **English:** Classes let you create your own types and group data with behavior. This makes code organized and reusable.\n",
    "- **Français :** Les classes permettent de créer vos propres types et de regrouper données et comportements. Cela rend le code organisé et réutilisable."
   ]
  },
  {
   "cell_type": "markdown",
   "id": "3b2bcbfb",
   "metadata": {},
   "source": [
    "## 2. Spaced & Interleaved Review / 2. Révision espacée et mélangée\n",
    "- **Flash-back:** How do you define a function? / Comment définit-on une fonction ?\n",
    "- **Interleaving:** How could you call a method on an object? / Comment appeler une méthode sur un objet ?"
   ]
  },
  {
   "cell_type": "markdown",
   "id": "858997a5",
   "metadata": {},
   "source": [
    "## 3. Quick Quiz / 3. Quiz rapide\n",
    "1. True or False: A class is like a blueprint for objects. / Vrai ou Faux : une classe est comme un plan pour les objets.\n",
    "2. How do you create an object from class `Dog`? / Comment créer un objet de la classe `Dog` ?\n",
    "3. Which keyword defines inheritance? / Quel mot-clé définit l'héritage ?\n",
    "4. What special method runs when you create an instance? / Quelle méthode spéciale s'exécute à la création d'une instance ?"
   ]
  },
  {
   "cell_type": "markdown",
   "id": "b12eb62c",
   "metadata": {},
   "source": [
    "## 4. Learning Objectives / 4. Objectifs d'apprentissage\n",
    "By the end, you can: / À la fin, vous pourrez :\n",
    "- Define a class with attributes and methods. / Définir une classe avec attributs et méthodes.\n",
    "- Instantiate objects and access attributes. / Créer des objets et accéder aux attributs.\n",
    "- Use inheritance to extend a class. / Utiliser l'héritage pour étendre une classe.\n",
    "- Understand `self` and method scope. / Comprendre `self` et la portée des méthodes."
   ]
  },
  {
   "cell_type": "markdown",
   "id": "723f54a2",
   "metadata": {},
   "source": [
    "## 5. Core Content / 5. Contenu principal\n",
    "- **Class definition / Définition de classe:**\n",
    "  ```python\n",
    "  class Person:\n",
    "      def __init__(self, name, age):\n",
    "          self.name = name  # attribute / attribut\n",
    "          self.age = age\n",
    "      def greet(self):\n",
    "          print(f\"Hello, my name is {self.name}\")  # method / méthode\n",
    "  ```\n",
    "- **Instanciation / Instantiation:**\n",
    "  ```python\n",
    "  p = Person('Alice', 30)\n",
    "  p.greet()  # Hello, my name is Alice\n",
    "  ```\n",
    "- **Inheritance / Héritage:**\n",
    "  ```python\n",
    "  class Student(Person):  # Student inherits Person\n",
    "      def study(self, subject):\n",
    "          print(f\"{self.name} studies {subject}\")\n",
    "  ```\n",
    "- **`self` keyword:** refers to the instance itself. / fait référence à l'instance.\n",
    "\n",
    "**Example (classes_finished.py) / Exemple :**\n",
    "```python\n",
    "# classes_finished.py\n",
    "class Animal:\n",
    "    def __init__(self, species):\n",
    "        self.species = species\n",
    "    def info(self):\n",
    "        print(f\"This is a {self.species}\")\n",
    "\n",
    "class Dog(Animal):\n",
    "    def __init__(self, name):\n",
    "        super().__init__('Dog')\n",
    "        self.name = name\n",
    "    def bark(self):\n",
    "        print(f\"{self.name} says woof!\")\n",
    "\n",
    "dog = Dog('Buddy')\n",
    "dog.info()  # This is a Dog\n",
    "dog.bark()  # Buddy says woof!\n",
    "```"
   ]
  },
  {
   "cell_type": "markdown",
   "id": "63afae88",
   "metadata": {},
   "source": [
    "## 6. Starter Code (Incomplete) / 6. Code de démarrage (incomplet)\n",
    "Complete the TODOs to define classes and use inheritance. / Complétez les TODO pour définir des classes et utiliser l'héritage."
   ]
  },
  {
   "cell_type": "code",
   "execution_count": null,
   "id": "b2a43b6b",
   "metadata": {},
   "outputs": [],
   "source": [
    "# classes_starter.py\n",
    "class Vehicle:\n",
    "    def __init__(self, make, model):\n",
    "        self.make = make\n",
    "        self.model = model\n",
    "    # TODO: add a method 'info' that prints make and model\n",
    "\n",
    "class Car(Vehicle):\n",
    "    # TODO: inherit Vehicle and add attribute 'year'\n",
    "    def __init__(self, make, model, year):\n",
    "        pass\n",
    "    # TODO: add method 'car_info' to print year, make, and model\n",
    "\n",
    "# TODO: create a Car instance and call both info methods\n"
   ]
  },
  {
   "cell_type": "markdown",
   "id": "c5d33fb9",
   "metadata": {},
   "source": [
    "## 7. Hands-On Project: Library System / 7. Projet pratique : Système de bibliothèque\n",
    "- **Description:** Create classes:\n",
    "  - `Book` with title and author, method `details()`.\n",
    "  - `Library` that holds a list of `Book` instances, methods to `add_book()` and `list_books()`.\n",
    "- **Rubric / Barème:**\n",
    "  - Class definitions and methods: 40% / Définitions de classes et méthodes : 40%\n",
    "  - Inheritance if any: 10% / Héritage si nécessaire : 10%\n",
    "  - List management: 20% / Gestion de la liste : 20%\n",
    "  - Method calls and output: 20% / Appels de méthodes et sortie : 20%\n",
    "  - Comments and clarity: 10% / Commentaires et clarté : 10%"
   ]
  },
  {
   "cell_type": "markdown",
   "id": "40727a3a",
   "metadata": {},
   "source": [
    "## 8. Stretch Tasks / 8. Tâches supplémentaires\n",
    "- Allow deleting a book by title. / Permettre de supprimer un livre par titre.\n",
    "- Use `__str__` method in `Book` for printing. / Utiliser `__str__` dans `Book` pour l'affichage.\n",
    "- Add a subclass `Magazine` inheriting `Book`. / Ajouter une sous-classe `Magazine` héritant de `Book`."
   ]
  },
  {
   "cell_type": "markdown",
   "id": "eb9cdeb5",
   "metadata": {},
   "source": [
    "## 9. Reflection / 9. Réflexion\n",
    "- **Summary:** How does OOP improve code structure? / Comment la POO améliore-t-elle la structure du code ?\n",
    "- **Muddiest point:** Any confusion on inheritance? / Des doutes sur l'héritage ?"
   ]
  },
  {
   "cell_type": "markdown",
   "id": "e167c7fd",
   "metadata": {},
   "source": [
    "## 10. Resources / 10. Ressources\n",
    "- https://docs.python.org/3/tutorial/classes.html\n",
    "- https://realpython.com/python3-object-oriented-programming/\n",
    "- https://docs.python.org/3/reference/datamodel.html#object.__init__"
   ]
  }
 ],
 "metadata": {},
 "nbformat": 4,
 "nbformat_minor": 5
}
