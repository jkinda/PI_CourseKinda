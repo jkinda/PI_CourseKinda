{
 "cells": [
  {
   "cell_type": "markdown",
   "id": "3e64ecd6",
   "metadata": {},
   "source": [
    "# Module 5: Functions\n",
    "## Module 5 : Fonctions"
   ]
  },
  {
   "cell_type": "markdown",
   "id": "1b40a3ce",
   "metadata": {},
   "source": [
    "## 1. Why This Matters / 1. Pourquoi c'est important\n",
    "- **English:** Functions let you group code into reusable pieces. They help make programs easier to read and maintain.\n",
    "- **Français :** Les fonctions permettent de regrouper du code réutilisable. Elles facilitent la lecture et la maintenance du programme."
   ]
  },
  {
   "cell_type": "markdown",
   "id": "b3e32d39",
   "metadata": {},
   "source": [
    "## 2. Spaced & Interleaved Review / 2. Révision espacée et mélangée\n",
    "- **Flash-back:** How do you stop a loop early? / Comment arrêter une boucle prématurément ?\n",
    "- **Interleaving:** How could you call `print()` inside a function? / Comment appeler `print()` dans une fonction ?"
   ]
  },
  {
   "cell_type": "markdown",
   "id": "2bd9bb24",
   "metadata": {},
   "source": [
    "## 3. Quick Quiz / 3. Quiz rapide\n",
    "1. True or False: A function must always return a value. / Vrai ou Faux : Une fonction doit toujours renvoyer une valeur.\n",
    "2. How do you define a function named `add` that takes two arguments `a` and `b`? / Comment définir une fonction `add(a, b)` ?\n",
    "3. What do `*args` and `**kwargs` do? / À quoi servent `*args` et `**kwargs` ?\n",
    "4. What is the difference between a local and a global variable? / Quelle est la différence entre variable locale et globale ?"
   ]
  },
  {
   "cell_type": "markdown",
   "id": "c397d384",
   "metadata": {},
   "source": [
    "## 4. Learning Objectives / 4. Objectifs d'apprentissage\n",
    "By the end, you can: / À la fin, vous pourrez :\n",
    "- Define and call functions using `def`. / Définir et appeler des fonctions avec `def`.\n",
    "- Use positional and keyword arguments. / Utiliser arguments positionnels et mots-clés.\n",
    "- Work with `*args` and `**kwargs`. / Travailler avec `*args` et `**kwargs`.\n",
    "- Return values and understand scope. / Renvoyer des valeurs et comprendre les portées."
   ]
  },
  {
   "cell_type": "markdown",
   "id": "599c42d9",
   "metadata": {},
   "source": [
    "## 5. Core Content / 5. Contenu principal\n",
    "- **Defining a function / Définir une fonction:**\n",
    "  ```python\n",
    "  def greet(name):\n",
    "      return f\"Hello, {name}!\"\n",
    "  ```\n",
    "- **Arguments / Arguments:** positional and keyword:\n",
    "  ```python\n",
    "  def power(base, exponent=2):\n",
    "      return base ** exponent\n",
    "  power(3)        # 9\n",
    "  power(3, exponent=3)  # 27\n",
    "  ```\n",
    "- **`*args` and `**kwargs`** collect extra args:\n",
    "  ```python\n",
    "  def show_args(*args, **kwargs):\n",
    "      print(args, kwargs)\n",
    "  show_args(1, 2, a=3, b=4)\n",
    "  ```\n",
    "- **Return values / Valeurs de retour:** Use `return` to send data out of function.\n",
    "- **Scope / Portée:**\n",
    "  - Local variables live inside the function. / Les locales vivent à l'intérieur.\n",
    "  - Global variables live outside. / Les globales vivent à l'extérieur.\n",
    "\n",
    "**Example (functions_finished.py) / Exemple :**\n",
    "```python\n",
    "# functions_finished.py\n",
    "def add(a, b):\n",
    "    return a + b\n",
    "\n",
    "def greet(name, msg='Hello'):\n",
    "    print(f\"{msg}, {name}!\")\n",
    "\n",
    "def stats(*nums):\n",
    "    return min(nums), max(nums), sum(nums)\n",
    "\n",
    "x = 5  # global variable\n",
    "def use_scope():\n",
    "    x = 10  # local variable\n",
    "    print(x)\n",
    "    print(globals()['x'])\n",
    "\n",
    "print(add(2, 3))\n",
    "greet('Alice')\n",
    "print(stats(1, 4, 2, 8))\n",
    "use_scope()\n",
    "```"
   ]
  },
  {
   "cell_type": "markdown",
   "id": "d469170a",
   "metadata": {},
   "source": [
    "## 6. Starter Code (Incomplete) / 6. Code de démarrage (incomplet)\n",
    "Complete the TODOs to define and use functions. / Complétez les TODO pour définir et utiliser des fonctions."
   ]
  },
  {
   "cell_type": "code",
   "execution_count": null,
   "id": "e1144491",
   "metadata": {},
   "outputs": [],
   "source": [
    "# functions_starter.py\n",
    "# TODO: define a function 'multiply' that returns the product of two numbers\n",
    "def multiply(a, b):\n",
    "    pass\n",
    "\n",
    "# TODO: define a function 'describe' that accepts name and **kwargs, prints details\n",
    "def describe(name, **details):\n",
    "    pass\n",
    "\n",
    "# TODO: demonstrate calling both functions\n"
   ]
  },
  {
   "cell_type": "markdown",
   "id": "a693bce8",
   "metadata": {},
   "source": [
    "## 7. Hands-On Project: Simple Calculator / 7. Projet pratique : Calculatrice simple\n",
    "- **Description:** Build a calculator module with functions:\n",
    "  - `add(a, b)`, `subtract(a, b)`, `multiply(a, b)`, `divide(a, b)`.\n",
    "  - Ensure `divide` handles division by zero using try/except.\n",
    "- **Rubric / Barème:**\n",
    "  - Function correctness: 50% / Fonctions correctes : 50%\n",
    "  - Error handling: 20% / Gestion des erreurs : 20%\n",
    "  - Use of args/kwargs: 20% / Utilisation de args/kwargs : 20%\n",
    "  - Comments and readability: 10% / Commentaires et lisibilité : 10%"
   ]
  },
  {
   "cell_type": "markdown",
   "id": "d65d734f",
   "metadata": {},
   "source": [
    "## 8. Stretch Tasks / 8. Tâches supplémentaires\n",
    "- Add a function to compute power with default exponent. / Ajoutez une fonction avec exponent par défaut.\n",
    "- Allow passing a list of operations and numbers using *args. / Permettez de passer une liste d'opérations avec *args.\n",
    "- Demonstrate scope by modifying a global variable inside a function. / Démonstration de la portée globale."
   ]
  },
  {
   "cell_type": "markdown",
   "id": "0a2e8eb3",
   "metadata": {},
   "source": [
    "## 9. Reflection / 9. Réflexion\n",
    "- **Summary:** How do functions help organize code? / Comment les fonctions organisent-elles le code ?\n",
    "- **Muddiest point:** Any confusion with kwargs? / Des doutes sur kwargs ?"
   ]
  },
  {
   "cell_type": "markdown",
   "id": "58cc2d39",
   "metadata": {},
   "source": [
    "## 10. Resources / 10. Ressources\n",
    "- https://docs.python.org/3/tutorial/controlflow.html#defining-functions\n",
    "- https://realpython.com/defining-your-own-python-function/\n",
    "- https://www.python.org/dev/peps/pep-3102/"
   ]
  }
 ],
 "metadata": {},
 "nbformat": 4,
 "nbformat_minor": 5
}
