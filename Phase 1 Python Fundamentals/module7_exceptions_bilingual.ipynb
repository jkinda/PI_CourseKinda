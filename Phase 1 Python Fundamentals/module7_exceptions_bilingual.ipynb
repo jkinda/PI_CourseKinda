{
 "cells": [
  {
   "cell_type": "markdown",
   "id": "28b522dc",
   "metadata": {},
   "source": [
    "# Module 7: Exceptions\n",
    "## Module 7 : Gestion des exceptions"
   ]
  },
  {
   "cell_type": "markdown",
   "id": "04ed171c",
   "metadata": {},
   "source": [
    "## 1. Why This Matters / 1. Pourquoi c'est important\n",
    "- **English:** Exceptions handle errors gracefully so a program doesn't crash unexpectedly.\n",
    "- **Français :** Les exceptions gèrent les erreurs élégamment pour éviter que le programme ne plante."
   ]
  },
  {
   "cell_type": "markdown",
   "id": "31e0569c",
   "metadata": {},
   "source": [
    "## 2. Spaced & Interleaved Review / 2. Révision espacée et mélangée\n",
    "- **Flash-back:** How do you open a file for reading? / Comment ouvrir un fichier en lecture ?\n",
    "- **Interleaving:** How could you use try inside a loop? / Comment utiliser try dans une boucle ?"
   ]
  },
  {
   "cell_type": "markdown",
   "id": "52d77dac",
   "metadata": {},
   "source": [
    "## 3. Quick Quiz / 3. Quiz rapide\n",
    "1. True or False: A `finally` block always runs. / Vrai ou Faux : un bloc `finally` s'exécute toujours.\n",
    "2. Which keyword catches exceptions? / Quel mot-clé intercepte les exceptions ?\n",
    "3. Name one built-in exception type. / Citez un type d'exception intégré.\n",
    "4. What happens if an exception is not caught? / Que se passe-t-il si une exception n'est pas interceptée ?"
   ]
  },
  {
   "cell_type": "markdown",
   "id": "c3d1ddc0",
   "metadata": {},
   "source": [
    "## 4. Learning Objectives / 4. Objectifs d'apprentissage\n",
    "By the end, you can: / À la fin, vous pourrez :\n",
    "- Use `try`, `except`, and `finally` to manage errors. / Utiliser `try`, `except` et `finally` pour gérer les erreurs.\n",
    "- Identify common exception types. / Identifier les types d'exceptions courants.\n",
    "- Write code that recovers from exceptions. / Écrire du code qui récupère après une exception."
   ]
  },
  {
   "cell_type": "markdown",
   "id": "faf12122",
   "metadata": {},
   "source": [
    "## 5. Core Content / 5. Contenu principal\n",
    "- **try/except:**\n",
    "  ```python\n",
    "  try:\n",
    "      value = int(input(\"Enter a number: \"))\n",
    "  except ValueError:\n",
    "      print(\"That's not a valid number!\")\n",
    "  ```\n",
    "- **else:** runs if no exception. / s'exécute si pas d'exception.\n",
    "  ```python\n",
    "  try:\n",
    "      result = 10 / 2\n",
    "  except ZeroDivisionError:\n",
    "      print(\"Cannot divide by zero.\")\n",
    "  else:\n",
    "      print(\"Division successful.\")\n",
    "  ```\n",
    "- **finally:** always runs. / s'exécute toujours.\n",
    "  ```python\n",
    "  try:\n",
    "      f = open('file.txt')\n",
    "  finally:\n",
    "      f.close()\n",
    "  ```\n",
    "- **Common exception types:** `ValueError`, `ZeroDivisionError`, `FileNotFoundError`, etc. / etc.\n",
    "\n",
    "**Example (exceptions_finished.py) / Exemple :**\n",
    "```python\n",
    "# exceptions_finished.py\n",
    "def safe_divide(a, b):\n",
    "    try:\n",
    "        return a / b\n",
    "    except ZeroDivisionError:\n",
    "        return None\n",
    "\n",
    "try:\n",
    "    with open('data.txt') as f:\n",
    "        data = f.read()\n",
    "except FileNotFoundError:\n",
    "    data = ''\n",
    "else:\n",
    "    print('File read successfully.')\n",
    "finally:\n",
    "    print('Done handling file.')\n",
    "```"
   ]
  },
  {
   "cell_type": "markdown",
   "id": "f3df1ecf",
   "metadata": {},
   "source": [
    "## 6. Starter Code (Incomplete) / 6. Code de démarrage (incomplet)\n",
    "Complete the TODOs to handle exceptions. / Complétez les TODO pour gérer les exceptions."
   ]
  },
  {
   "cell_type": "code",
   "execution_count": null,
   "id": "8fe7c404",
   "metadata": {},
   "outputs": [],
   "source": [
    "# exceptions_starter.py\n",
    "def read_int(prompt):\n",
    "    # TODO: use try-except to catch ValueError and return None on error\n",
    "    pass\n",
    "\n",
    "def open_file(path):\n",
    "    # TODO: catch FileNotFoundError and return empty string\n",
    "    pass\n",
    "\n",
    "# TODO: call both functions and print results\n"
   ]
  },
  {
   "cell_type": "markdown",
   "id": "dd8f8f67",
   "metadata": {},
   "source": [
    "## 7. Hands-On Project: Robust File Processor / 7. Projet pratique : Traitement de fichier robuste\n",
    "- **Description:** Build a script that:\n",
    "  1. Asks user for a filename, reads content safely.\n",
    "  2. Asks user for a divisor, divides a number by that divisor safely.\n",
    "  3. Logs errors instead of crashing.\n",
    "- **Rubric / Barème:**\n",
    "  - Exception handling: 50% / Gestion des exceptions : 50%\n",
    "  - User prompts and recovery: 20% / Invites utilisateur et récupération : 20%\n",
    "  - Code clarity & comments: 20% / Clarté et commentaires : 20%\n",
    "  - Use of else/finally: 10% / Utilisation de else/finally : 10%"
   ]
  },
  {
   "cell_type": "markdown",
   "id": "ed73ec67",
   "metadata": {},
   "source": [
    "## 8. Stretch Tasks / 8. Tâches supplémentaires\n",
    "- Handle multiple exception types in one except. / Gérer plusieurs types d'exceptions dans un seul except.\n",
    "- Create a custom exception class. / Créer une classe d'exception personnalisée.\n",
    "- Log errors to a file instead of print. / Enregistrer les erreurs dans un fichier au lieu d'afficher."
   ]
  },
  {
   "cell_type": "markdown",
   "id": "cd4d8dfa",
   "metadata": {},
   "source": [
    "## 9. Reflection / 9. Réflexion\n",
    "- **Summary:** Why are exceptions useful? / Pourquoi les exceptions sont-elles utiles ?\n",
    "- **Muddiest point:** Any confusion about else/finally? / Des doutes sur else/finally ?"
   ]
  },
  {
   "cell_type": "markdown",
   "id": "99d45aef",
   "metadata": {},
   "source": [
    "## 10. Resources / 10. Ressources\n",
    "- https://docs.python.org/3/tutorial/errors.html\n",
    "- https://realpython.com/python-exceptions/\n",
    "- https://docs.python.org/3/library/exceptions.html"
   ]
  }
 ],
 "metadata": {},
 "nbformat": 4,
 "nbformat_minor": 5
}
