{
 "cells": [
  {
   "cell_type": "markdown",
   "id": "dd6a11d1",
   "metadata": {},
   "source": [
    "# Module 6: Modules and Packages\n",
    "## Module 6 : Modules et packages"
   ]
  },
  {
   "cell_type": "markdown",
   "id": "8e0bd35c",
   "metadata": {},
   "source": [
    "## 1. Why This Matters / 1. Pourquoi c'est important\n",
    "- **English:** Modules give you extra tools without writing them from scratch. Packages help organize code into folders.\n",
    "- **Français :** Les modules offrent des outils prêts à l'emploi. Les packages organisent le code en dossiers."
   ]
  },
  {
   "cell_type": "markdown",
   "id": "46f2b728",
   "metadata": {},
   "source": [
    "## 2. Spaced & Interleaved Review / 2. Révision espacée et mélangée\n",
    "- **Flash-back:** How do you define a function? / Comment définit-on une fonction ?\n",
    "- **Interleaving:** How could you use `import` inside a loop? / Comment utiliser `import` dans une boucle ?"
   ]
  },
  {
   "cell_type": "markdown",
   "id": "0f570376",
   "metadata": {},
   "source": [
    "## 3. Quick Quiz / 3. Quiz rapide\n",
    "1. True or False: `import math` makes math functions available. / Vrai ou Faux : `import math` rend les fonctions mathématiques disponibles.\n",
    "2. How do you import only the `datetime` class from `datetime` module? / Comment importer seulement la classe `datetime` du module `datetime` ?\n",
    "3. Which module helps with file paths and names? / Quel module gère les chemins et noms de fichiers ?\n",
    "4. How do you get the current working directory using `os`? / Comment obtenir le répertoire de travail courant avec `os` ?"
   ]
  },
  {
   "cell_type": "markdown",
   "id": "9a617e83",
   "metadata": {},
   "source": [
    "## 4. Learning Objectives / 4. Objectifs d'apprentissage\n",
    "By the end, you can: / À la fin, vous pourrez :\n",
    "- Use `import` to bring in standard modules. / Utiliser `import` pour charger des modules standards.\n",
    "- Work with `math`, `datetime`, and `os` modules. / Travailler avec les modules `math`, `datetime`, et `os`.\n",
    "- Understand how packages group modules. / Comprendre comment les packages regroupent les modules."
   ]
  },
  {
   "cell_type": "markdown",
   "id": "47b9de58",
   "metadata": {},
   "source": [
    "## 5. Core Content / 5. Contenu principal\n",
    "- **import module / importer un module:**\n",
    "  ```python\n",
    "  import math\n",
    "  from datetime import datetime\n",
    "  import os\n",
    "  ```\n",
    "- **math module:** sqrt, sin, pi, etc. / sqrt, sin, pi, etc.\n",
    "- **datetime module:** dates and times. / dates et heures.\n",
    "- **os module:** system and file operations. / opérations système et fichiers.\n",
    "- **Packages:** folders with `__init__.py`. / dossiers avec `__init__.py`.\n",
    "\n",
    "**Example (modules_finished.py) / Exemple :**\n",
    "```python\n",
    "# modules_finished.py\n",
    "import math\n",
    "from datetime import datetime\n",
    "import os\n",
    "\n",
    "# math usage\n",
    "print(math.sqrt(16))  # 4.0\n",
    "\n",
    "# datetime usage\n",
    "now = datetime.now()\n",
    "print(now)\n",
    "\n",
    "# os usage\n",
    "cwd = os.getcwd()\n",
    "print('Current dir:', cwd)\n",
    "print('Files:', os.listdir(cwd))\n",
    "```"
   ]
  },
  {
   "cell_type": "markdown",
   "id": "af2fe234",
   "metadata": {},
   "source": [
    "## 6. Starter Code (Incomplete) / 6. Code de démarrage (incomplet)\n",
    "Complete the TODOs to use modules math, datetime, and os. / Complétez les TODO pour utiliser math, datetime, et os."
   ]
  },
  {
   "cell_type": "code",
   "execution_count": null,
   "id": "b09a545d",
   "metadata": {},
   "outputs": [],
   "source": [
    "# modules_starter.py\n",
    "import math\n",
    "from datetime import datetime\n",
    "import os\n",
    "\n",
    "# TODO: calculate and print the square root of 25 using math\n",
    "\n",
    "# TODO: print current date in format YYYY-MM-DD using datetime\n",
    "\n",
    "# TODO: list and print all .py files in the current directory using os\n"
   ]
  },
  {
   "cell_type": "markdown",
   "id": "43cf4589",
   "metadata": {},
   "source": [
    "## 7. Hands-On Project: Directory Stats / 7. Projet pratique : Statistiques de répertoire\n",
    "- **Description:** Create a script that:\n",
    "  1. Uses `os` to list files in a directory.\n",
    "  2. Filters files by extension (e.g., `.txt`).\n",
    "  3. Calculates average file size using `os.path` and `math`.\n",
    "  4. Prints current date and time.\n",
    "- **Rubric / Barème:**\n",
    "  - os: listing and filtering files: 30% / listing et filtrage de fichiers : 30%\n",
    "  - math: average calculation: 30% / calcul de la moyenne : 30%\n",
    "  - datetime: printing date/time: 20% / affichage date/heure : 20%\n",
    "  - Code clarity & comments: 20% / clarté et commentaires : 20%"
   ]
  },
  {
   "cell_type": "markdown",
   "id": "921f351f",
   "metadata": {},
   "source": [
    "## 8. Stretch Tasks / 8. Tâches supplémentaires\n",
    "- Allow user to input directory path. / Permettre à l'utilisateur de saisir le chemin du répertoire.\n",
    "- Handle empty directories gracefully. / Gérer les répertoires vides.\n",
    "- Organize code into a package folder. / Organiser le code dans un dossier package."
   ]
  },
  {
   "cell_type": "markdown",
   "id": "c7544c7b",
   "metadata": {},
   "source": [
    "## 9. Reflection / 9. Réflexion\n",
    "- **Summary:** How do modules help extend Python? / Comment les modules étendent-ils Python ?\n",
    "- **Muddiest point:** Anything unclear about package structure? / Des doutes sur la structure de package ?"
   ]
  },
  {
   "cell_type": "markdown",
   "id": "ab0793e5",
   "metadata": {},
   "source": [
    "## 10. Resources / 10. Ressources\n",
    "- https://docs.python.org/3/library/math.html\n",
    "- https://docs.python.org/3/library/datetime.html\n",
    "- https://docs.python.org/3/library/os.html\n",
    "- https://docs.python.org/3/tutorial/modules.html"
   ]
  }
 ],
 "metadata": {},
 "nbformat": 4,
 "nbformat_minor": 5
}
