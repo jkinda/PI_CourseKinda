{
 "cells": [
  {
   "cell_type": "markdown",
   "id": "0b373b35",
   "metadata": {},
   "source": [
    "# Module 1: Hello World\n",
    "## Module 1 : Hello World"
   ]
  },
  {
   "cell_type": "markdown",
   "id": "2e64c656",
   "metadata": {},
   "source": [
    "## 1. Why This Matters / 1. Pourquoi c'est important\n",
    "- **English:** Seeing your code talk back builds confidence to learn more. `print()` shows messages, `input()` collects user answers.\n",
    "- **Français :** Voir votre code répondre vous motive. `print()` affiche un message, `input()` récupère la saisie de l'utilisateur."
   ]
  },
  {
   "cell_type": "markdown",
   "id": "48a8d808",
   "metadata": {},
   "source": [
    "## 2. Spaced & Interleaved Review / 2. Révision espacée et mélangée\n",
    "- **Flash-back:** How do you run a script file from the terminal? / Comment exécuter un script depuis le terminal ?\n",
    "- **Interleaving:** How could you use `print()` inside a loop? / Comment utiliser `print()` dans une boucle ?"
   ]
  },
  {
   "cell_type": "markdown",
   "id": "edd776b3",
   "metadata": {},
   "source": [
    "## 3. Quick Quiz / 3. Quiz rapide\n",
    "1. True or False: `print('a', 'b')` outputs `a b`. / Vrai ou Faux : `print('a', 'b')` affiche `a b`.\n",
    "2. What type does `input()` return? / Quel type `input()` retourne-t-il ?\n",
    "3. How do you prompt the user for their name? / Comment demander le nom de l'utilisateur ?\n",
    "4. What function shows text in a Jupyter notebook cell output? / Quelle fonction affiche du texte dans Jupyter ?"
   ]
  },
  {
   "cell_type": "markdown",
   "id": "424b6333",
   "metadata": {},
   "source": [
    "## 4. Learning Objectives / 4. Objectifs d'apprentissage\n",
    "By the end, you can: / À la fin, vous saurez :\n",
    "- Use `print()` to display messages. / Utiliser `print()` pour afficher des messages.\n",
    "- Use `input()` for user input. / Utiliser `input()` pour saisir des données.\n",
    "- Write a simple interactive script. / Écrire un script interactif simple."
   ]
  },
  {
   "cell_type": "markdown",
   "id": "822d4d2d",
   "metadata": {},
   "source": [
    "## 5. Core Content / 5. Contenu principal\n",
    "- **print():** Shows text or values. / Affiche du texte ou des valeurs.\n",
    "- **input(prompt):** Displays a prompt, waits for user text, returns a string. / Affiche une invite, attend une saisie, renvoie une chaîne.\n",
    "- **f-strings:** `f\"Hello, {name}!\"` inserts variables into text. / Insère des variables dans du texte.\n",
    "\n",
    "**Example (helloworld_finished.py):**\n",
    "```python\n",
    "name = input(\"Enter your name: \")  # ask name / demande le nom\n",
    "print(f\"Hello, {name}!\")  # greet / salue\n",
    "```"
   ]
  },
  {
   "cell_type": "markdown",
   "id": "9ebe976e",
   "metadata": {},
   "source": [
    "## 6. Starter Code (Incomplete) / 6. Code de démarrage (incomplet)\n",
    "Fill in the TODO to ask favorite color and print it back. / Remplissez le TODO pour demander la couleur favorite et l'afficher."
   ]
  },
  {
   "cell_type": "code",
   "execution_count": null,
   "id": "0d008585",
   "metadata": {},
   "outputs": [],
   "source": [
    "# hello_starter.py\n",
    "name = input(\"What is your name? \")\n",
    "# TODO: ask for favorite color, then print 'Your favorite color is <color>'\n"
   ]
  },
  {
   "cell_type": "markdown",
   "id": "45a7c3ef",
   "metadata": {},
   "source": [
    "## 7. Hands-On Project / 7. Projet pratique\n",
    "**Interactive Greeting / Salutation interactive**\n",
    "- Ask for name and age, then print:\n",
    "  \"Hello <name>, you are <age> years old!\"\n",
    "- **Rubric / Barème:**\n",
    "  - Functionality: 50% / Fonctionnalité : 50%\n",
    "  - Code clarity & comments: 20% / Clarté du code & commentaires : 20%\n",
    "  - Handles non-numeric age: 20% / Gère âge non numérique : 20%\n",
    "  - Uses f-strings: 10% / Utilise les f-strings : 10%"
   ]
  },
  {
   "cell_type": "markdown",
   "id": "d02f6b23",
   "metadata": {},
   "source": [
    "## 8. Stretch Tasks / 8. Tâches supplémentaires\n",
    "- Loop until user says 'no' to restart. / Boucle jusqu'à ce que l'utilisateur dise 'non'.\n",
    "- Validate age is positive integer. / Validez que l'âge est un entier positif."
   ]
  },
  {
   "cell_type": "markdown",
   "id": "6a6dc424",
   "metadata": {},
   "source": [
    "## 9. Reflection / 9. Réflexion\n",
    "- **One-sentence summary:** What did you learn about `input()`? / Que retenez-vous de `input()` ?\n",
    "- **Muddiest point:** What confused you? / Qu'est-ce qui vous a embrouillé ?"
   ]
  },
  {
   "cell_type": "markdown",
   "id": "b535c676",
   "metadata": {},
   "source": [
    "## 10. Resources / 10. Ressources\n",
    "- https://docs.python.org/3/library/functions.html#print\n",
    "- https://docs.python.org/3/library/functions.html#input\n",
    "- https://www.python.org/dev/peps/pep-0498/"
   ]
  }
 ],
 "metadata": {},
 "nbformat": 4,
 "nbformat_minor": 5
}
