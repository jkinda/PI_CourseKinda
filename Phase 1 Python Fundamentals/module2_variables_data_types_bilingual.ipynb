{
 "cells": [
  {
   "cell_type": "markdown",
   "id": "a7b41bae",
   "metadata": {},
   "source": [
    "# Module 2: Variables and Data Types\n",
    "## Module 2 : Variables et types de données"
   ]
  },
  {
   "cell_type": "markdown",
   "id": "c8f2be56",
   "metadata": {},
   "source": [
    "## 1. Why This Matters / 1. Pourquoi c'est important\n",
    "- **English:** Variables let your program remember information. Data types define what you can do with that information.\n",
    "- **Français :** Les variables permettent à votre programme de mémoriser des informations. Les types de données définissent ce que vous pouvez faire avec ces informations."
   ]
  },
  {
   "cell_type": "markdown",
   "id": "dee3a21d",
   "metadata": {},
   "source": [
    "## 2. Spaced & Interleaved Review / 2. Révision espacée et mélangée\n",
    "- **Flash-back:** What function gets user input? / Quelle fonction récupère la saisie utilisateur ?\n",
    "- **Interleaving:** How could you print each item in a list? / Comment imprimer chaque élément d'une liste ?"
   ]
  },
  {
   "cell_type": "markdown",
   "id": "355be3ce",
   "metadata": {},
   "source": [
    "## 3. Quick Quiz / 3. Quiz rapide\n",
    "1. True or False: Lists are mutable. / Vrai ou Faux : les listes sont modifiables.\n",
    "2. How do you get the substring \"lo\" from \"Hello\"? / Comment obtenir la sous-chaîne \"lo\" de \"Hello\" ?\n",
    "3. Which data type uses curly braces {}? / Quel type utilise des accolades {} ?\n",
    "4. What does `len()` return when passed a tuple of 3 elements? / Que retourne `len()` pour un tuple de 3 éléments ?"
   ]
  },
  {
   "cell_type": "markdown",
   "id": "fd6cfeb0",
   "metadata": {},
   "source": [
    "## 4. Learning Objectives / 4. Objectifs d'apprentissage\n",
    "By the end, you can: / À la fin, vous pourrez :\n",
    "- Create and use variables of different types. / Créer et utiliser des variables de différents types.\n",
    "- Identify numbers, strings, booleans, lists, tuples, and dicts. / Identifier nombres, chaînes, booléens, listes, tuples et dictionnaires.\n",
    "- Use indexing and slicing to access data. / Utiliser l'indexation et le découpage pour accéder aux données."
   ]
  },
  {
   "cell_type": "markdown",
   "id": "3bfad8d3",
   "metadata": {},
   "source": [
    "## 5. Core Content / 5. Contenu principal\n",
    "- **Numbers / Nombres:** int (1), float (3.14).\n",
    "- **Strings / Chaînes :** text in quotes.\n",
    "- **Booleans / Booléens :** True or False.\n",
    "- **Lists / Listes :** [1, 2, 3], mutable.\n",
    "- **Tuples / Tuples :** (4, 5, 6), immutable.\n",
    "- **Dicts / Dictionnaires :** {'key': 'value'}.\n",
    "- **Indexing / Indexation :** `s[0]`, `lst[1]`.\n",
    "- **Slicing / Découpage :** `s[1:3]`, `lst[:2]`.\n",
    "\n",
    "**Example (variables_finished.py) / Exemple :**\n",
    "```python\n",
    "# Numbers\n",
    "a = 10        # integer / entier\n",
    "b = 3.14      # float / décimal\n",
    "\n",
    "# Strings\n",
    "s = \"Hello\"   # string / chaîne\n",
    "\n",
    "# Booleans\n",
    "flag = True   # boolean / booléen\n",
    "\n",
    "# Lists\n",
    "lst = [1, 2, 3]\n",
    "# Tuples\n",
    "tpl = (4, 5, 6)\n",
    "# Dictionaries\n",
    "d = {\"key\": \"value\"}\n",
    "\n",
    "# Indexing\n",
    "print(s[0])   # 'H'\n",
    "print(lst[1]) # 2\n",
    "\n",
    "# Slicing\n",
    "print(s[1:4]) # 'ell'\n",
    "print(lst[:2])# [1, 2]\n",
    "```"
   ]
  },
  {
   "cell_type": "markdown",
   "id": "400bc06e",
   "metadata": {},
   "source": [
    "## 6. Starter Code (Incomplete) / 6. Code de démarrage (incomplet)\n",
    "Complete the TODOs to use variables and types. / Complétez les TODO pour utiliser variables et types."
   ]
  },
  {
   "cell_type": "code",
   "execution_count": null,
   "id": "08bc9002",
   "metadata": {},
   "outputs": [],
   "source": [
    "# variables_starter.py\n",
    "# TODO: create a list of your favorite fruits and print the first and last fruit\n",
    "fruits = []\n",
    "# TODO: create a dict mapping 3 countries to capitals, then print one capital\n",
    "caps = {}\n",
    "\n",
    "print(fruits[0], fruits[-1])\n",
    "print(caps['France'])  # example key\n"
   ]
  },
  {
   "cell_type": "markdown",
   "id": "d497650b",
   "metadata": {},
   "source": [
    "## 7. Hands-On Project: Favorite Data Collector / 7. Projet : Collecteur de données préféré\n",
    "- **Description:** Ask user for name, age, and 3 hobbies (comma-separated). Store in variables: name (str), age (int), hobbies (list). Print a summary.\n",
    "- **Rubric / Barème:**\n",
    "  - Correct types and conversion: 30% / Types corrects et conversion : 30%\n",
    "  - List splitting and indexing: 30% / Découpage de liste et indexation : 30%\n",
    "  - Output formatting: 20% / Format de sortie : 20%\n",
    "  - Code comments: 20% / Commentaires : 20%"
   ]
  },
  {
   "cell_type": "markdown",
   "id": "0b788d46",
   "metadata": {},
   "source": [
    "## 8. Stretch Tasks / 8. Tâches supplémentaires\n",
    "- Convert the hobbies list back into a comma string. / Convertir la liste en chaîne séparée par des virgules.\n",
    "- Ask user for capitals dict via input. / Demander le dictionnaire de capitales via input.\n",
    "- Use a tuple instead of list for hobbies. / Utiliser un tuple au lieu d'une liste pour les hobbies."
   ]
  },
  {
   "cell_type": "markdown",
   "id": "b3547a98",
   "metadata": {},
   "source": [
    "## 9. Reflection / 9. Réflexion\n",
    "- **One-sentence summary:** What did you learn about data types? / Qu'avez-vous appris sur les types de données ?\n",
    "- **Muddiest point:** What remains unclear? / Qu'est-ce qui reste flou ?"
   ]
  },
  {
   "cell_type": "markdown",
   "id": "11c96c8d",
   "metadata": {},
   "source": [
    "## 10. Resources / 10. Ressources\n",
    "- https://docs.python.org/3/library/stdtypes.html\n",
    "- https://realpython.com/python-data-types/\n",
    "- https://www.w3schools.com/python/python_lists.asp"
   ]
  }
 ],
 "metadata": {},
 "nbformat": 4,
 "nbformat_minor": 5
}
