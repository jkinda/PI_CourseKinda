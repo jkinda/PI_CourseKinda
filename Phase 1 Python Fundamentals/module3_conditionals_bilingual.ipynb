{
 "cells": [
  {
   "cell_type": "markdown",
   "id": "795b5b2f",
   "metadata": {},
   "source": [
    "# Module 3: Conditionals\n",
    "## Module 3 : Instructions conditionnelles"
   ]
  },
  {
   "cell_type": "markdown",
   "id": "5fdcb1dd",
   "metadata": {},
   "source": [
    "## 1. Why This Matters / 1. Pourquoi c'est important\n",
    "- **English:** Conditionals let your program make decisions: choose different actions based on data.\n",
    "- **Français :** Les instructions conditionnelles permettent à votre programme de prendre des décisions : exécuter des actions différentes selon les données."
   ]
  },
  {
   "cell_type": "markdown",
   "id": "2ddd3a84",
   "metadata": {},
   "source": [
    "## 2. Spaced & Interleaved Review / 2. Révision espacée et mélangée\n",
    "- **Flash-back:** How do you get user input? / Comment récupère-t-on la saisie utilisateur ?\n",
    "- **Interleaving:** How could you check a variable before printing? / Comment vérifier une variable avant d'afficher ?"
   ]
  },
  {
   "cell_type": "markdown",
   "id": "72f31d60",
   "metadata": {},
   "source": [
    "## 3. Quick Quiz / 3. Quiz rapide\n",
    "1. True or False: The `else` block runs when `if` is False. / Vrai ou Faux : le bloc `else` s’exécute si `if` est Faux.\n",
    "2. How do you write a one-line conditional expression? / Comment écrire une expression conditionnelle sur une seule ligne ?\n",
    "3. Which keyword checks multiple conditions in order? / Quel mot-clé teste plusieurs conditions dans l'ordre ?\n",
    "4. What Python version introduced `match-case`? / Quelle version de Python a introduit `match-case` ?"
   ]
  },
  {
   "cell_type": "markdown",
   "id": "25bb1943",
   "metadata": {},
   "source": [
    "## 4. Learning Objectives / 4. Objectifs d'apprentissage\n",
    "By the end, you can: / À la fin, vous pourrez :\n",
    "- Use `if`, `elif`, and `else` for branching. / Utiliser `if`, `elif` et `else` pour bifurcation.\n",
    "- Write conditional expressions (ternary). / Écrire des expressions conditionnelles (ternaires).\n",
    "- Use `match-case` to check patterns. / Utiliser `match-case` pour gérer des motifs."
   ]
  },
  {
   "cell_type": "markdown",
   "id": "26886bbe",
   "metadata": {},
   "source": [
    "## 5. Core Content / 5. Contenu principal\n",
    "- **`if/elif/else`:** Basic branching. / Bifurcation basique.\n",
    "- **Conditional expressions:** `x if cond else y`. / Expression `x if cond else y`.\n",
    "- **`match-case` (3.10+):** Pattern matching. / Correspondance de motifs.\n",
    "\n",
    "**Example (conditionals_finished.py) / Exemple :**\n",
    "```python\n",
    "# conditionals_finished.py\n",
    "age = int(input(\"Enter your age: \"))\n",
    "if age < 13:\n",
    "    print(\"You're a child.\")\n",
    "elif age < 20:\n",
    "    print(\"You're a teenager.\")\n",
    "else:\n",
    "    print(\"You're an adult.\")\n",
    "\n",
    "score = 85\n",
    "result = 'Pass' if score >= 60 else 'Fail'\n",
    "print(f'Result: {result}')\n",
    "\n",
    "command = 'start'\n",
    "match command:\n",
    "    case 'start':\n",
    "        print('Started')\n",
    "    case 'stop':\n",
    "        print('Stopped')\n",
    "    case _:\n",
    "        print('Unknown command')\n",
    "```"
   ]
  },
  {
   "cell_type": "markdown",
   "id": "991c85d8",
   "metadata": {},
   "source": [
    "## 6. Starter Code (Incomplete) / 6. Code de démarrage (incomplet)\n",
    "Complete the TODOs to categorize a number and use match-case. / Complétez les TODO pour catégoriser un nombre et utiliser match-case."
   ]
  },
  {
   "cell_type": "code",
   "execution_count": null,
   "id": "636388ad",
   "metadata": {},
   "outputs": [],
   "source": [
    "# conditionals_starter.py\n",
    "num = int(input(\"Enter a number: \"))\n",
    "# TODO: if num is negative, print 'Negative'\n",
    "# TODO: elif num is zero, print 'Zero'\n",
    "# TODO: else, print 'Positive'\n",
    "\n",
    "day = input(\"Enter day (Mon/Tue/...): \")\n",
    "# TODO: use match-case to print 'Weekday' for Mon-Fri, 'Weekend' for Sat/Sun, 'Invalid' otherwise\n"
   ]
  },
  {
   "cell_type": "markdown",
   "id": "3006d5c0",
   "metadata": {},
   "source": [
    "## 7. Hands-On Project: Age and Day Classifier / 7. Projet pratique : Classificateur d'âge et de jour\n",
    "- **Description:** Write a script that:\n",
    "  1. Asks for age and prints 'Child','Teen','Adult'.\n",
    "  2. Asks for a day code (Mon, Tue, ...), uses match-case to print 'Weekday','Weekend', or 'Invalid'.\n",
    "- **Rubric / Barème:**\n",
    "  - Correct branching: 40% / Bifurcation correcte : 40%\n",
    "  - Use of conditional expression: 20% / Utilisation d'expression conditionnelle : 20%\n",
    "  - Use of match-case: 20% / Utilisation de match-case : 20%\n",
    "  - Code clarity & comments: 20% / Clarté du code & commentaires : 20%"
   ]
  },
  {
   "cell_type": "markdown",
   "id": "6a04f08b",
   "metadata": {},
   "source": [
    "## 8. Stretch Tasks / 8. Tâches supplémentaires\n",
    "- Combine multiple conditions with logical operators. / Combinez plusieurs conditions avec `and`/`or`.\n",
    "- Handle uppercase/lowercase day inputs. / Gérez majuscules/minuscules pour le jour.\n",
    "- Refactor age categories into a function. / Refactorez les catégories d'âge en fonction."
   ]
  },
  {
   "cell_type": "markdown",
   "id": "081f7d8c",
   "metadata": {},
   "source": [
    "## 9. Reflection / 9. Réflexion\n",
    "- **Summary:** How do conditionals help decision-making? / Comment les conditions aident-elles à la prise de décision ?\n",
    "- **Muddiest point:** Any confusion with match-case? / Des doutes sur match-case ?"
   ]
  },
  {
   "cell_type": "markdown",
   "id": "90bf3b11",
   "metadata": {},
   "source": [
    "## 10. Resources / 10. Ressources\n",
    "- https://docs.python.org/3/tutorial/controlflow.html#if-statements\n",
    "- https://docs.python.org/3/reference/expressions.html#conditional-expressions\n",
    "- https://docs.python.org/3/reference/compound_stmts.html#match"
   ]
  }
 ],
 "metadata": {},
 "nbformat": 4,
 "nbformat_minor": 5
}
