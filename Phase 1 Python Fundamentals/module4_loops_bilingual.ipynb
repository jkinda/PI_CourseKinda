{
 "cells": [
  {
   "cell_type": "markdown",
   "id": "fd8a8275",
   "metadata": {},
   "source": [
    "# Module 4: Loops\n",
    "## Module 4 : Boucles"
   ]
  },
  {
   "cell_type": "markdown",
   "id": "4cdc5bb6",
   "metadata": {},
   "source": [
    "## 1. Why This Matters / 1. Pourquoi c'est important\n",
    "- **English:** Loops let your program repeat tasks without copying code. `while` runs until a condition changes, `for` goes over items.\n",
    "- **Français :** Les boucles permettent de répéter des tâches sans copier le code. `while` s’exécute tant qu'une condition est vraie, `for` parcourt les éléments."
   ]
  },
  {
   "cell_type": "markdown",
   "id": "91fbf0f1",
   "metadata": {},
   "source": [
    "## 2. Spaced & Interleaved Review / 2. Révision espacée et mélangée\n",
    "- **Flash-back:** How do you make an if-statement? / Comment fait-on une instruction if ?\n",
    "- **Interleaving:** How might you use `break` inside a conditional? / Comment utiliser `break` dans une condition ?"
   ]
  },
  {
   "cell_type": "markdown",
   "id": "123d41d4",
   "metadata": {},
   "source": [
    "## 3. Quick Quiz / 3. Quiz rapide\n",
    "1. True or False: `for i in range(3):` runs three times. / Vrai ou Faux : `for i in range(3):` s'exécute trois fois.\n",
    "2. What stops a loop early? / Qu'est-ce qui arrête une boucle plus tôt ?\n",
    "3. How do you skip to the next loop iteration? / Comment passer à l'itération suivante ?\n",
    "4. What does `enumerate(['a','b'])` return? / Que renvoie `enumerate(['a','b'])` ?"
   ]
  },
  {
   "cell_type": "markdown",
   "id": "17b61876",
   "metadata": {},
   "source": [
    "## 4. Learning Objectives / 4. Objectifs d'apprentissage\n",
    "By the end, you can: / À la fin, vous pourrez :\n",
    "- Write `while` loops with a condition. / Écrire des boucles `while` avec une condition.\n",
    "- Write `for` loops over lists or ranges. / Écrire des boucles `for` sur des listes ou des plages.\n",
    "- Use `break`, `continue`, and `enumerate()` for control. / Utiliser `break`, `continue` et `enumerate()` pour contrôler la boucle."
   ]
  },
  {
   "cell_type": "markdown",
   "id": "2fc7dbf9",
   "metadata": {},
   "source": [
    "## 5. Core Content / 5. Contenu principal\n",
    "- **while loops / boucles while:**\n",
    "  ```python\n",
    "  count = 0\n",
    "  while count < 3:\n",
    "      print(count)\n",
    "      count += 1\n",
    "  ```\n",
    "- **for loops / boucles for:**\n",
    "  ```python\n",
    "  for item in ['a', 'b', 'c']:\n",
    "      print(item)\n",
    "  ```\n",
    "- **break:** exit the loop. / sortir de la boucle.\n",
    "- **continue:** skip to next iteration. / passer à l'itération suivante.\n",
    "- **enumerate():** get index and value. / obtenir indice et valeur.\n",
    "  ```python\n",
    "  for idx, val in enumerate(['x', 'y']):\n",
    "      print(idx, val)\n",
    "  ```\n",
    "\n",
    "**Example (loops_finished.py) / Exemple :**\n",
    "```python\n",
    "# loops_finished.py\n",
    "numbers = [1, 2, 3, 4, 5]\n",
    "for num in numbers:\n",
    "    if num == 3:\n",
    "        break  # stop at 3\n",
    "    print(num)\n",
    "\n",
    "i = 0\n",
    "while i < 5:\n",
    "    i += 1\n",
    "    if i % 2 == 0:\n",
    "        continue  # skip even\n",
    "    print(i)\n",
    "\n",
    "for idx, char in enumerate('loop'):\n",
    "    print(idx, char)\n",
    "```"
   ]
  },
  {
   "cell_type": "markdown",
   "id": "2156b474",
   "metadata": {},
   "source": [
    "## 6. Starter Code (Incomplete) / 6. Code de démarrage (incomplet)\n",
    "Complete the TODOs to loop with break, continue, and enumerate. / Complétez les TODO pour utiliser break, continue, et enumerate."
   ]
  },
  {
   "cell_type": "code",
   "execution_count": null,
   "id": "8ce80049",
   "metadata": {},
   "outputs": [],
   "source": [
    "# loops_starter.py\n",
    "# TODO: use a for-loop to go through numbers 1 to 5\n",
    "#       print each number\n",
    "# TODO: stop the loop when number is 4\n",
    "\n",
    "# TODO: use a while-loop to count down from 3\n",
    "#       skip printing 2\n",
    "\n",
    "# TODO: use enumerate on ['a','b','c'] and print index and value\n"
   ]
  },
  {
   "cell_type": "markdown",
   "id": "32c95c46",
   "metadata": {},
   "source": [
    "## 7. Hands-On Project: List Processor / 7. Projet pratique : Traitement de liste\n",
    "- **Description:** Write a script that takes a list of names, prints each with its number (1-based), stops if it sees 'stop', and then prints how many were processed.\n",
    "- **Rubric / Barème:**\n",
    "  - Correct use of for, break, enumerate: 50% / Utilisation correcte de for, break, enumerate : 50%\n",
    "  - Works with while count: 20% / Fonctionne avec boucle while : 20%\n",
    "  - Code comments and clarity: 20% / Commentaires et clarté : 20%\n",
    "  - Handles 'stop' correctly: 10% / Gère 'stop' correctement : 10%"
   ]
  },
  {
   "cell_type": "markdown",
   "id": "bd0b0d9b",
   "metadata": {},
   "source": [
    "## 8. Stretch Tasks / 8. Tâches supplémentaires\n",
    "- Add a prompt to ask user for the list of names. / Ajoutez une invite pour demander la liste de noms.\n",
    "- Allow user to choose break word instead of 'stop'. / Permettez de choisir le mot d'arrêt.\n",
    "- Refactor processing into a function. / Refactorez le traitement en fonction."
   ]
  },
  {
   "cell_type": "markdown",
   "id": "128ae677",
   "metadata": {},
   "source": [
    "## 9. Reflection / 9. Réflexion\n",
    "- **Summary:** How do loops make coding easier? / Comment les boucles simplifient-elles le code ?\n",
    "- **Muddiest point:** Anything unclear about continue? / Quelque chose de flou sur continue ?"
   ]
  },
  {
   "cell_type": "markdown",
   "id": "cbfc14c9",
   "metadata": {},
   "source": [
    "## 10. Resources / 10. Ressources\n",
    "- https://docs.python.org/3/tutorial/controlflow.html#while-statements\n",
    "- https://docs.python.org/3/tutorial/controlflow.html#for-statements\n",
    "- https://docs.python.org/3/library/functions.html#enumerate"
   ]
  }
 ],
 "metadata": {},
 "nbformat": 4,
 "nbformat_minor": 5
}
