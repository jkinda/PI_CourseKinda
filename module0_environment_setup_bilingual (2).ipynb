{
 "cells": [
  {
   "cell_type": "markdown",
   "id": "6c948d30",
   "metadata": {},
   "source": [
    "# Module 0: Environment Setup and Tools\n",
    "## Module 0 : Installation de l'environnement et outils"
   ]
  },
  {
   "cell_type": "markdown",
   "id": "db3f6eef",
   "metadata": {},
   "source": [
    "## 1. Why This Matters / 1. Pourquoi c'est important\n",
    "The right setup helps you run code without errors and saves time.\n",
    "La bonne installation vous permet de faire tourner le code sans erreurs et vous fait gagner du temps."
   ]
  },
  {
   "cell_type": "markdown",
   "id": "b53391ed",
   "metadata": {},
   "source": [
    "## 2. Spaced & Interleaved Review / 2. Révision espacée et mélangée\n",
    "No previous module to review.\n",
    "Aucun module précédent à réviser."
   ]
  },
  {
   "cell_type": "markdown",
   "id": "58437b3e",
   "metadata": {},
   "source": [
    "## 3. Quick Quiz / 3. Quiz rapide\n",
    "1. True or False: `python3 -m venv env` creates a new virtual environment.\n",
    "   Vrai ou Faux : `python3 -m venv env` crée un nouvel environnement virtuel.\n",
    "2. Which command installs a package? `pip install <package>` or `python setup.py install`?\n",
    "   Quelle commande installe un paquet ? `pip install <package>` ou `python setup.py install` ?\n",
    "3. Name two ways to run Python interactively.\n",
    "   Nommez deux façons d'exécuter Python de manière interactive.\n",
    "4. In VS Code, what file sets the Python interpreter? / Dans VS Code, quel fichier définit l'interpréteur Python ?\n",
    "5. True or False: Google Colab works without local install.\n",
    "   Vrai ou Faux : Google Colab fonctionne sans installation locale."
   ]
  },
  {
   "cell_type": "markdown",
   "id": "bad79b6a",
   "metadata": {},
   "source": [
    "## 4. Learning Objectives / 4. Objectifs d'apprentissage\n",
    "By the end, you can:\n",
    "- Install Python 3.10+ and pip. / Installer Python 3.10+ et pip.\n",
    "- Use `venv` to make and use virtual environments. / Utiliser `venv` pour créer et activer des environnements virtuels.\n",
    "- Pick and set up an editor (VS Code, PyCharm, Jupyter). / Choisir et configurer un éditeur (VS Code, PyCharm, Jupyter).\n",
    "- Run code in REPL, script, and notebook. / Exécuter du code en REPL, script et notebook."
   ]
  },
  {
   "cell_type": "markdown",
   "id": "10350d7a",
   "metadata": {},
   "source": [
    "## 5. Core Content / 5. Contenu principal\n",
    "- **Installing Python:** Download from python.org, add to PATH, check with `python --version`.\n",
    "  **Installation de Python :** Téléchargez sur python.org, ajoutez au PATH, vérifiez avec `python --version`.\n",
    "- **pip & venv:** Upgrade pip with `python -m pip install --upgrade pip`. Create env: `python -m venv env`. Activate: `source env/bin/activate` (Mac/Linux) or `env\\Scripts\\activate` (Windows).\n",
    "  **pip & venv :** Mettez à jour pip avec `python -m pip install --upgrade pip`. Créez l'env : `python -m venv env`. Activez : `source env/bin/activate` (Mac/Linux) ou `env\\Scripts\\activate` (Windows).\n",
    "- **Editors:**\n",
    "  - VS Code: install Python extension, choose interpreter. / Installez l'extension Python, sélectionnez l'interpréteur.\n",
    "  - PyCharm: set project interpreter. / Configurez l'interpréteur du projet.\n",
    "  - Jupyter: `pip install notebook`, then `jupyter notebook`. / `pip install notebook`, puis `jupyter notebook`.\n",
    "- **Running code:**\n",
    "  - REPL: type `python` or `python3`. / Tapez `python` ou `python3`.\n",
    "  - Script: `python script.py`. / `python script.py`.\n",
    "  - Notebook: use Jupyter or Colab. / Utilisez Jupyter ou Colab."
   ]
  },
  {
   "cell_type": "code",
   "execution_count": null,
   "id": "bb781156",
   "metadata": {},
   "outputs": [],
   "source": [
    "import sys\n",
    "print('Python version:', sys.version)\n",
    "!pip --version"
   ]
  },
  {
   "cell_type": "markdown",
   "id": "1eeae90c",
   "metadata": {},
   "source": [
    "## 6. Starter Code (Incomplete) / 6. Code de démarrage (incomplet)\n",
    "Fill in the TODO to detect OS and show venv command. / Remplissez le TODO pour détecter l'OS et afficher la commande venv."
   ]
  },
  {
   "cell_type": "code",
   "execution_count": null,
   "id": "0619feb6",
   "metadata": {},
   "outputs": [],
   "source": [
    "# env_setup_starter.py\n",
    "import platform\n",
    "\n",
    "def show_venv_command():\n",
    "    os_name = platform.system()\n",
    "    # TODO: if os_name == 'Windows', print 'env\\\\Scripts\\\\activate', else print 'source env/bin/activate'\n",
    "\n",
    "show_venv_command()"
   ]
  },
  {
   "cell_type": "markdown",
   "id": "02b2f6af",
   "metadata": {},
   "source": [
    "## 7. Hands-On Project / 7. Projet pratique\n",
    "**Personal Lab Setup** / **Installation perso**\n",
    "- Install Python, create venv, and run a `hello.py` that prints 'Hello, Python!'. / Installez Python, créez un venv, et exécutez un `hello.py` affichant 'Hello, Python!'.\n",
    "- Show screenshot or notes for editor setup. / Montrez une capture ou notes pour la configuration éditeur.\n",
    "\n",
    "**Rubric / Barème**\n",
    "- Env install: 50%\n",
    "- Venv: 20%\n",
    "- Editor: 20%\n",
    "- Hello script: 10%"
   ]
  },
  {
   "cell_type": "markdown",
   "id": "4889cb99",
   "metadata": {},
   "source": [
    "## 8. Stretch Tasks / 8. Tâches supplémentaires\n",
    "- Use Conda to make an env. / Utilisez Conda pour créer un env.\n",
    "- Write a Dockerfile for a Python image. / Écrivez un Dockerfile pour une image Python.\n",
    "- Add GitHub Actions to check Python version. / Ajoutez GitHub Actions pour vérifier la version Python."
   ]
  },
  {
   "cell_type": "markdown",
   "id": "8c539dd8",
   "metadata": {},
   "source": [
    "## 9. Reflection / 9. Réflexion\n",
    "- In one sentence, what helped you most? / En une phrase, qu'est-ce qui vous a le plus aidé ?\n",
    "- What's still unclear? / Qu'est-ce qui reste flou ?"
   ]
  },
  {
   "cell_type": "markdown",
   "id": "72842a48",
   "metadata": {},
   "source": [
    "## 10. Resources / 10. Ressources\n",
    "- https://python.org/downloads\n",
    "- https://marketplace.visualstudio.com/items?itemName=ms-python.python\n",
    "- https://www.jetbrains.com/pycharm/\n",
    "- https://jupyter.org/documentation\n",
    "- https://colab.research.google.com/"
   ]
  }
 ],
 "metadata": {},
 "nbformat": 4,
 "nbformat_minor": 5
}
